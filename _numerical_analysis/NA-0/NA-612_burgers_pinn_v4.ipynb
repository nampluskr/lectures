{
 "cells": [
  {
   "cell_type": "markdown",
   "metadata": {},
   "source": [
    "- https://github.com/omniscientoctopus/Physics-Informed-Neural-Networks/blob/main/PyTorch/Burgers'%20Equation/Burgers.ipynb"
   ]
  },
  {
   "cell_type": "code",
   "execution_count": 12,
   "metadata": {},
   "outputs": [
    {
     "name": "stdout",
     "output_type": "stream",
     "text": [
      "cuda\n"
     ]
    }
   ],
   "source": [
    "import torch\n",
    "import torch.autograd as autograd         # computation graph\n",
    "from torch import Tensor                  # tensor node in the computation graph\n",
    "import torch.nn as nn                     # neural networks\n",
    "import torch.optim as optim               # optimizers e.g. gradient descent, ADAM, etc.\n",
    "\n",
    "import matplotlib.pyplot as plt\n",
    "import matplotlib.gridspec as gridspec\n",
    "from mpl_toolkits.axes_grid1 import make_axes_locatable\n",
    "from mpl_toolkits.mplot3d import Axes3D\n",
    "import matplotlib.ticker\n",
    "\n",
    "import numpy as np\n",
    "import time\n",
    "from pyDOE import lhs         #Latin Hypercube Sampling\n",
    "import scipy.io\n",
    "\n",
    "torch.set_default_dtype(torch.float)\n",
    "torch.manual_seed(1234)\n",
    "np.random.seed(1234)\n",
    "device = torch.device('cuda' if torch.cuda.is_available() else 'cpu')\n",
    "\n",
    "print(device)\n",
    "\n",
    "if device == 'cuda': \n",
    "    print(torch.cuda.get_device_name()) "
   ]
  },
  {
   "cell_type": "code",
   "execution_count": 16,
   "metadata": {},
   "outputs": [
    {
     "name": "stdout",
     "output_type": "stream",
     "text": [
      "(256, 1) (100, 1)\n",
      "(100, 256) (100, 1)\n",
      "usol (256, 100)\n"
     ]
    }
   ],
   "source": [
    "data = scipy.io.loadmat('burgers_shock.mat')\n",
    "x = data['x']               # 256 points between -1 and 1 [256x1]\n",
    "t = data['t']               # 100 time points between 0 and 1 [100x1] \n",
    "usol = data['usol']         # solution of 256x100 grid points\n",
    "\n",
    "X, T = np.meshgrid(x, t)    # makes 2 arrays X and T such that u(X[i],T[j])=usol[i][j] are a tuple\n",
    "print(x.shape, t.shape)\n",
    "print(X.shape, t.shape)\n",
    "print(\"usol\", usol.shape)"
   ]
  },
  {
   "cell_type": "code",
   "execution_count": 18,
   "metadata": {},
   "outputs": [
    {
     "name": "stdout",
     "output_type": "stream",
     "text": [
      "u_true (25600, 1)\n"
     ]
    }
   ],
   "source": [
    "''' X_u_test = [X[i],T[i]] [25600, 2] for interpolation'''\n",
    "X_u_test = np.hstack((X.flatten()[:, None], T.flatten()[:, None]))\n",
    "\n",
    "# Domain bounds\n",
    "lb = X_u_test[0]  # [-1. 0.]\n",
    "ub = X_u_test[-1] # [1.  0.99]\n",
    "\n",
    "u_true = usol.flatten()[:, None] \n",
    "print(\"u_true\", u_true.shape)"
   ]
  },
  {
   "cell_type": "code",
   "execution_count": 42,
   "metadata": {},
   "outputs": [
    {
     "name": "stdout",
     "output_type": "stream",
     "text": [
      "leftedge:   (256, 2) (256, 1)\n",
      "bottomedge: (100, 2) (100, 1)\n",
      "topedge     (100, 2) (100, 1)\n",
      "all (456, 2) (456, 1)\n"
     ]
    }
   ],
   "source": [
    "#Initial Condition at t = 0\n",
    "leftedge_x = np.hstack((X[0, :][:, None], T[0, :][:, None]))\n",
    "leftedge_u = usol[:, 0][:, None]\n",
    "print(\"leftedge:  \", leftedge_x.shape, leftedge_u.shape)\n",
    "\n",
    "#Boundary Condition at x = -1\n",
    "bottomedge_x = np.hstack((X[:, 0][:, None], T[:, 0][:, None]))\n",
    "bottomedge_u = usol[-1, :][:, None]\n",
    "print(\"bottomedge:\", bottomedge_x.shape, bottomedge_u.shape)\n",
    "\n",
    "#Boundary Condition at x = 1\n",
    "topedge_x = np.hstack((X[:, -1][:, None], T[:, 0][:, None]))\n",
    "topedge_u = usol[0, :][:, None]\n",
    "print(\"topedge    \", topedge_x.shape, topedge_u.shape)\n",
    "\n",
    "all_X_u_train = np.vstack([leftedge_x, bottomedge_x, topedge_x]) # X_u_train [456,2] (456 = 256(L1)+100(L2)+100(L3))\n",
    "all_u_train = np.vstack([leftedge_u, bottomedge_u, topedge_u])   #corresponding u [456x1]\n",
    "print(\"all\", all_X_u_train.shape, all_u_train.shape)"
   ]
  },
  {
   "cell_type": "code",
   "execution_count": 51,
   "metadata": {},
   "outputs": [
    {
     "name": "stdout",
     "output_type": "stream",
     "text": [
      "(100, 2) (100, 1)\n",
      "(10000, 2)\n",
      "(10100, 2)\n"
     ]
    }
   ],
   "source": [
    "N_u = 100       # Total number of data points for 'u'\n",
    "N_f = 10000     # Total number of collocation points\n",
    "\n",
    "#choose random N_u points for training\n",
    "idx = np.random.choice(all_X_u_train.shape[0], N_u, replace=False)\n",
    "\n",
    "X_u_train = all_X_u_train[idx, :] #choose indices from  set 'idx' (x,t)\n",
    "u_train = all_u_train[idx,:]      #choose corresponding u\n",
    "print(X_u_train.shape, u_train.shape)\n",
    "\n",
    "## Collocation Points\n",
    "# Latin Hypercube sampling for collocation points\n",
    "# N_f sets of tuples(x, t)\n",
    "lb = np.array([-1.0, 0.0])\n",
    "ub = np.array([1.0, 1.0])\n",
    "X_f_train = lb + (ub - lb)*lhs(2, N_f)\n",
    "print(X_f_train.shape)\n",
    "\n",
    "X_f_train = np.vstack((X_f_train, X_u_train)) # append training points to collocation points\n",
    "print(X_f_train.shape)"
   ]
  },
  {
   "cell_type": "code",
   "execution_count": 94,
   "metadata": {},
   "outputs": [],
   "source": [
    "class Sequentialmodel(nn.Module):\n",
    "\n",
    "    def __init__(self, layers):\n",
    "        super().__init__()\n",
    "\n",
    "        self.activation = nn.Tanh()\n",
    "        self.loss_function = nn.MSELoss(reduction ='mean')\n",
    "        self.linears = nn.ModuleList([nn.Linear(layers[i], layers[i+1]) for i in range(len(layers)-1)])\n",
    "        self.iter = 0\n",
    "\n",
    "        for i in range(len(layers)-1):\n",
    "            nn.init.xavier_normal_(self.linears[i].weight.data, gain=1.0)\n",
    "            nn.init.zeros_(self.linears[i].bias.data)\n",
    "\n",
    "    def forward(self,x):\n",
    "        if torch.is_tensor(x) != True:\n",
    "            x = torch.from_numpy(x)\n",
    "\n",
    "        u_b = torch.from_numpy(ub).float().to(device)\n",
    "        l_b = torch.from_numpy(lb).float().to(device)\n",
    "\n",
    "        # preprocessing input\n",
    "        x = (x - l_b)/(u_b - l_b) #feature scaling\n",
    "\n",
    "        #convert to float\n",
    "        a = x.float()\n",
    "\n",
    "        for i in range(len(layers)-2):\n",
    "            z = self.linears[i](a)\n",
    "            a = self.activation(z)\n",
    "\n",
    "        a = self.linears[-1](a)\n",
    "        return a\n",
    "\n",
    "    def loss_BC(self,x,y):\n",
    "        loss_u = self.loss_function(self.forward(x), y)\n",
    "        return loss_u\n",
    "\n",
    "    def loss_PDE(self, x_to_train_f):\n",
    "        nu = 0.01/np.pi\n",
    "\n",
    "        x_1_f = x_to_train_f[:, [0]]\n",
    "        x_2_f = x_to_train_f[:, [1]]\n",
    "\n",
    "        g = x_to_train_f.clone()\n",
    "        g.requires_grad = True\n",
    "\n",
    "        u = self.forward(g)\n",
    "        u_x_t = autograd.grad(u, g, torch.ones([x_to_train_f.shape[0], 1]).to(device), retain_graph=True, create_graph=True)[0]\n",
    "        u_xx_tt = autograd.grad(u_x_t, g,torch.ones(x_to_train_f.shape).to(device), create_graph=True)[0]\n",
    "\n",
    "        u_x = u_x_t[:,[0]]\n",
    "        u_t = u_x_t[:,[1]]\n",
    "        u_xx = u_xx_tt[:,[0]]\n",
    "\n",
    "        f = u_t + (self.forward(g))*(u_x) - (nu)*u_xx\n",
    "        loss_f = self.loss_function(f, f_hat)\n",
    "        return loss_f\n",
    "\n",
    "    def loss(self, x, y, x_to_train_f):\n",
    "\n",
    "        loss_u = self.loss_BC(x,y)\n",
    "        loss_f = self.loss_PDE(x_to_train_f)\n",
    "\n",
    "        loss_val = loss_u + loss_f\n",
    "\n",
    "        return loss_val\n",
    "\n",
    "    def closure(self):\n",
    "        optimizer.zero_grad()\n",
    "        loss = self.loss(X_u_train, u_train, X_f_train)\n",
    "        loss.backward()\n",
    "        self.iter += 1\n",
    "\n",
    "        if self.iter % 100 == 0:\n",
    "            test_loss, _ = PINN.test()\n",
    "            print(f\"loss: {loss.item():.2e}, error_vec: {test_loss.item():.2e}\")\n",
    "        return loss\n",
    "\n",
    "    def test(self):\n",
    "        u_pred = self.forward(X_u_test_tensor)\n",
    "        error_vec = torch.linalg.norm((u - u_pred),2)/torch.linalg.norm(u, 2)        # Relative L2 Norm of the error (Vector)\n",
    "        u_pred = u_pred.cpu().detach().numpy()\n",
    "        u_pred = np.reshape(u_pred,(256, 100),order='F')\n",
    "        return error_vec, u_pred"
   ]
  },
  {
   "cell_type": "code",
   "execution_count": null,
   "metadata": {},
   "outputs": [
    {
     "ename": "TypeError",
     "evalue": "expected np.ndarray (got Tensor)",
     "output_type": "error",
     "traceback": [
      "\u001b[0;31m---------------------------------------------------------------------------\u001b[0m",
      "\u001b[0;31mTypeError\u001b[0m                                 Traceback (most recent call last)",
      "Cell \u001b[0;32mIn[96], line 11\u001b[0m\n\u001b[1;32m      8\u001b[0m u_train_np_array \u001b[38;5;241m=\u001b[39m u_train\n\u001b[1;32m     10\u001b[0m \u001b[38;5;124m'\u001b[39m\u001b[38;5;124mConvert to tensor and send to GPU\u001b[39m\u001b[38;5;124m'\u001b[39m\n\u001b[0;32m---> 11\u001b[0m X_f_train \u001b[38;5;241m=\u001b[39m \u001b[43mtorch\u001b[49m\u001b[38;5;241;43m.\u001b[39;49m\u001b[43mfrom_numpy\u001b[49m\u001b[43m(\u001b[49m\u001b[43mX_f_train_np_array\u001b[49m\u001b[43m)\u001b[49m\u001b[38;5;241m.\u001b[39mfloat()\u001b[38;5;241m.\u001b[39mto(device)\n\u001b[1;32m     12\u001b[0m X_u_train \u001b[38;5;241m=\u001b[39m torch\u001b[38;5;241m.\u001b[39mfrom_numpy(X_u_train_np_array)\u001b[38;5;241m.\u001b[39mfloat()\u001b[38;5;241m.\u001b[39mto(device)\n\u001b[1;32m     13\u001b[0m u_train \u001b[38;5;241m=\u001b[39m torch\u001b[38;5;241m.\u001b[39mfrom_numpy(u_train_np_array)\u001b[38;5;241m.\u001b[39mfloat()\u001b[38;5;241m.\u001b[39mto(device)\n",
      "\u001b[0;31mTypeError\u001b[0m: expected np.ndarray (got Tensor)"
     ]
    }
   ],
   "source": [
    "# 'Generate Training data'\n",
    "# N_u = 100 #Total number of data points for 'u'\n",
    "# N_f = 10_000 #Total number of collocation points\n",
    "# X_f_train_np_array, X_u_train_np_array, u_train_np_array = trainingdata(N_u,N_f)\n",
    "\n",
    "X_f_train_np_array = X_f_train\n",
    "X_u_train_np_array = X_u_train\n",
    "u_train_np_array = u_train\n",
    "\n",
    "'Convert to tensor and send to GPU'\n",
    "X_f_train = torch.from_numpy(X_f_train_np_array).float().to(device)\n",
    "X_u_train = torch.from_numpy(X_u_train_np_array).float().to(device)\n",
    "u_train = torch.from_numpy(u_train_np_array).float().to(device)\n",
    "X_u_test_tensor = torch.from_numpy(X_u_test).float().to(device)\n",
    "u = torch.from_numpy(u_true).float().to(device)\n",
    "f_hat = torch.zeros(X_f_train.shape[0],1).to(device)"
   ]
  },
  {
   "cell_type": "code",
   "execution_count": null,
   "metadata": {},
   "outputs": [
    {
     "name": "stdout",
     "output_type": "stream",
     "text": [
      "0.0891849547624588 1.1480246782302856\n",
      "0.060737378895282745 1.1992253065109253\n",
      "0.026348408311605453 1.3119443655014038\n",
      "Training time: 20.78\n"
     ]
    }
   ],
   "source": [
    "# ## L-BFGS Optimizer\n",
    "# layers = np.array([2, 20, 20, 20, 20, 20, 20, 20, 20, 1])\n",
    "# PINN = Sequentialmodel(layers).to(device)\n",
    "# optimizer = torch.optim.LBFGS(PINN.parameters(), lr=0.1,\n",
    "#                               max_iter = 250,\n",
    "#                               max_eval = None,\n",
    "#                               tolerance_grad = 1e-05,\n",
    "#                               tolerance_change = 1e-09,\n",
    "#                               history_size = 100,\n",
    "#                               line_search_fn = 'strong_wolfe')\n",
    "\n",
    "# start_time = time.time()\n",
    "# optimizer.step(PINN.closure)\n",
    "# elapsed = time.time() - start_time\n",
    "# print('Training time: %.2f' % (elapsed))"
   ]
  },
  {
   "cell_type": "code",
   "execution_count": 139,
   "metadata": {},
   "outputs": [
    {
     "name": "stdout",
     "output_type": "stream",
     "text": [
      "[ 500/5000] loss: 6.86e-02, error 1.17e+00\n",
      "[1000/5000] loss: 4.91e-02, error 1.22e+00\n",
      "[1500/5000] loss: 2.73e-02, error 1.29e+00\n",
      "[2000/5000] loss: 1.42e-02, error 1.34e+00\n",
      "[2500/5000] loss: 9.84e-03, error 1.36e+00\n",
      "[3000/5000] loss: 7.92e-03, error 1.38e+00\n",
      "[3500/5000] loss: 6.63e-03, error 1.38e+00\n",
      "[4000/5000] loss: 5.17e-03, error 1.39e+00\n",
      "[4500/5000] loss: 4.26e-03, error 1.39e+00\n",
      "[5000/5000] loss: 3.70e-03, error 1.40e+00\n",
      "Training time: 77.47\n"
     ]
    }
   ],
   "source": [
    "## Adam Optimizer\n",
    "layers = np.array([2, 20, 20, 20, 20, 1])\n",
    "PINN = Sequentialmodel(layers).to(device)\n",
    "optimizer = optim.Adam(PINN.parameters(), lr=0.001)\n",
    "n_epochs = 5000\n",
    "\n",
    "start_time = time.time()\n",
    "for epoch in range(1, n_epochs + 1):\n",
    "\n",
    "    loss = PINN.loss(X_u_train, u_train, X_f_train)\n",
    "\n",
    "    optimizer.zero_grad()     # zeroes the gradient buffers of all parameters\n",
    "    loss.backward() #backprop\n",
    "    optimizer.step()\n",
    "\n",
    "    if epoch % (n_epochs // 10) == 0:\n",
    "        error_vec, _ = PINN.test()\n",
    "        print(f\"[{epoch:4d}/{n_epochs}] loss: {loss.item():.2e}, error {error_vec.item():.2e}\")\n",
    "\n",
    "elapsed = time.time() - start_time\n",
    "print('Training time: %.2f' % (elapsed))"
   ]
  },
  {
   "cell_type": "code",
   "execution_count": 140,
   "metadata": {},
   "outputs": [
    {
     "name": "stdout",
     "output_type": "stream",
     "text": [
      "(256, 100)\n"
     ]
    },
    {
     "data": {
      "image/png": "[encoded data removed]",
      "text/plain": [
       "<Figure size 600x300 with 2 Axes>"
      ]
     },
     "metadata": {},
     "output_type": "display_data"
    }
   ],
   "source": [
    "with torch.no_grad():\n",
    "    u_pred = PINN(X_u_test_tensor)\n",
    "u_pred = u_pred.cpu().detach().numpy().reshape(100, 256).T\n",
    "print(u_pred.shape)\n",
    "\n",
    "fig, ax = plt.subplots(figsize=(6, 3))\n",
    "h = ax.imshow(u_pred, interpolation='nearest', cmap='rainbow', \n",
    "            extent=[T.min(), T.max(), X.min(), X.max()], \n",
    "            origin='lower', aspect='auto')\n",
    "divider = make_axes_locatable(ax)\n",
    "cax = divider.append_axes(\"right\", size=\"3%\", pad=0.1)\n",
    "fig.colorbar(h, cax=cax)\n",
    "\n",
    "ax.plot(X_u_train[:, 1].cpu(), X_u_train[:, 0].cpu(), 'kx',  markersize = 5, clip_on = False)\n",
    "\n",
    "ax.set_xlabel('$t$')\n",
    "ax.set_ylabel('$x$')\n",
    "ax.set_title('$u(x,t)$', fontsize = 10)\n",
    "\n",
    "fig.tight_layout()\n",
    "plt.show()"
   ]
  },
  {
   "cell_type": "code",
   "execution_count": 141,
   "metadata": {},
   "outputs": [
    {
     "data": {
      "image/png": "[encoded data removed]",
      "text/plain": [
       "<Figure size 600x300 with 3 Axes>"
      ]
     },
     "metadata": {},
     "output_type": "display_data"
    }
   ],
   "source": [
    "fig, (ax1, ax2, ax3) = plt.subplots(ncols=3, figsize=(6, 3))\n",
    "ax1.plot(x, usol.T[25,:], 'b-', lw=2, label='Exact')\n",
    "ax1.plot(x, u_pred.T[25,:], 'r--', lw=2, label='Prediction')\n",
    "ax1.set_title('$t = 0.25s$')\n",
    "\n",
    "ax2.plot(x, usol.T[50,:], 'b-', lw=2, label='Exact')\n",
    "ax2.plot(x, u_pred.T[50,:], 'r--', lw=2, label='Prediction')\n",
    "ax2.set_title('$t = 0.50s$')\n",
    "\n",
    "ax3.plot(x, usol.T[75,:], 'b-', lw=2, label='Exact')\n",
    "ax3.plot(x, u_pred.T[75,:], 'r--', lw=2, label='Prediction')\n",
    "ax3.set_title('$t = 0.75s$')\n",
    "\n",
    "for ax in (ax1, ax2, ax3):\n",
    "    # ax.legend(fontsize=6)\n",
    "    ax.set_xlabel('$x$')\n",
    "    ax.set_ylabel('$u$')\n",
    "    ax.axis('square')\n",
    "    ax.set_xlim([-1.1, 1.1])\n",
    "    ax.set_ylim([-1.1, 1.1])\n",
    "    \n",
    "fig.tight_layout()\n",
    "plt.show()"
   ]
  },
  {
   "cell_type": "code",
   "execution_count": null,
   "metadata": {},
   "outputs": [],
   "source": []
  }
 ],
 "metadata": {
  "kernelspec": {
   "display_name": "pytorch",
   "language": "python",
   "name": "python3"
  },
  "language_info": {
   "codemirror_mode": {
    "name": "ipython",
    "version": 3
   },
   "file_extension": ".py",
   "mimetype": "text/x-python",
   "name": "python",
   "nbconvert_exporter": "python",
   "pygments_lexer": "ipython3",
   "version": "3.10.13"
  }
 },
 "nbformat": 4,
 "nbformat_minor": 2
}
