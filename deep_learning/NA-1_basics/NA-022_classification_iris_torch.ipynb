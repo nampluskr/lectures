{
 "cells": [
  {
   "cell_type": "markdown",
   "metadata": {},
   "source": [
    "## Multiclass Classification - Iris [pytorch]\n",
    "\n",
    "- created: 2024.11.17"
   ]
  },
  {
   "cell_type": "markdown",
   "metadata": {},
   "source": [
    "### Data"
   ]
  },
  {
   "cell_type": "code",
   "execution_count": 1,
   "metadata": {},
   "outputs": [
    {
     "name": "stdout",
     "output_type": "stream",
     "text": [
      "(120, 4) (120,)\n",
      "(30, 4) (30,)\n"
     ]
    }
   ],
   "source": [
    "from sklearn.datasets import load_iris\n",
    "from sklearn.model_selection import train_test_split\n",
    "from sklearn.preprocessing import StandardScaler\n",
    "\n",
    "# Load data\n",
    "x, y = load_iris(return_X_y=True)\n",
    "x_train, x_test, y_train, y_test = train_test_split(x, y, test_size=0.2, random_state=42)\n",
    "\n",
    "scaler = StandardScaler()\n",
    "x_train_scaled = scaler.fit_transform(x_train)\n",
    "x_test_scaled = scaler.transform(x_test)\n",
    "\n",
    "print(x_train_scaled.shape, y_train.shape)\n",
    "print(x_test_scaled.shape, y_test.shape)"
   ]
  },
  {
   "cell_type": "markdown",
   "metadata": {},
   "source": [
    "### [scikit-learn] Modeling and Training"
   ]
  },
  {
   "cell_type": "code",
   "execution_count": 2,
   "metadata": {},
   "outputs": [
    {
     "name": "stdout",
     "output_type": "stream",
     "text": [
      "Train Accuracy: 0.9667\n",
      "Test  Accuracy: 1.0000\n"
     ]
    }
   ],
   "source": [
    "from sklearn.svm import SVC\n",
    "from sklearn.metrics import accuracy_score\n",
    "\n",
    "# sklearn model\n",
    "model = SVC()\n",
    "model.fit(x_train_scaled, y_train)\n",
    "\n",
    "# Training\n",
    "y_pred = model.predict(x_train_scaled)\n",
    "acc = accuracy_score(y_train, y_pred)\n",
    "print(f'Train Accuracy: {acc:.4f}')\n",
    "\n",
    "# Evaluation\n",
    "y_pred = model.predict(x_test_scaled)\n",
    "acc = accuracy_score(y_test, y_pred)\n",
    "print(f'Test  Accuracy: {acc:.4f}')"
   ]
  },
  {
   "cell_type": "markdown",
   "metadata": {},
   "source": [
    "### [pytorch-1] Modeling and Training\n",
    "\n",
    "- Manual backward propagation\n",
    "- Manual update of weights and biases"
   ]
  },
  {
   "cell_type": "code",
   "execution_count": 35,
   "metadata": {},
   "outputs": [
    {
     "name": "stdout",
     "output_type": "stream",
     "text": [
      "torch.Size([120, 4]) torch.Size([120, 3])\n"
     ]
    }
   ],
   "source": [
    "import torch\n",
    "import torch.nn as nn\n",
    "import torch.optim as optim\n",
    "\n",
    "def accuracy(y_pred, y_true):\n",
    "    y_pred = y_pred.argmax(dim=1)\n",
    "    return torch.eq(y_pred, y_true).float().mean()\n",
    "\n",
    "## Data\n",
    "x = torch.tensor(x_train_scaled).float()\n",
    "y = torch.tensor(y_train).long()\n",
    "y = nn.functional.one_hot(y).float()\n",
    "print(x.shape, y.shape)"
   ]
  },
  {
   "cell_type": "code",
   "execution_count": null,
   "metadata": {},
   "outputs": [
    {
     "name": "stdout",
     "output_type": "stream",
     "text": [
      "[1000/10000] loss: 0.92 score: 0.9583\n",
      "[2000/10000] loss: 0.91 score: 0.9667\n",
      "[3000/10000] loss: 0.90 score: 0.9667\n",
      "[4000/10000] loss: 0.90 score: 0.9667\n",
      "[5000/10000] loss: 0.89 score: 0.9750\n",
      "[6000/10000] loss: 0.89 score: 0.9750\n",
      "[7000/10000] loss: 0.89 score: 0.9750\n",
      "[8000/10000] loss: 0.89 score: 0.9750\n",
      "[9000/10000] loss: 0.89 score: 0.9750\n",
      "[10000/10000] loss: 0.89 score: 0.9750\n"
     ]
    }
   ],
   "source": [
    "## Model: 2-layer MLP\n",
    "torch.manual_seed(42)\n",
    "input_size, hidden_size, output_size = 4, 100, 3\n",
    "\n",
    "w1 = torch.randn(input_size, hidden_size)\n",
    "b1 = torch.zeros(hidden_size)\n",
    "w2 = torch.randn(hidden_size, output_size)\n",
    "b2 = torch.zeros(output_size)\n",
    "\n",
    "## Train\n",
    "n_epochs = 10000\n",
    "learning_rate = 0.01\n",
    "\n",
    "for epoch in range(1, n_epochs + 1):\n",
    "    # Forward propagation\n",
    "    z1 = torch.mm(x, w1) + b1\n",
    "    a1 = torch.sigmoid(z1)\n",
    "    z2 = torch.mm(a1, w2) + b2\n",
    "    out = torch.softmax(z2, dim=1)\n",
    "\n",
    "    loss = nn.functional.cross_entropy(out, y)\n",
    "    score = accuracy(out, y.argmax(dim=1))\n",
    "\n",
    "    # Backward progapation\n",
    "    grad_z2 = (z2 - y) / y.shape[0]\n",
    "    grad_w2 = torch.mm(a1.T, grad_z2)\n",
    "    grad_b2 = torch.sum(grad_z2, dim=0)\n",
    "\n",
    "    grad_a1 = torch.mm(grad_z2, w2.T)\n",
    "    grad_z1 = a1 * (1 - a1) * grad_a1\n",
    "    grad_w1 = torch.mm(x.T, grad_z1)\n",
    "    grad_b1 = torch.sum(grad_z1, dim=0)\n",
    "\n",
    "    # Update weights and biases\n",
    "    w1 -= learning_rate * grad_w1\n",
    "    b1 -= learning_rate * grad_b1\n",
    "    w2 -= learning_rate * grad_w2\n",
    "    b2 -= learning_rate * grad_b2\n",
    "\n",
    "    if epoch % (n_epochs // 10) == 0:\n",
    "        print(f\"[{epoch}/{n_epochs}] loss: {loss.item():.2f} score: {score.item():.4f}\")"
   ]
  },
  {
   "cell_type": "markdown",
   "metadata": {},
   "source": [
    "### [pytorch-2] Modeling and Training\n",
    "\n",
    "- Automatic backward propagation: torch.autograd.grad()\n",
    "- Manual update of weights and biases"
   ]
  },
  {
   "cell_type": "code",
   "execution_count": 63,
   "metadata": {},
   "outputs": [
    {
     "name": "stdout",
     "output_type": "stream",
     "text": [
      "[1000/10000] loss: 0.89 score: 0.6583\n",
      "[2000/10000] loss: 0.70 score: 0.8917\n",
      "[3000/10000] loss: 0.64 score: 0.9667\n",
      "[4000/10000] loss: 0.62 score: 0.9583\n",
      "[5000/10000] loss: 0.61 score: 0.9583\n",
      "[6000/10000] loss: 0.61 score: 0.9667\n",
      "[7000/10000] loss: 0.60 score: 0.9667\n",
      "[8000/10000] loss: 0.60 score: 0.9667\n",
      "[9000/10000] loss: 0.60 score: 0.9667\n",
      "[10000/10000] loss: 0.59 score: 0.9750\n"
     ]
    }
   ],
   "source": [
    "## Model: 2-layer MLP\n",
    "torch.manual_seed(42)\n",
    "input_size, hidden_size, output_size = 4, 100, 3\n",
    "\n",
    "w1 = torch.randn(input_size, hidden_size).requires_grad_()\n",
    "b1 = torch.zeros(hidden_size).requires_grad_()\n",
    "w2 = torch.randn(hidden_size, output_size).requires_grad_()\n",
    "b2 = torch.zeros(output_size).requires_grad_()\n",
    "\n",
    "## Train\n",
    "n_epochs = 10000\n",
    "learning_rate = 0.01\n",
    "\n",
    "for epoch in range(1, n_epochs + 1):\n",
    "    # Forward propagation\n",
    "    z1 = torch.mm(x, w1) + b1\n",
    "    a1 = torch.sigmoid(z1)\n",
    "    z2 = torch.mm(a1, w2) + b2\n",
    "    out = torch.softmax(z2, dim=1)\n",
    "\n",
    "    loss = nn.functional.cross_entropy(out, y)\n",
    "    score = accuracy(out, y.argmax(dim=1))\n",
    "\n",
    "    # # Backward progapation\n",
    "    grads = torch.autograd.grad(loss, [w1, b1, w2, b2], create_graph=True)\n",
    "\n",
    "    # Update weights and biases\n",
    "    with torch.no_grad():\n",
    "        w1 -= learning_rate * grads[0]\n",
    "        b1 -= learning_rate * grads[1]\n",
    "        w2 -= learning_rate * grads[2]\n",
    "        b2 -= learning_rate * grads[3]\n",
    "\n",
    "    if epoch % (n_epochs // 10) == 0:\n",
    "        print(f\"[{epoch}/{n_epochs}] loss: {loss.item():.2f} score: {score.item():.4f}\")"
   ]
  },
  {
   "cell_type": "markdown",
   "metadata": {},
   "source": [
    "### [pytorch-3] Modeling and Training\n",
    "\n",
    "- Automatic backward propagation: loss.backward()\n",
    "- Manual update of weights and biases"
   ]
  },
  {
   "cell_type": "code",
   "execution_count": 64,
   "metadata": {},
   "outputs": [
    {
     "name": "stdout",
     "output_type": "stream",
     "text": [
      "[1000/10000] loss: 0.89 score: 0.6583\n",
      "[2000/10000] loss: 0.70 score: 0.8917\n",
      "[3000/10000] loss: 0.64 score: 0.9667\n",
      "[4000/10000] loss: 0.62 score: 0.9583\n",
      "[5000/10000] loss: 0.61 score: 0.9583\n",
      "[6000/10000] loss: 0.61 score: 0.9667\n",
      "[7000/10000] loss: 0.60 score: 0.9667\n",
      "[8000/10000] loss: 0.60 score: 0.9667\n",
      "[9000/10000] loss: 0.60 score: 0.9667\n",
      "[10000/10000] loss: 0.59 score: 0.9750\n"
     ]
    }
   ],
   "source": [
    "## Model: 2-layer MLP\n",
    "torch.manual_seed(42)\n",
    "input_size, hidden_size, output_size = 4, 100, 3\n",
    "\n",
    "w1 = torch.randn(input_size, hidden_size).requires_grad_()\n",
    "b1 = torch.zeros(hidden_size).requires_grad_()\n",
    "w2 = torch.randn(hidden_size, output_size).requires_grad_()\n",
    "b2 = torch.zeros(output_size).requires_grad_()\n",
    "\n",
    "## Train\n",
    "n_epochs = 10000\n",
    "learning_rate = 0.01\n",
    "\n",
    "for epoch in range(1, n_epochs + 1):\n",
    "    # Forward propagation\n",
    "    z1 = torch.mm(x, w1) + b1\n",
    "    a1 = torch.sigmoid(z1)\n",
    "    z2 = torch.mm(a1, w2) + b2\n",
    "    out = torch.softmax(z2, dim=1)\n",
    "\n",
    "    loss = nn.functional.cross_entropy(out, y)\n",
    "    score = accuracy(out, y.argmax(dim=1))\n",
    "\n",
    "    # # Backward progapation\n",
    "    loss.backward()\n",
    "\n",
    "    # Update weights and biases\n",
    "    with torch.no_grad():\n",
    "        w1 -= learning_rate * w1.grad\n",
    "        b1 -= learning_rate * b1.grad\n",
    "        w2 -= learning_rate * w2.grad\n",
    "        b2 -= learning_rate * b2.grad\n",
    "\n",
    "        w1.grad.zero_()\n",
    "        b1.grad.zero_()\n",
    "        w2.grad.zero_()\n",
    "        b2.grad.zero_()\n",
    "\n",
    "    if epoch % (n_epochs // 10) == 0:\n",
    "        print(f\"[{epoch}/{n_epochs}] loss: {loss.item():.2f} score: {score.item():.4f}\")"
   ]
  },
  {
   "cell_type": "markdown",
   "metadata": {},
   "source": [
    "### [pytorch-4] Modeling and Training\n",
    "\n",
    "- Automatic backward propagation: loss.backward()\n",
    "- Automatic update of weights and biases: optimizer"
   ]
  },
  {
   "cell_type": "code",
   "execution_count": null,
   "metadata": {},
   "outputs": [
    {
     "name": "stdout",
     "output_type": "stream",
     "text": [
      "[1000/10000] loss: 0.89 score: 0.6583\n",
      "[2000/10000] loss: 0.70 score: 0.8917\n",
      "[3000/10000] loss: 0.64 score: 0.9667\n",
      "[4000/10000] loss: 0.62 score: 0.9583\n",
      "[5000/10000] loss: 0.61 score: 0.9583\n",
      "[6000/10000] loss: 0.61 score: 0.9667\n",
      "[7000/10000] loss: 0.60 score: 0.9667\n",
      "[8000/10000] loss: 0.60 score: 0.9667\n",
      "[9000/10000] loss: 0.60 score: 0.9667\n",
      "[10000/10000] loss: 0.59 score: 0.9750\n"
     ]
    }
   ],
   "source": [
    "## Model: 2-layer MLP\n",
    "torch.manual_seed(42)\n",
    "input_size, hidden_size, output_size = 4, 100, 3\n",
    "\n",
    "w1 = torch.randn(input_size, hidden_size).requires_grad_()\n",
    "b1 = torch.zeros(hidden_size).requires_grad_()\n",
    "w2 = torch.randn(hidden_size, output_size).requires_grad_()\n",
    "b2 = torch.zeros(output_size).requires_grad_()\n",
    "\n",
    "## Train\n",
    "n_epochs = 10000\n",
    "learning_rate = 0.01\n",
    "\n",
    "optimizer = optim.SGD([w1, b1, w2, b2], lr=learning_rate)\n",
    "\n",
    "for epoch in range(1, n_epochs + 1):\n",
    "    # Forward propagation\n",
    "    z1 = torch.mm(x, w1) + b1\n",
    "    a1 = torch.sigmoid(z1)\n",
    "    z2 = torch.mm(a1, w2) + b2\n",
    "    out = torch.softmax(z2, dim=1)\n",
    "\n",
    "    loss = nn.functional.cross_entropy(out, y)\n",
    "    score = accuracy(out, y.argmax(dim=1))\n",
    "\n",
    "    # # Backward progapation\n",
    "    loss.backward()\n",
    "\n",
    "    # Update weights and biases\n",
    "    optimizer.step()\n",
    "    optimizer.zero_grad()\n",
    "\n",
    "    if epoch % (n_epochs // 10) == 0:\n",
    "        print(f\"[{epoch}/{n_epochs}] loss: {loss.item():.2f} score: {score.item():.4f}\")"
   ]
  },
  {
   "cell_type": "markdown",
   "metadata": {},
   "source": [
    "### [pytorch-5] Modeling and Training\n",
    "\n",
    "- MLP model: torch.nn.Linear()\n",
    "- Automatic backward propagation: loss.backward()\n",
    "- Automatic update of weights and biases: optimizer"
   ]
  },
  {
   "cell_type": "code",
   "execution_count": 68,
   "metadata": {},
   "outputs": [
    {
     "name": "stdout",
     "output_type": "stream",
     "text": [
      "[1000/10000] loss: 0.84 score: 0.8250\n",
      "[2000/10000] loss: 0.77 score: 0.8917\n",
      "[3000/10000] loss: 0.73 score: 0.9000\n",
      "[4000/10000] loss: 0.71 score: 0.9167\n",
      "[5000/10000] loss: 0.69 score: 0.9417\n",
      "[6000/10000] loss: 0.67 score: 0.9417\n",
      "[7000/10000] loss: 0.66 score: 0.9417\n",
      "[8000/10000] loss: 0.65 score: 0.9500\n",
      "[9000/10000] loss: 0.64 score: 0.9500\n",
      "[10000/10000] loss: 0.63 score: 0.9583\n"
     ]
    }
   ],
   "source": [
    "## Model: 2-layer MLP\n",
    "torch.manual_seed(42)\n",
    "input_size, hidden_size, output_size = 4, 100, 3\n",
    "\n",
    "model = nn.Sequential(\n",
    "    nn.Linear(input_size, hidden_size),\n",
    "    nn.Sigmoid(),\n",
    "    nn.Linear(hidden_size, output_size),\n",
    "    nn.Softmax(dim=1),\n",
    ")\n",
    "\n",
    "## Train\n",
    "n_epochs = 10000\n",
    "learning_rate = 0.01\n",
    "\n",
    "optimizer = optim.SGD(model.parameters(), lr=learning_rate)\n",
    "\n",
    "for epoch in range(1, n_epochs + 1):\n",
    "    # Forward propagation\n",
    "    out = model(x)\n",
    "\n",
    "    loss = nn.functional.cross_entropy(out, y)\n",
    "    score = accuracy(out, y.argmax(dim=1))\n",
    "\n",
    "    # # Backward progapation\n",
    "    loss.backward()\n",
    "\n",
    "    # Update weights and biases\n",
    "    optimizer.step()\n",
    "    optimizer.zero_grad()\n",
    "\n",
    "    if epoch % (n_epochs // 10) == 0:\n",
    "        print(f\"[{epoch}/{n_epochs}] loss: {loss.item():.2f} score: {score.item():.4f}\")"
   ]
  },
  {
   "cell_type": "markdown",
   "metadata": {},
   "source": [
    "### [pytorch-6] Modeling and Training\n",
    "\n",
    "- MLP model: torch.nn.Linear() with initialization\n",
    "- Automatic backward propagation: loss.backward()\n",
    "- Automatic update of weights and biases: optimizer"
   ]
  },
  {
   "cell_type": "code",
   "execution_count": null,
   "metadata": {},
   "outputs": [
    {
     "name": "stdout",
     "output_type": "stream",
     "text": [
      "[1000/10000] loss: 0.68 score: 0.9000\n",
      "[2000/10000] loss: 0.65 score: 0.9250\n",
      "[3000/10000] loss: 0.63 score: 0.9583\n",
      "[4000/10000] loss: 0.62 score: 0.9500\n",
      "[5000/10000] loss: 0.61 score: 0.9500\n",
      "[6000/10000] loss: 0.60 score: 0.9500\n",
      "[7000/10000] loss: 0.60 score: 0.9667\n",
      "[8000/10000] loss: 0.60 score: 0.9750\n",
      "[9000/10000] loss: 0.59 score: 0.9750\n",
      "[10000/10000] loss: 0.59 score: 0.9750\n"
     ]
    }
   ],
   "source": [
    "## Model: 2-layer MLP\n",
    "torch.manual_seed(42)\n",
    "input_size, hidden_size, output_size = 4, 100, 3\n",
    "\n",
    "class MLP(nn.Module):\n",
    "    def __init__(self, input_dim, hidden_dim, output_dim):\n",
    "        super().__init__()\n",
    "        self.linear1 = nn.Linear(input_dim, hidden_dim)\n",
    "        self.linear2 = nn.Linear(hidden_dim, output_dim)\n",
    "        \n",
    "        ## initialization\n",
    "        torch.nn.init.normal_(self.linear1.weight)\n",
    "        torch.nn.init.normal_(self.linear2.weight)\n",
    "\n",
    "    def forward(self, x):\n",
    "        x = self.linear1(x)\n",
    "        x = torch.sigmoid(x)\n",
    "        x = self.linear2(x)  \n",
    "        x = torch.softmax(x, dim=1)\n",
    "        return x\n",
    "\n",
    "model = MLP(input_size, hidden_size, output_size)\n",
    "\n",
    "## Train\n",
    "n_epochs = 10000\n",
    "learning_rate = 0.01\n",
    "\n",
    "optimizer = optim.SGD(model.parameters(), lr=learning_rate)\n",
    "\n",
    "for epoch in range(1, n_epochs + 1):\n",
    "    # Forward propagation\n",
    "    out = model(x)\n",
    "\n",
    "    loss = nn.functional.cross_entropy(out, y)\n",
    "    score = accuracy(out, y.argmax(dim=1))\n",
    "\n",
    "    # # Backward progapation\n",
    "    loss.backward()\n",
    "\n",
    "    # Update weights and biases\n",
    "    optimizer.step()\n",
    "    optimizer.zero_grad()\n",
    "\n",
    "    if epoch % (n_epochs // 10) == 0:\n",
    "        print(f\"[{epoch}/{n_epochs}] loss: {loss.item():.2f} score: {score.item():.4f}\")"
   ]
  },
  {
   "cell_type": "markdown",
   "metadata": {},
   "source": [
    "### [pytorch-7] Modeling and Training\n",
    "\n",
    "- Model output: logit without activation function\n",
    "- Loss Function: nn.CrossEntropyLoss() (No one-hot encoding, long type)\n",
    "- MLP model: torch.nn.Linear() with initialization\n",
    "- Automatic backward propagation: loss.backward()\n",
    "- Automatic update of weights and biases: optimizer"
   ]
  },
  {
   "cell_type": "code",
   "execution_count": null,
   "metadata": {},
   "outputs": [
    {
     "name": "stdout",
     "output_type": "stream",
     "text": [
      "[1000/10000] loss: 0.14 score: 0.9500\n",
      "[2000/10000] loss: 0.10 score: 0.9583\n",
      "[3000/10000] loss: 0.09 score: 0.9750\n",
      "[4000/10000] loss: 0.08 score: 0.9750\n",
      "[5000/10000] loss: 0.07 score: 0.9750\n",
      "[6000/10000] loss: 0.07 score: 0.9750\n",
      "[7000/10000] loss: 0.07 score: 0.9750\n",
      "[8000/10000] loss: 0.06 score: 0.9750\n",
      "[9000/10000] loss: 0.06 score: 0.9750\n",
      "[10000/10000] loss: 0.06 score: 0.9750\n"
     ]
    }
   ],
   "source": [
    "## Model: 2-layer MLP\n",
    "torch.manual_seed(42)\n",
    "input_size, hidden_size, output_size = 4, 100, 3\n",
    "\n",
    "class MLP(nn.Module):\n",
    "    def __init__(self, input_dim, hidden_dim, output_dim):\n",
    "        super().__init__()\n",
    "        self.linear1 = nn.Linear(input_dim, hidden_dim)\n",
    "        self.linear2 = nn.Linear(hidden_dim, output_dim)\n",
    "        \n",
    "        ## initialization\n",
    "        torch.nn.init.normal_(self.linear1.weight)\n",
    "        torch.nn.init.normal_(self.linear2.weight)\n",
    "\n",
    "    def forward(self, x):\n",
    "        x = self.linear1(x)\n",
    "        x = torch.sigmoid(x)\n",
    "        x = self.linear2(x)  \n",
    "        return x\n",
    "\n",
    "model = MLP(input_size, hidden_size, output_size)\n",
    "\n",
    "## Train\n",
    "n_epochs = 10000\n",
    "learning_rate = 0.01\n",
    "\n",
    "loss_fn = nn.CrossEntropyLoss()\n",
    "optimizer = optim.SGD(model.parameters(), lr=learning_rate)\n",
    "\n",
    "for epoch in range(1, n_epochs + 1):\n",
    "    # Forward propagation\n",
    "    out = model(x)\n",
    "\n",
    "    loss = loss_fn(out, y.argmax(dim=1))\n",
    "    score = accuracy(out, y.argmax(dim=1))\n",
    "\n",
    "    # # Backward progapation\n",
    "    loss.backward()\n",
    "\n",
    "    # Update weights and biases\n",
    "    optimizer.step()\n",
    "    optimizer.zero_grad()\n",
    "\n",
    "    if epoch % (n_epochs // 10) == 0:\n",
    "        print(f\"[{epoch}/{n_epochs}] loss: {loss.item():.2f} score: {score.item():.4f}\")"
   ]
  },
  {
   "cell_type": "markdown",
   "metadata": {},
   "source": [
    "### [pytorch-8] Modeling and Training\n",
    "\n",
    "- Model output: log softmax of logit\n",
    "- Loss functin: nn.NLLLoss() negative log likelihood loss (No one-hot encoding)\n",
    "- MLP model: torch.nn.Linear() with initialization\n",
    "- Automatic backward propagation: loss.backward()\n",
    "- Automatic update of weights and biases: optimizer"
   ]
  },
  {
   "cell_type": "code",
   "execution_count": 74,
   "metadata": {},
   "outputs": [
    {
     "name": "stdout",
     "output_type": "stream",
     "text": [
      "[1000/10000] loss: 0.14 score: 0.9500\n",
      "[2000/10000] loss: 0.10 score: 0.9583\n",
      "[3000/10000] loss: 0.09 score: 0.9750\n",
      "[4000/10000] loss: 0.08 score: 0.9750\n",
      "[5000/10000] loss: 0.07 score: 0.9750\n",
      "[6000/10000] loss: 0.07 score: 0.9750\n",
      "[7000/10000] loss: 0.07 score: 0.9750\n",
      "[8000/10000] loss: 0.06 score: 0.9750\n",
      "[9000/10000] loss: 0.06 score: 0.9750\n",
      "[10000/10000] loss: 0.06 score: 0.9750\n"
     ]
    }
   ],
   "source": [
    "## Model: 2-layer MLP\n",
    "torch.manual_seed(42)\n",
    "input_size, hidden_size, output_size = 4, 100, 3\n",
    "\n",
    "class MLP(nn.Module):\n",
    "    def __init__(self, input_dim, hidden_dim, output_dim):\n",
    "        super().__init__()\n",
    "        self.linear1 = nn.Linear(input_dim, hidden_dim)\n",
    "        self.linear2 = nn.Linear(hidden_dim, output_dim)\n",
    "\n",
    "        ## initialization\n",
    "        torch.nn.init.normal_(self.linear1.weight)\n",
    "        torch.nn.init.normal_(self.linear2.weight)\n",
    "\n",
    "    def forward(self, x):\n",
    "        x = self.linear1(x)\n",
    "        x = torch.sigmoid(x)\n",
    "        x = self.linear2(x)\n",
    "        x = nn.functional.log_softmax(x, dim=1) # x = nn.LogSoftmax(dim=1)(x)\n",
    "        return x\n",
    "\n",
    "model = MLP(input_size, hidden_size, output_size)\n",
    "\n",
    "## Train\n",
    "n_epochs = 10000\n",
    "learning_rate = 0.01\n",
    "\n",
    "loss_fn = nn.NLLLoss()\n",
    "optimizer = optim.SGD(model.parameters(), lr=learning_rate)\n",
    "\n",
    "for epoch in range(1, n_epochs + 1):\n",
    "    # Forward propagation\n",
    "    out = model(x)\n",
    "\n",
    "    loss = loss_fn(out, y.argmax(dim=1))\n",
    "    score = accuracy(out, y.argmax(dim=1))\n",
    "\n",
    "    # # Backward progapation\n",
    "    loss.backward()\n",
    "\n",
    "    # Update weights and biases\n",
    "    optimizer.step()\n",
    "    optimizer.zero_grad()\n",
    "\n",
    "    if epoch % (n_epochs // 10) == 0:\n",
    "        print(f\"[{epoch}/{n_epochs}] loss: {loss.item():.2f} score: {score.item():.4f}\")"
   ]
  }
 ],
 "metadata": {
  "kernelspec": {
   "display_name": "pytorch",
   "language": "python",
   "name": "python3"
  },
  "language_info": {
   "codemirror_mode": {
    "name": "ipython",
    "version": 3
   },
   "file_extension": ".py",
   "mimetype": "text/x-python",
   "name": "python",
   "nbconvert_exporter": "python",
   "pygments_lexer": "ipython3",
   "version": "3.10.15"
  }
 },
 "nbformat": 4,
 "nbformat_minor": 2
}
