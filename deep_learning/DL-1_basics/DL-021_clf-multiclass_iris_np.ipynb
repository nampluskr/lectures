{
 "cells": [
  {
   "cell_type": "markdown",
   "metadata": {},
   "source": [
    "## Multiclass Classification - Iris [numpy]\n",
    "\n",
    "- created: 2024.11.17"
   ]
  },
  {
   "cell_type": "markdown",
   "metadata": {},
   "source": [
    "### Data"
   ]
  },
  {
   "cell_type": "code",
   "execution_count": 1,
   "metadata": {},
   "outputs": [
    {
     "name": "stdout",
     "output_type": "stream",
     "text": [
      "(120, 4) (120,)\n",
      "(30, 4) (30,)\n"
     ]
    }
   ],
   "source": [
    "from sklearn.datasets import load_iris\n",
    "from sklearn.model_selection import train_test_split\n",
    "from sklearn.preprocessing import StandardScaler\n",
    "\n",
    "# Load data\n",
    "x, y = load_iris(return_X_y=True)\n",
    "x_train, x_test, y_train, y_test = train_test_split(x, y, test_size=0.2, random_state=42)\n",
    "\n",
    "scaler = StandardScaler()\n",
    "x_train_scaled = scaler.fit_transform(x_train)\n",
    "x_test_scaled = scaler.transform(x_test)\n",
    "\n",
    "print(x_train_scaled.shape, y_train.shape)\n",
    "print(x_test_scaled.shape, y_test.shape)"
   ]
  },
  {
   "cell_type": "markdown",
   "metadata": {},
   "source": [
    "### [scikit-learn] Modeling and Training"
   ]
  },
  {
   "cell_type": "code",
   "execution_count": 2,
   "metadata": {},
   "outputs": [
    {
     "name": "stdout",
     "output_type": "stream",
     "text": [
      "Train Accuracy: 0.9667\n",
      "Test  Accuracy: 1.0000\n"
     ]
    }
   ],
   "source": [
    "from sklearn.svm import SVC\n",
    "from sklearn.metrics import accuracy_score\n",
    "\n",
    "# sklearn model\n",
    "model = SVC()\n",
    "model.fit(x_train_scaled, y_train)\n",
    "\n",
    "# Training\n",
    "y_pred = model.predict(x_train_scaled)\n",
    "acc = accuracy_score(y_train, y_pred)\n",
    "print(f'Train Accuracy: {acc:.4f}')\n",
    "\n",
    "# Evaluation\n",
    "y_pred = model.predict(x_test_scaled)\n",
    "acc = accuracy_score(y_test, y_pred)\n",
    "print(f'Test  Accuracy: {acc:.4f}')"
   ]
  },
  {
   "cell_type": "markdown",
   "metadata": {},
   "source": [
    "### [numpy] Modeling and Training\n",
    "\n",
    "- Manual backward propagation\n",
    "- Manual update of weights and biases"
   ]
  },
  {
   "cell_type": "code",
   "execution_count": 3,
   "metadata": {},
   "outputs": [
    {
     "name": "stdout",
     "output_type": "stream",
     "text": [
      "(120, 4) (120, 3)\n"
     ]
    }
   ],
   "source": [
    "import numpy as np\n",
    "from scipy.special import expit as sigmoid\n",
    "\n",
    "def one_hot(y, n_classes):\n",
    "    return np.eye(n_classes)[y]\n",
    "\n",
    "def softmax(x):\n",
    "    e_x = np.exp(x - np.max(x, axis=1, keepdims=True))\n",
    "    return e_x / np.sum(e_x, axis=1, keepdims=True)\n",
    "\n",
    "def cross_entropy(y_pred, y_true):\n",
    "    batch_size = y_pred.shape[0] if y_pred.ndim == 2 else 1\n",
    "    return -np.sum(y_true*np.log(y_pred + 1.0E-8))/batch_size\n",
    "\n",
    "def accuracy(y_pred, y_true):\n",
    "    return (y_pred.argmax(1) == y_true.argmax(1)).mean()\n",
    "\n",
    "## Data\n",
    "x, y = x_train_scaled, one_hot(y_train, n_classes=3)\n",
    "print(x.shape, y.shape)"
   ]
  },
  {
   "cell_type": "code",
   "execution_count": 4,
   "metadata": {},
   "outputs": [
    {
     "name": "stdout",
     "output_type": "stream",
     "text": [
      "[1000/10000] loss: 0.65 score: 0.9333\n",
      "[2000/10000] loss: 0.63 score: 0.9667\n",
      "[3000/10000] loss: 0.62 score: 0.9833\n",
      "[4000/10000] loss: 0.61 score: 0.9833\n",
      "[5000/10000] loss: 0.60 score: 0.9833\n",
      "[6000/10000] loss: 0.60 score: 0.9833\n",
      "[7000/10000] loss: 0.60 score: 0.9833\n",
      "[8000/10000] loss: 0.60 score: 0.9833\n",
      "[9000/10000] loss: 0.60 score: 0.9833\n",
      "[10000/10000] loss: 0.60 score: 0.9833\n"
     ]
    }
   ],
   "source": [
    "## Model: 2-layer MLP\n",
    "np.random.seed(42)\n",
    "input_size, hidden_size, output_size = 4, 100, 3\n",
    "\n",
    "w1 = np.random.randn(input_size, hidden_size)   # weight of 1st layer\n",
    "b1 = np.zeros(hidden_size)                      # bias of 1st layer\n",
    "w2 = np.random.randn(hidden_size, output_size)  # weight of 2nd layer\n",
    "b2 = np.zeros(output_size)                      # bias of 2nd layer\n",
    "\n",
    "## Train\n",
    "n_epochs = 10000\n",
    "learning_rate = 0.01\n",
    "\n",
    "for epoch in range(1, n_epochs + 1):\n",
    "    # Forward propagation\n",
    "    z1 = np.dot(x, w1) + b1\n",
    "    a1 = sigmoid(z1)\n",
    "    z2 = np.dot(a1, w2) + b2\n",
    "    out = softmax(z2)\n",
    "\n",
    "    loss = cross_entropy(out, y)\n",
    "    score = accuracy(out, y)\n",
    "\n",
    "    # Backward progapation\n",
    "    grad_z2 = (z2 - y) / y.shape[0]\n",
    "    grad_w2 = np.dot(a1.T, grad_z2)\n",
    "    grad_b2 = np.sum(grad_z2, axis=0)\n",
    "\n",
    "    grad_a1 = np.dot(grad_z2, w2.T)\n",
    "    grad_z1 = a1 * (1 - a1) * grad_a1\n",
    "    grad_w1 = np.dot(x.T, grad_z1)\n",
    "    grad_b1 = np.sum(grad_z1, axis=0)\n",
    "\n",
    "    # Update weights and biases\n",
    "    w1 -= learning_rate * grad_w1\n",
    "    b1 -= learning_rate * grad_b1\n",
    "    w2 -= learning_rate * grad_w2\n",
    "    b2 -= learning_rate * grad_b2\n",
    "\n",
    "    if epoch % (n_epochs // 10) == 0:\n",
    "        print(f\"[{epoch}/{n_epochs}] loss: {loss.item():.2f} score: {score:.4f}\")"
   ]
  }
 ],
 "metadata": {
  "kernelspec": {
   "display_name": "pytorch",
   "language": "python",
   "name": "python3"
  },
  "language_info": {
   "codemirror_mode": {
    "name": "ipython",
    "version": 3
   },
   "file_extension": ".py",
   "mimetype": "text/x-python",
   "name": "python",
   "nbconvert_exporter": "python",
   "pygments_lexer": "ipython3",
   "version": "3.10.15"
  }
 },
 "nbformat": 4,
 "nbformat_minor": 2
}
