{
 "cells": [
  {
   "cell_type": "markdown",
   "metadata": {},
   "source": [
    "## Binary Classification (Logistic Regression) - Breast Cancer [numpy]\n",
    "\n",
    "- created: 2024.11.17"
   ]
  },
  {
   "cell_type": "markdown",
   "metadata": {},
   "source": [
    "### Data"
   ]
  },
  {
   "cell_type": "code",
   "execution_count": 1,
   "metadata": {},
   "outputs": [
    {
     "name": "stdout",
     "output_type": "stream",
     "text": [
      "(455, 30) (455,)\n",
      "(114, 30) (114,)\n"
     ]
    }
   ],
   "source": [
    "from sklearn.datasets import load_breast_cancer\n",
    "from sklearn.model_selection import train_test_split\n",
    "from sklearn.preprocessing import StandardScaler\n",
    "\n",
    "# Load data\n",
    "x, y = load_breast_cancer(return_X_y=True)\n",
    "x_train, x_test, y_train, y_test = train_test_split(x, y, test_size=0.2, random_state=42)\n",
    "\n",
    "scaler = StandardScaler()\n",
    "x_train_scaled = scaler.fit_transform(x_train)\n",
    "x_test_scaled = scaler.transform(x_test)\n",
    "\n",
    "print(x_train_scaled.shape, y_train.shape)\n",
    "print(x_test_scaled.shape, y_test.shape)"
   ]
  },
  {
   "cell_type": "markdown",
   "metadata": {},
   "source": [
    "### [scikit-learn] Modeling and Training"
   ]
  },
  {
   "cell_type": "code",
   "execution_count": 2,
   "metadata": {},
   "outputs": [
    {
     "name": "stdout",
     "output_type": "stream",
     "text": [
      "Train Accuracy: 0.9868\n",
      "Test  Accuracy: 0.9737\n"
     ]
    }
   ],
   "source": [
    "from sklearn.linear_model import LogisticRegression\n",
    "from sklearn.metrics import accuracy_score\n",
    "\n",
    "# sklearn model\n",
    "model = LogisticRegression()\n",
    "model.fit(x_train_scaled, y_train)\n",
    "\n",
    "# Training\n",
    "y_pred = model.predict(x_train_scaled)\n",
    "acc = accuracy_score(y_train, y_pred)\n",
    "print(f'Train Accuracy: {acc:.4f}')\n",
    "\n",
    "# Evaluation\n",
    "y_pred = model.predict(x_test_scaled)\n",
    "acc = accuracy_score(y_test, y_pred)\n",
    "print(f'Test  Accuracy: {acc:.4f}')"
   ]
  },
  {
   "cell_type": "markdown",
   "metadata": {},
   "source": [
    "### [numpy] Modeling and Training\n",
    "\n",
    "- Manual backward propagation\n",
    "- Manual update of weights and biases"
   ]
  },
  {
   "cell_type": "code",
   "execution_count": 3,
   "metadata": {},
   "outputs": [
    {
     "name": "stdout",
     "output_type": "stream",
     "text": [
      "(455, 30) (455, 1)\n"
     ]
    }
   ],
   "source": [
    "import numpy as np\n",
    "from scipy.special import expit as sigmoid\n",
    "\n",
    "def bce_loss(y_pred, y_true):\n",
    "    eps = 1e-8\n",
    "    return -np.mean(y_true*np.log(y_pred + eps) + (1 - y_true)*np.log(1 - y_pred + eps))\n",
    "\n",
    "def binary_accuracy(y_pred, y_true):\n",
    "    y_pred = (y_pred > 0.5).astype(int)\n",
    "    return np.mean(y_pred == y_true)\n",
    "\n",
    "## Data\n",
    "x, y = x_train_scaled, y_train.reshape(-1, 1)\n",
    "print(x.shape, y.shape)"
   ]
  },
  {
   "cell_type": "code",
   "execution_count": 4,
   "metadata": {},
   "outputs": [
    {
     "name": "stdout",
     "output_type": "stream",
     "text": [
      "[1000/10000] loss: 0.12 score: 0.9516\n",
      "[2000/10000] loss: 0.08 score: 0.9692\n",
      "[3000/10000] loss: 0.07 score: 0.9802\n",
      "[4000/10000] loss: 0.06 score: 0.9868\n",
      "[5000/10000] loss: 0.05 score: 0.9890\n",
      "[6000/10000] loss: 0.04 score: 0.9890\n",
      "[7000/10000] loss: 0.04 score: 0.9890\n",
      "[8000/10000] loss: 0.04 score: 0.9890\n",
      "[9000/10000] loss: 0.03 score: 0.9912\n",
      "[10000/10000] loss: 0.03 score: 0.9934\n"
     ]
    }
   ],
   "source": [
    "## Model: 2-layer MLP\n",
    "np.random.seed(42)\n",
    "input_size, hidden_size, output_size = 30, 100, 1\n",
    "\n",
    "w1 = np.random.randn(input_size, hidden_size)   # weight of 1st layer\n",
    "b1 = np.zeros(hidden_size)                      # bias of 1st layer\n",
    "w2 = np.random.randn(hidden_size, output_size)  # weight of 2nd layer\n",
    "b2 = np.zeros(output_size)                      # bias of 2nd layer\n",
    "\n",
    "## Train\n",
    "n_epochs = 10000\n",
    "learning_rate = 0.01\n",
    "\n",
    "for epoch in range(1, n_epochs + 1):\n",
    "    # Forward propagation\n",
    "    z1 = np.dot(x, w1) + b1\n",
    "    a1 = sigmoid(z1)\n",
    "    z2 = np.dot(a1, w2) + b2\n",
    "    out = sigmoid(z2)\n",
    "\n",
    "    loss = bce_loss(out, y)\n",
    "    score = binary_accuracy(out, y)\n",
    "\n",
    "    # Backward progapation\n",
    "    grad_out = (out - y) / out / (1 - out) / y.shape[0]\n",
    "    grad_z2 = out * (1 - out) * grad_out\n",
    "    grad_w2 = np.dot(a1.T, grad_z2)\n",
    "    grad_b2 = np.sum(grad_z2, axis=0)\n",
    "\n",
    "    grad_a1 = np.dot(grad_z2, w2.T)\n",
    "    grad_z1 = a1 * (1 - a1) * grad_a1\n",
    "    grad_w1 = np.dot(x.T, grad_z1)\n",
    "    grad_b1 = np.sum(grad_z1, axis=0)\n",
    "\n",
    "    # Update weights and biases\n",
    "    w1 -= learning_rate * grad_w1\n",
    "    b1 -= learning_rate * grad_b1\n",
    "    w2 -= learning_rate * grad_w2\n",
    "    b2 -= learning_rate * grad_b2\n",
    "\n",
    "    if epoch % (n_epochs // 10) == 0:\n",
    "        print(f\"[{epoch}/{n_epochs}] loss: {loss.item():.2f} score: {score:.4f}\")"
   ]
  }
 ],
 "metadata": {
  "kernelspec": {
   "display_name": "pytorch",
   "language": "python",
   "name": "python3"
  },
  "language_info": {
   "codemirror_mode": {
    "name": "ipython",
    "version": 3
   },
   "file_extension": ".py",
   "mimetype": "text/x-python",
   "name": "python",
   "nbconvert_exporter": "python",
   "pygments_lexer": "ipython3",
   "version": "3.10.15"
  }
 },
 "nbformat": 4,
 "nbformat_minor": 2
}
