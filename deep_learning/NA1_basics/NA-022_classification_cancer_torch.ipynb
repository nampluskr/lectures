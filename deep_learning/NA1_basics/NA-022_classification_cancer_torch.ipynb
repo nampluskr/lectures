{
 "cells": [
  {
   "cell_type": "markdown",
   "metadata": {},
   "source": [
    "## Binary Classification (Logistic Regression) - Breast Cancer [pytorch]"
   ]
  },
  {
   "cell_type": "markdown",
   "metadata": {},
   "source": [
    "### Data"
   ]
  },
  {
   "cell_type": "code",
   "execution_count": 2,
   "metadata": {},
   "outputs": [
    {
     "name": "stdout",
     "output_type": "stream",
     "text": [
      "(455, 30) (455,)\n",
      "(114, 30) (114,)\n"
     ]
    }
   ],
   "source": [
    "from sklearn.datasets import load_breast_cancer\n",
    "from sklearn.model_selection import train_test_split\n",
    "from sklearn.preprocessing import StandardScaler\n",
    "\n",
    "# Load data\n",
    "x, y = load_breast_cancer(return_X_y=True)\n",
    "x_train, x_test, y_train, y_test = train_test_split(x, y, test_size=0.2, random_state=42)\n",
    "\n",
    "scaler = StandardScaler()\n",
    "x_train_scaled = scaler.fit_transform(x_train)\n",
    "x_test_scaled = scaler.transform(x_test)\n",
    "\n",
    "print(x_train_scaled.shape, y_train.shape)\n",
    "print(x_test_scaled.shape, y_test.shape)"
   ]
  },
  {
   "cell_type": "markdown",
   "metadata": {},
   "source": [
    "### [scikit-learn] Modeling and Training"
   ]
  },
  {
   "cell_type": "code",
   "execution_count": 2,
   "metadata": {},
   "outputs": [
    {
     "name": "stdout",
     "output_type": "stream",
     "text": [
      "Train Accuracy: 0.9868\n",
      "Test  Accuracy: 0.9737\n"
     ]
    }
   ],
   "source": [
    "from sklearn.linear_model import LogisticRegression\n",
    "from sklearn.metrics import accuracy_score\n",
    "\n",
    "# sklearn model\n",
    "model = LogisticRegression()\n",
    "model.fit(x_train_scaled, y_train)\n",
    "\n",
    "# Training\n",
    "y_pred = model.predict(x_train_scaled)\n",
    "acc = accuracy_score(y_train, y_pred)\n",
    "print(f'Train Accuracy: {acc:.4f}')\n",
    "\n",
    "# Evaluation\n",
    "y_pred = model.predict(x_test_scaled)\n",
    "acc = accuracy_score(y_test, y_pred)\n",
    "print(f'Test  Accuracy: {acc:.4f}')"
   ]
  },
  {
   "cell_type": "markdown",
   "metadata": {},
   "source": [
    "### [pytorch-1] Modeling and Training\n",
    "\n",
    "- Manual backward propagation\n",
    "- Manual update of weights and biases"
   ]
  },
  {
   "cell_type": "code",
   "execution_count": 3,
   "metadata": {},
   "outputs": [
    {
     "name": "stdout",
     "output_type": "stream",
     "text": [
      "torch.Size([455, 30]) torch.Size([455, 1])\n"
     ]
    }
   ],
   "source": [
    "import torch\n",
    "import torch.nn as nn\n",
    "import torch.optim as optim\n",
    "\n",
    "def bce_loss(y_pred, y_true):\n",
    "    eps = 1e-8\n",
    "    return -torch.mean(y_true*torch.log(y_pred + eps) + (1 - y_true)*torch.log(1 - y_pred + eps))\n",
    "\n",
    "def binary_accuracy(x_pred, x_true):\n",
    "    return torch.eq(x_pred.round(), x_true.round()).float().mean() \n",
    "\n",
    "## Data\n",
    "x = torch.tensor(x_train_scaled).float()\n",
    "y = torch.tensor(y_train).float().view(-1, 1)\n",
    "print(x.shape, y.shape)"
   ]
  },
  {
   "cell_type": "code",
   "execution_count": 10,
   "metadata": {},
   "outputs": [
    {
     "name": "stdout",
     "output_type": "stream",
     "text": [
      "[1000/10000] loss: 0.13 score: 0.9451\n",
      "[2000/10000] loss: 0.09 score: 0.9670\n",
      "[3000/10000] loss: 0.08 score: 0.9780\n",
      "[4000/10000] loss: 0.06 score: 0.9846\n",
      "[5000/10000] loss: 0.06 score: 0.9846\n",
      "[6000/10000] loss: 0.05 score: 0.9846\n",
      "[7000/10000] loss: 0.05 score: 0.9868\n",
      "[8000/10000] loss: 0.04 score: 0.9912\n",
      "[9000/10000] loss: 0.04 score: 0.9912\n",
      "[10000/10000] loss: 0.04 score: 0.9912\n"
     ]
    }
   ],
   "source": [
    "## Model: 2-layer MLP\n",
    "torch.manual_seed(42)\n",
    "input_size, hidden_size, output_size = 30, 100, 1\n",
    "\n",
    "w1 = torch.randn(input_size, hidden_size)\n",
    "b1 = torch.zeros(hidden_size)\n",
    "w2 = torch.randn(hidden_size, output_size)\n",
    "b2 = torch.zeros(output_size)\n",
    "\n",
    "## Train\n",
    "n_epochs = 10000\n",
    "learning_rate = 0.01\n",
    "\n",
    "for epoch in range(1, n_epochs + 1):\n",
    "    # Forward propagation\n",
    "    z1 = torch.mm(x, w1) + b1\n",
    "    a1 = torch.sigmoid(z1)\n",
    "    z2 = torch.mm(a1, w2) + b2\n",
    "    out = torch.sigmoid(z2)\n",
    "\n",
    "    loss = bce_loss(out, y)\n",
    "    score = binary_accuracy(out, y)\n",
    "\n",
    "    # # Backward progapation\n",
    "    grad_out = (out - y) / out / (1 - out) / y.shape[0]\n",
    "    grad_z2 = out * (1 - out) * grad_out\n",
    "    grad_w2 = torch.mm(a1.T, grad_z2)\n",
    "    grad_b2 = torch.sum(grad_z2, dim=0)\n",
    "\n",
    "    grad_a1 = torch.mm(grad_z2, w2.T)\n",
    "    grad_z1 = a1 * (1 - a1) * grad_a1\n",
    "    grad_w1 = torch.mm(x.T, grad_z1)\n",
    "    grad_b1 = torch.sum(grad_z1, dim=0)\n",
    "\n",
    "    # # Update weights and biases\n",
    "    w1 -= learning_rate * grad_w1\n",
    "    b1 -= learning_rate * grad_b1\n",
    "    w2 -= learning_rate * grad_w2\n",
    "    b2 -= learning_rate * grad_b2\n",
    "\n",
    "    if epoch % (n_epochs // 10) == 0:\n",
    "        print(f\"[{epoch}/{n_epochs}] loss: {loss.item():.2f} score: {score.item():.4f}\")"
   ]
  },
  {
   "cell_type": "markdown",
   "metadata": {},
   "source": [
    "### [pytorch-2] Modeling and Training\n",
    "\n",
    "- Automatic backward propagation: torch.autograd.grad()\n",
    "- Manual update of weights and biases"
   ]
  },
  {
   "cell_type": "code",
   "execution_count": 11,
   "metadata": {},
   "outputs": [
    {
     "name": "stdout",
     "output_type": "stream",
     "text": [
      "[1000/10000] loss: 0.13 score: 0.9451\n",
      "[2000/10000] loss: 0.09 score: 0.9670\n",
      "[3000/10000] loss: 0.08 score: 0.9780\n",
      "[4000/10000] loss: 0.06 score: 0.9846\n",
      "[5000/10000] loss: 0.06 score: 0.9846\n",
      "[6000/10000] loss: 0.05 score: 0.9846\n",
      "[7000/10000] loss: 0.05 score: 0.9868\n",
      "[8000/10000] loss: 0.04 score: 0.9912\n",
      "[9000/10000] loss: 0.04 score: 0.9912\n",
      "[10000/10000] loss: 0.04 score: 0.9912\n"
     ]
    }
   ],
   "source": [
    "## Model: 2-layer MLP\n",
    "torch.manual_seed(42)\n",
    "input_size, hidden_size, output_size = 30, 100, 1\n",
    "\n",
    "w1 = torch.randn(input_size, hidden_size).requires_grad_()\n",
    "b1 = torch.zeros(hidden_size).requires_grad_()\n",
    "w2 = torch.randn(hidden_size, output_size).requires_grad_()\n",
    "b2 = torch.zeros(output_size).requires_grad_()\n",
    "\n",
    "## Train\n",
    "n_epochs = 10000\n",
    "learning_rate = 0.01\n",
    "\n",
    "for epoch in range(1, n_epochs + 1):\n",
    "    # Forward propagation\n",
    "    z1 = torch.mm(x, w1) + b1\n",
    "    a1 = torch.sigmoid(z1)\n",
    "    z2 = torch.mm(a1, w2) + b2\n",
    "    out = torch.sigmoid(z2)\n",
    "\n",
    "    loss = bce_loss(out, y)\n",
    "    score = binary_accuracy(out, y)\n",
    "\n",
    "    # # Backward progapation\n",
    "    grads = torch.autograd.grad(loss, [w1, b1, w2, b2], create_graph=True)\n",
    "\n",
    "    # Update weights and biases\n",
    "    with torch.no_grad():\n",
    "        w1 -= learning_rate * grads[0]\n",
    "        b1 -= learning_rate * grads[1]\n",
    "        w2 -= learning_rate * grads[2]\n",
    "        b2 -= learning_rate * grads[3]\n",
    "\n",
    "    if epoch % (n_epochs // 10) == 0:\n",
    "        print(f\"[{epoch}/{n_epochs}] loss: {loss.item():.2f} score: {score.item():.4f}\")"
   ]
  },
  {
   "cell_type": "markdown",
   "metadata": {},
   "source": [
    "### [pytorch-3] Modeling and Training\n",
    "\n",
    "- Automatic backward propagation: loss.backward()\n",
    "- Manual update of weights and biases"
   ]
  },
  {
   "cell_type": "code",
   "execution_count": 12,
   "metadata": {},
   "outputs": [
    {
     "name": "stdout",
     "output_type": "stream",
     "text": [
      "[1000/10000] loss: 0.13 score: 0.9451\n",
      "[2000/10000] loss: 0.09 score: 0.9670\n",
      "[3000/10000] loss: 0.08 score: 0.9780\n",
      "[4000/10000] loss: 0.06 score: 0.9846\n",
      "[5000/10000] loss: 0.06 score: 0.9846\n",
      "[6000/10000] loss: 0.05 score: 0.9846\n",
      "[7000/10000] loss: 0.05 score: 0.9868\n",
      "[8000/10000] loss: 0.04 score: 0.9912\n",
      "[9000/10000] loss: 0.04 score: 0.9912\n",
      "[10000/10000] loss: 0.04 score: 0.9912\n"
     ]
    }
   ],
   "source": [
    "## Model: 2-layer MLP\n",
    "torch.manual_seed(42)\n",
    "input_size, hidden_size, output_size = 30, 100, 1\n",
    "\n",
    "w1 = torch.randn(input_size, hidden_size).requires_grad_()\n",
    "b1 = torch.zeros(hidden_size).requires_grad_()\n",
    "w2 = torch.randn(hidden_size, output_size).requires_grad_()\n",
    "b2 = torch.zeros(output_size).requires_grad_()\n",
    "\n",
    "## Train\n",
    "n_epochs = 10000\n",
    "learning_rate = 0.01\n",
    "\n",
    "for epoch in range(1, n_epochs + 1):\n",
    "    # Forward propagation\n",
    "    z1 = torch.mm(x, w1) + b1\n",
    "    a1 = torch.sigmoid(z1)\n",
    "    z2 = torch.mm(a1, w2) + b2\n",
    "    out = torch.sigmoid(z2)\n",
    "\n",
    "    loss = bce_loss(out, y)\n",
    "    score = binary_accuracy(out, y)\n",
    "\n",
    "    # # Backward progapation\n",
    "    loss.backward()\n",
    "\n",
    "    # Update weights and biases\n",
    "    with torch.no_grad():\n",
    "        w1 -= learning_rate * w1.grad\n",
    "        b1 -= learning_rate * b1.grad\n",
    "        w2 -= learning_rate * w2.grad\n",
    "        b2 -= learning_rate * b2.grad\n",
    "\n",
    "        w1.grad.zero_()\n",
    "        b1.grad.zero_()\n",
    "        w2.grad.zero_()\n",
    "        b2.grad.zero_()\n",
    "\n",
    "    if epoch % (n_epochs // 10) == 0:\n",
    "        print(f\"[{epoch}/{n_epochs}] loss: {loss.item():.2f} score: {score.item():.4f}\")"
   ]
  },
  {
   "cell_type": "markdown",
   "metadata": {},
   "source": [
    "### [pytorch-4] Modeling and Training\n",
    "\n",
    "- Automatic backward propagation: loss.backward()\n",
    "- Automatic update of weights and biases: optimizer"
   ]
  },
  {
   "cell_type": "code",
   "execution_count": 13,
   "metadata": {},
   "outputs": [
    {
     "name": "stdout",
     "output_type": "stream",
     "text": [
      "[1000/10000] loss: 0.13 score: 0.9451\n",
      "[2000/10000] loss: 0.09 score: 0.9670\n",
      "[3000/10000] loss: 0.08 score: 0.9780\n",
      "[4000/10000] loss: 0.06 score: 0.9846\n",
      "[5000/10000] loss: 0.06 score: 0.9846\n",
      "[6000/10000] loss: 0.05 score: 0.9846\n",
      "[7000/10000] loss: 0.05 score: 0.9868\n",
      "[8000/10000] loss: 0.04 score: 0.9912\n",
      "[9000/10000] loss: 0.04 score: 0.9912\n",
      "[10000/10000] loss: 0.04 score: 0.9912\n"
     ]
    }
   ],
   "source": [
    "## Model: 2-layer MLP\n",
    "torch.manual_seed(42)\n",
    "input_size, hidden_size, output_size = 30, 100, 1\n",
    "\n",
    "w1 = torch.randn(input_size, hidden_size).requires_grad_()\n",
    "b1 = torch.zeros(hidden_size).requires_grad_()\n",
    "w2 = torch.randn(hidden_size, output_size).requires_grad_()\n",
    "b2 = torch.zeros(output_size).requires_grad_()\n",
    "\n",
    "## Train\n",
    "n_epochs = 10000\n",
    "learning_rate = 0.01\n",
    "\n",
    "optimizer = optim.SGD([w1, b1, w2, b2], lr=learning_rate)\n",
    "\n",
    "for epoch in range(1, n_epochs + 1):\n",
    "    # Forward propagation\n",
    "    z1 = torch.mm(x, w1) + b1\n",
    "    a1 = torch.sigmoid(z1)\n",
    "    z2 = torch.mm(a1, w2) + b2\n",
    "    out = torch.sigmoid(z2)\n",
    "\n",
    "    loss = bce_loss(out, y)\n",
    "    score = binary_accuracy(out, y)\n",
    "\n",
    "    # # Backward progapation\n",
    "    loss.backward()\n",
    "\n",
    "    # Update weights and biases\n",
    "    optimizer.step()\n",
    "    optimizer.zero_grad()\n",
    "\n",
    "    if epoch % (n_epochs // 10) == 0:\n",
    "        print(f\"[{epoch}/{n_epochs}] loss: {loss.item():.2f} score: {score.item():.4f}\")"
   ]
  },
  {
   "cell_type": "markdown",
   "metadata": {},
   "source": [
    "### [pytorch-5] Modeling and Training\n",
    "\n",
    "- MLP model: torch.nn.Linear()\n",
    "- Automatic backward propagation: loss.backward()\n",
    "- Automatic update of weights and biases: optimizer"
   ]
  },
  {
   "cell_type": "code",
   "execution_count": null,
   "metadata": {},
   "outputs": [
    {
     "name": "stdout",
     "output_type": "stream",
     "text": [
      "[1000/10000] loss: 0.18 score: 0.9495\n",
      "[2000/10000] loss: 0.12 score: 0.9714\n",
      "[3000/10000] loss: 0.10 score: 0.9758\n",
      "[4000/10000] loss: 0.09 score: 0.9824\n",
      "[5000/10000] loss: 0.08 score: 0.9824\n",
      "[6000/10000] loss: 0.07 score: 0.9824\n",
      "[7000/10000] loss: 0.07 score: 0.9846\n",
      "[8000/10000] loss: 0.07 score: 0.9846\n",
      "[9000/10000] loss: 0.07 score: 0.9846\n",
      "[10000/10000] loss: 0.06 score: 0.9846\n"
     ]
    }
   ],
   "source": [
    "## Model: 2-layer MLP\n",
    "torch.manual_seed(42)\n",
    "input_size, hidden_size, output_size = 30, 100, 1\n",
    "\n",
    "model = nn.Sequential(\n",
    "    nn.Linear(input_size, hidden_size),\n",
    "    nn.Sigmoid(),\n",
    "    nn.Linear(hidden_size, output_size),\n",
    "    nn.Sigmoid(),\n",
    ")\n",
    "\n",
    "## Train\n",
    "n_epochs = 10000\n",
    "learning_rate = 0.01\n",
    "\n",
    "optimizer = optim.SGD(model.parameters(), lr=learning_rate)\n",
    "\n",
    "for epoch in range(1, n_epochs + 1):\n",
    "    # Forward propagation\n",
    "    out = model(x)\n",
    "\n",
    "    loss = bce_loss(out, y)\n",
    "    score = binary_accuracy(out, y)\n",
    "\n",
    "    # # Backward progapation\n",
    "    loss.backward()\n",
    "\n",
    "    # Update weights and biases\n",
    "    optimizer.step()\n",
    "    optimizer.zero_grad()\n",
    "\n",
    "    if epoch % (n_epochs // 10) == 0:\n",
    "        print(f\"[{epoch}/{n_epochs}] loss: {loss.item():.2f} score: {score.item():.4f}\")"
   ]
  },
  {
   "cell_type": "markdown",
   "metadata": {},
   "source": [
    "### [pytorch-6] Modeling and Training\n",
    "\n",
    "- MLP model: torch.nn.Linear() with initialization\n",
    "- Automatic backward propagation: loss.backward()\n",
    "- Automatic update of weights and biases: optimizer"
   ]
  },
  {
   "cell_type": "code",
   "execution_count": null,
   "metadata": {},
   "outputs": [
    {
     "name": "stdout",
     "output_type": "stream",
     "text": [
      "[1000/10000] loss: 0.17 score: 0.9363\n",
      "[2000/10000] loss: 0.11 score: 0.9626\n",
      "[3000/10000] loss: 0.09 score: 0.9736\n",
      "[4000/10000] loss: 0.07 score: 0.9780\n",
      "[5000/10000] loss: 0.06 score: 0.9780\n",
      "[6000/10000] loss: 0.06 score: 0.9846\n",
      "[7000/10000] loss: 0.05 score: 0.9890\n",
      "[8000/10000] loss: 0.05 score: 0.9912\n",
      "[9000/10000] loss: 0.04 score: 0.9912\n",
      "[10000/10000] loss: 0.04 score: 0.9912\n"
     ]
    }
   ],
   "source": [
    "## Model: 2-layer MLP\n",
    "torch.manual_seed(42)\n",
    "input_size, hidden_size, output_size = 30, 100, 1\n",
    "\n",
    "class MLP(nn.Module):\n",
    "    def __init__(self, input_dim, hidden_dim, output_dim):\n",
    "        super().__init__()\n",
    "        self.linear1 = nn.Linear(input_dim, hidden_dim)\n",
    "        self.linear2 = nn.Linear(hidden_dim, output_dim)\n",
    "        \n",
    "        ## initialization\n",
    "        torch.nn.init.normal_(self.linear1.weight)\n",
    "        torch.nn.init.normal_(self.linear2.weight)\n",
    "\n",
    "    def forward(self, x):\n",
    "        x = self.linear1(x)\n",
    "        x = torch.sigmoid(x)\n",
    "        x = self.linear2(x)  \n",
    "        x = torch.sigmoid(x)\n",
    "        return x\n",
    "\n",
    "model = MLP(input_size, hidden_size, output_size)\n",
    "\n",
    "## Train\n",
    "n_epochs = 10000\n",
    "learning_rate = 0.01\n",
    "\n",
    "loss_fn = nn.CrossEntropyLoss()\n",
    "optimizer = optim.SGD(model.parameters(), lr=learning_rate)\n",
    "\n",
    "for epoch in range(1, n_epochs + 1):\n",
    "    # Forward propagation\n",
    "    out = model(x)\n",
    "\n",
    "    loss = loss_fn(out, y)\n",
    "    score = binary_accuracy(out, y)\n",
    "\n",
    "    # # Backward progapation\n",
    "    loss.backward()\n",
    "\n",
    "    # Update weights and biases\n",
    "    optimizer.step()\n",
    "    optimizer.zero_grad()\n",
    "\n",
    "    if epoch % (n_epochs // 10) == 0:\n",
    "        print(f\"[{epoch}/{n_epochs}] loss: {loss.item():.2f} score: {score.item():.4f}\")"
   ]
  },
  {
   "cell_type": "markdown",
   "metadata": {},
   "source": [
    "### [pytorch-7] Modeling and Training (Multiclass Classification)\n",
    "\n",
    "- Model output: logit with without actiavtion function\n",
    "- Loss function: nn.CrossEntropyLoss() (No one-hot encoding, long type)\n",
    "- MLP model: torch.nn.Linear() with initialization\n",
    "- Automatic backward propagation: loss.backward()\n",
    "- Automatic update of weights and biases: optimizer"
   ]
  },
  {
   "cell_type": "code",
   "execution_count": 16,
   "metadata": {},
   "outputs": [
    {
     "name": "stdout",
     "output_type": "stream",
     "text": [
      "[100/1000] loss: 0.59 score: 0.8374\n",
      "[200/1000] loss: 0.37 score: 0.8813\n",
      "[300/1000] loss: 0.27 score: 0.9187\n",
      "[400/1000] loss: 0.21 score: 0.9253\n",
      "[500/1000] loss: 0.17 score: 0.9363\n",
      "[600/1000] loss: 0.14 score: 0.9429\n",
      "[700/1000] loss: 0.12 score: 0.9516\n",
      "[800/1000] loss: 0.11 score: 0.9582\n",
      "[900/1000] loss: 0.11 score: 0.9582\n",
      "[1000/1000] loss: 0.10 score: 0.9626\n"
     ]
    }
   ],
   "source": [
    "## Model: 2-layer MLP\n",
    "torch.manual_seed(42)\n",
    "input_size, hidden_size, output_size = 30, 100, 2\n",
    "\n",
    "class MLP(nn.Module):\n",
    "    def __init__(self, input_dim, hidden_dim, output_dim):\n",
    "        super().__init__()\n",
    "        self.linear1 = nn.Linear(input_dim, hidden_dim)\n",
    "        self.linear2 = nn.Linear(hidden_dim, output_dim)\n",
    "        \n",
    "        ## initialization\n",
    "        torch.nn.init.normal_(self.linear1.weight)\n",
    "        torch.nn.init.normal_(self.linear2.weight)\n",
    "\n",
    "    def forward(self, x):\n",
    "        x = self.linear1(x)\n",
    "        x = torch.sigmoid(x)\n",
    "        x = self.linear2(x)  \n",
    "        return x            # No activation for logit\n",
    "\n",
    "def accuracy(y_pred, y_true):\n",
    "    y_pred = y_pred.argmax(dim=1)\n",
    "    return torch.eq(y_pred, y_true).float().mean()\n",
    "\n",
    "model = MLP(input_size, hidden_size, output_size)\n",
    "\n",
    "## Train\n",
    "n_epochs = 1000\n",
    "learning_rate = 0.01\n",
    "\n",
    "loss_fn = nn.CrossEntropyLoss()\n",
    "optimizer = optim.SGD(model.parameters(), lr=learning_rate)\n",
    "\n",
    "for epoch in range(1, n_epochs + 1):\n",
    "    # Forward propagation\n",
    "    out = model(x)\n",
    "\n",
    "    loss = loss_fn(out, y.squeeze().long())\n",
    "    score = accuracy(out, y.squeeze().long())\n",
    "\n",
    "    # # Backward progapation\n",
    "    loss.backward()\n",
    "\n",
    "    # Update weights and biases\n",
    "    optimizer.step()\n",
    "    optimizer.zero_grad()\n",
    "\n",
    "    if epoch % (n_epochs // 10) == 0:\n",
    "        print(f\"[{epoch}/{n_epochs}] loss: {loss.item():.2f} score: {score.item():.4f}\")"
   ]
  }
 ],
 "metadata": {
  "kernelspec": {
   "display_name": "pytorch",
   "language": "python",
   "name": "python3"
  },
  "language_info": {
   "codemirror_mode": {
    "name": "ipython",
    "version": 3
   },
   "file_extension": ".py",
   "mimetype": "text/x-python",
   "name": "python",
   "nbconvert_exporter": "python",
   "pygments_lexer": "ipython3",
   "version": "3.10.15"
  }
 },
 "nbformat": 4,
 "nbformat_minor": 2
}
