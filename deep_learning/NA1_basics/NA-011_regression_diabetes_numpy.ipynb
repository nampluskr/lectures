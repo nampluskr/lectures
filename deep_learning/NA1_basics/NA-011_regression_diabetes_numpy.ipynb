{
 "cells": [
  {
   "cell_type": "markdown",
   "metadata": {},
   "source": [
    "## Regression - Diabetes [numpy]\n",
    "\n",
    "- created: 2024.11.17"
   ]
  },
  {
   "cell_type": "markdown",
   "metadata": {},
   "source": [
    "### Data"
   ]
  },
  {
   "cell_type": "code",
   "execution_count": 1,
   "metadata": {},
   "outputs": [
    {
     "name": "stdout",
     "output_type": "stream",
     "text": [
      "(353, 10) (353,)\n",
      "(89, 10) (89,)\n"
     ]
    }
   ],
   "source": [
    "from sklearn.datasets import load_diabetes\n",
    "from sklearn.model_selection import train_test_split\n",
    "from sklearn.preprocessing import StandardScaler\n",
    "\n",
    "# Load data\n",
    "x, y = load_diabetes(return_X_y=True)\n",
    "x_train, x_test, y_train, y_test = train_test_split(x, y, test_size=0.2, random_state=42)\n",
    "\n",
    "scaler = StandardScaler()\n",
    "x_train_scaled = scaler.fit_transform(x_train)\n",
    "x_test_scaled = scaler.transform(x_test)\n",
    "\n",
    "print(x_train_scaled.shape, y_train.shape)\n",
    "print(x_test_scaled.shape, y_test.shape)"
   ]
  },
  {
   "cell_type": "markdown",
   "metadata": {},
   "source": [
    "### [scikit-learn] Modeling and Training"
   ]
  },
  {
   "cell_type": "code",
   "execution_count": 2,
   "metadata": {},
   "outputs": [
    {
     "name": "stdout",
     "output_type": "stream",
     "text": [
      "Train Accuracy: 0.5279\n",
      "Test  Accuracy: 0.4526\n"
     ]
    }
   ],
   "source": [
    "from sklearn.linear_model import LinearRegression\n",
    "from sklearn.metrics import r2_score\n",
    "\n",
    "# sklearn model\n",
    "model = LinearRegression()\n",
    "model.fit(x_train_scaled, y_train)\n",
    "\n",
    "# Training\n",
    "y_pred = model.predict(x_train_scaled)\n",
    "acc = r2_score(y_train, y_pred)\n",
    "print(f'Train Accuracy: {acc:.4f}')\n",
    "\n",
    "# Evaluation\n",
    "y_pred = model.predict(x_test_scaled)\n",
    "acc = r2_score(y_test, y_pred)\n",
    "print(f'Test  Accuracy: {acc:.4f}')"
   ]
  },
  {
   "cell_type": "markdown",
   "metadata": {},
   "source": [
    "### [numpy] Modeling and Training\n",
    "\n",
    "- Manual backward propagation\n",
    "- Manual update of weights and biases"
   ]
  },
  {
   "cell_type": "code",
   "execution_count": 3,
   "metadata": {},
   "outputs": [
    {
     "name": "stdout",
     "output_type": "stream",
     "text": [
      "(353, 10) (353, 1)\n"
     ]
    }
   ],
   "source": [
    "import numpy as np\n",
    "from scipy.special import expit as sigmoid\n",
    "\n",
    "def r2_score(y_pred, y_true):\n",
    "    mean_y_true = np.mean(y_true)\n",
    "    ss_tot = np.sum((y_true - mean_y_true) ** 2)\n",
    "    ss_res = np.sum((y_true - y_pred) ** 2)\n",
    "    return 1 - (ss_res / ss_tot)\n",
    "\n",
    "## Data\n",
    "x, y = x_train_scaled, y_train.reshape(-1, 1)\n",
    "print(x.shape, y.shape)"
   ]
  },
  {
   "cell_type": "code",
   "execution_count": 4,
   "metadata": {},
   "outputs": [
    {
     "name": "stdout",
     "output_type": "stream",
     "text": [
      "[1000/10000] loss: 2143.72 score: 0.6472\n",
      "[2000/10000] loss: 2048.47 score: 0.6629\n",
      "[3000/10000] loss: 2030.28 score: 0.6659\n",
      "[4000/10000] loss: 2000.32 score: 0.6708\n",
      "[5000/10000] loss: 1965.99 score: 0.6765\n",
      "[6000/10000] loss: 1964.31 score: 0.6767\n",
      "[7000/10000] loss: 1873.52 score: 0.6917\n",
      "[8000/10000] loss: 1782.18 score: 0.7067\n",
      "[9000/10000] loss: 1756.15 score: 0.7110\n",
      "[10000/10000] loss: 1746.60 score: 0.7126\n"
     ]
    }
   ],
   "source": [
    "## Model: 2-layer MLP\n",
    "np.random.seed(42)\n",
    "input_size, hidden_size, output_size = 10, 100, 1\n",
    "\n",
    "w1 = np.random.randn(input_size, hidden_size)   # weight of 1st layer\n",
    "b1 = np.zeros(hidden_size)                      # bias of 1st layer\n",
    "w2 = np.random.randn(hidden_size, output_size)  # weight of 2nd layer\n",
    "b2 = np.zeros(output_size)                      # bias of 2nd layer\n",
    "\n",
    "## Train\n",
    "n_epochs = 10000\n",
    "learning_rate = 0.1\n",
    "\n",
    "for epoch in range(1, n_epochs + 1):\n",
    "    # Forward propagation\n",
    "    z1 = np.dot(x, w1) + b1\n",
    "    a1 = sigmoid(z1)\n",
    "    z2 = np.dot(a1, w2) + b2\n",
    "    out = z2\n",
    "\n",
    "    loss = np.mean((out - y)**2)\n",
    "    score = r2_score(out, y)\n",
    "\n",
    "    # Backward progapation\n",
    "    grad_out = 2 * (out - y) / y.shape[0]\n",
    "    grad_z2 = grad_out\n",
    "    grad_w2 = np.dot(a1.T, grad_z2)\n",
    "    grad_b2 = np.sum(grad_z2, axis=0)\n",
    "\n",
    "    grad_a1 = np.dot(grad_z2, w2.T)\n",
    "    grad_z1 = a1 * (1 - a1) * grad_a1\n",
    "    grad_w1 = np.dot(x.T, grad_z1)\n",
    "    grad_b1 = np.sum(grad_z1, axis=0)\n",
    "\n",
    "    # Update weights and biases\n",
    "    w1 -= learning_rate * grad_w1\n",
    "    b1 -= learning_rate * grad_b1\n",
    "    w2 -= learning_rate * grad_w2\n",
    "    b2 -= learning_rate * grad_b2\n",
    "\n",
    "    if epoch % (n_epochs // 10) == 0:\n",
    "        print(f\"[{epoch}/{n_epochs}] loss: {loss.item():.2f} score: {score:.4f}\")"
   ]
  }
 ],
 "metadata": {
  "kernelspec": {
   "display_name": "pytorch",
   "language": "python",
   "name": "python3"
  },
  "language_info": {
   "codemirror_mode": {
    "name": "ipython",
    "version": 3
   },
   "file_extension": ".py",
   "mimetype": "text/x-python",
   "name": "python",
   "nbconvert_exporter": "python",
   "pygments_lexer": "ipython3",
   "version": "3.10.15"
  }
 },
 "nbformat": 4,
 "nbformat_minor": 2
}
