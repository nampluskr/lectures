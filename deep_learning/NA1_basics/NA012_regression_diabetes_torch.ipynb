{
 "cells": [
  {
   "cell_type": "markdown",
   "metadata": {},
   "source": [
    "## Regression - Diabetes [pytorch]"
   ]
  },
  {
   "cell_type": "markdown",
   "metadata": {},
   "source": [
    "### Data"
   ]
  },
  {
   "cell_type": "code",
   "execution_count": 1,
   "metadata": {},
   "outputs": [
    {
     "name": "stdout",
     "output_type": "stream",
     "text": [
      "(353, 10) (353,)\n",
      "(89, 10) (89,)\n"
     ]
    }
   ],
   "source": [
    "from sklearn.datasets import load_diabetes\n",
    "from sklearn.model_selection import train_test_split\n",
    "from sklearn.preprocessing import StandardScaler\n",
    "\n",
    "# Load data\n",
    "x, y = load_diabetes(return_X_y=True)\n",
    "x_train, x_test, y_train, y_test = train_test_split(x, y, test_size=0.2, random_state=42)\n",
    "\n",
    "scaler = StandardScaler()\n",
    "x_train_scaled = scaler.fit_transform(x_train)\n",
    "x_test_scaled = scaler.transform(x_test)\n",
    "\n",
    "print(x_train_scaled.shape, y_train.shape)\n",
    "print(x_test_scaled.shape, y_test.shape)"
   ]
  },
  {
   "cell_type": "markdown",
   "metadata": {},
   "source": [
    "### [scikit-learn] Modeling and Training"
   ]
  },
  {
   "cell_type": "code",
   "execution_count": 2,
   "metadata": {},
   "outputs": [
    {
     "name": "stdout",
     "output_type": "stream",
     "text": [
      "Train Accuracy: 0.5279\n",
      "Test  Accuracy: 0.4526\n"
     ]
    }
   ],
   "source": [
    "from sklearn.linear_model import LinearRegression\n",
    "from sklearn.metrics import r2_score\n",
    "\n",
    "# sklearn model\n",
    "model = LinearRegression()\n",
    "model.fit(x_train_scaled, y_train)\n",
    "\n",
    "# Training\n",
    "y_pred = model.predict(x_train_scaled)\n",
    "acc = r2_score(y_train, y_pred)\n",
    "print(f'Train Accuracy: {acc:.4f}')\n",
    "\n",
    "# Evaluation\n",
    "y_pred = model.predict(x_test_scaled)\n",
    "acc = r2_score(y_test, y_pred)\n",
    "print(f'Test  Accuracy: {acc:.4f}')"
   ]
  },
  {
   "cell_type": "markdown",
   "metadata": {},
   "source": [
    "### [pytorch-1] Modeling and Training\n",
    "\n",
    "- Manual backward propagation\n",
    "- Manual update of weights and biases"
   ]
  },
  {
   "cell_type": "code",
   "execution_count": 3,
   "metadata": {},
   "outputs": [
    {
     "name": "stdout",
     "output_type": "stream",
     "text": [
      "torch.Size([353, 10]) torch.Size([353, 1])\n"
     ]
    }
   ],
   "source": [
    "import torch\n",
    "import torch.nn as nn\n",
    "import torch.optim as optim\n",
    "\n",
    "def r2_score(y_pred, y_true):\n",
    "    mean_y = torch.mean(y_true)\n",
    "    ss_tot = torch.sum((y_true - mean_y)**2)\n",
    "    ss_res = torch.sum((y_true - y_pred)**2)  \n",
    "    return 1 - (ss_res / ss_tot)\n",
    "\n",
    "## Data\n",
    "x = torch.tensor(x_train_scaled).float()\n",
    "y = torch.tensor(y_train).float().view(-1, 1)\n",
    "print(x.shape, y.shape)"
   ]
  },
  {
   "cell_type": "code",
   "execution_count": 4,
   "metadata": {},
   "outputs": [
    {
     "name": "stdout",
     "output_type": "stream",
     "text": [
      "[1000/10000] loss: 2093.73 score: 0.6554\n",
      "[2000/10000] loss: 1979.78 score: 0.6742\n",
      "[3000/10000] loss: 1863.31 score: 0.6934\n",
      "[4000/10000] loss: 1816.44 score: 0.7011\n",
      "[5000/10000] loss: 1779.00 score: 0.7072\n",
      "[6000/10000] loss: 1726.83 score: 0.7158\n",
      "[7000/10000] loss: 1657.75 score: 0.7272\n",
      "[8000/10000] loss: 1650.90 score: 0.7283\n",
      "[9000/10000] loss: 1646.59 score: 0.7290\n",
      "[10000/10000] loss: 1635.94 score: 0.7308\n"
     ]
    }
   ],
   "source": [
    "## Model: 2-layer MLP\n",
    "torch.manual_seed(42)\n",
    "input_size, hidden_size, output_size = 10, 100, 1\n",
    "\n",
    "w1 = torch.randn(input_size, hidden_size)\n",
    "b1 = torch.zeros(hidden_size)\n",
    "w2 = torch.randn(hidden_size, output_size)\n",
    "b2 = torch.zeros(output_size)\n",
    "\n",
    "## Train\n",
    "n_epochs = 10000\n",
    "learning_rate = 0.1\n",
    "\n",
    "for epoch in range(1, n_epochs + 1):\n",
    "    # Forward propagation\n",
    "    z1 = torch.mm(x, w1) + b1\n",
    "    a1 = torch.sigmoid(z1)\n",
    "    z2 = torch.mm(a1, w2) + b2\n",
    "    out = z2\n",
    "\n",
    "    loss = torch.mean((out - y)**2)\n",
    "    score = r2_score(out, y)\n",
    "\n",
    "    # # Backward progapation\n",
    "    grad_out = 2 * (out - y) / y.shape[0]\n",
    "    grad_z2 = grad_out\n",
    "    grad_w2 = torch.mm(a1.T, grad_z2)\n",
    "    grad_b2 = torch.sum(grad_out, dim=0)\n",
    "\n",
    "    grad_a1 = torch.mm(grad_z2, w2.T)\n",
    "    grad_z1 = a1 * (1 - a1) * grad_a1\n",
    "    grad_w1 = torch.mm(x.T, grad_z1)\n",
    "    grad_b1 = torch.sum(grad_z1, dim=0)\n",
    "\n",
    "    # # Update weights and biases\n",
    "    w1 -= learning_rate * grad_w1\n",
    "    b1 -= learning_rate * grad_b1\n",
    "    w2 -= learning_rate * grad_w2\n",
    "    b2 -= learning_rate * grad_b2\n",
    "\n",
    "    if epoch % (n_epochs // 10) == 0:\n",
    "        print(f\"[{epoch}/{n_epochs}] loss: {loss.item():.2f} score: {score.item():.4f}\")"
   ]
  },
  {
   "cell_type": "markdown",
   "metadata": {},
   "source": [
    "### [pytorch-2] Modeling and Training\n",
    "\n",
    "- Automatic backward propagation: torch.autograd.grad()\n",
    "- Manual update of weights and biases"
   ]
  },
  {
   "cell_type": "code",
   "execution_count": 5,
   "metadata": {},
   "outputs": [
    {
     "name": "stdout",
     "output_type": "stream",
     "text": [
      "[1000/10000] loss: 2183.73 score: 0.6406\n",
      "[2000/10000] loss: 2027.13 score: 0.6664\n",
      "[3000/10000] loss: 1956.86 score: 0.6780\n",
      "[4000/10000] loss: 1888.61 score: 0.6892\n",
      "[5000/10000] loss: 1842.92 score: 0.6967\n",
      "[6000/10000] loss: 1820.54 score: 0.7004\n",
      "[7000/10000] loss: 1781.25 score: 0.7069\n",
      "[8000/10000] loss: 1695.08 score: 0.7210\n",
      "[9000/10000] loss: 1653.57 score: 0.7279\n",
      "[10000/10000] loss: 1635.12 score: 0.7309\n"
     ]
    }
   ],
   "source": [
    "## Model: 2-layer MLP\n",
    "torch.manual_seed(42)\n",
    "input_size, hidden_size, output_size = 10, 100, 1\n",
    "\n",
    "w1 = torch.randn(input_size, hidden_size).requires_grad_()\n",
    "b1 = torch.zeros(hidden_size).requires_grad_()\n",
    "w2 = torch.randn(hidden_size, output_size).requires_grad_()\n",
    "b2 = torch.zeros(output_size).requires_grad_()\n",
    "\n",
    "## Train\n",
    "n_epochs = 10000\n",
    "learning_rate = 0.1\n",
    "\n",
    "for epoch in range(1, n_epochs + 1):\n",
    "    # Forward propagation\n",
    "    z1 = torch.mm(x, w1) + b1\n",
    "    a1 = torch.sigmoid(z1)\n",
    "    z2 = torch.mm(a1, w2) + b2\n",
    "    out = z2\n",
    "\n",
    "    loss = torch.mean((out - y)**2)\n",
    "    score = r2_score(out, y)\n",
    "\n",
    "    # # Backward progapation\n",
    "    grads = torch.autograd.grad(loss, [w1, b1, w2, b2], create_graph=True)\n",
    "\n",
    "    # Update weights and biases\n",
    "    with torch.no_grad():\n",
    "        w1 -= learning_rate * grads[0]\n",
    "        b1 -= learning_rate * grads[1]\n",
    "        w2 -= learning_rate * grads[2]\n",
    "        b2 -= learning_rate * grads[3]\n",
    "\n",
    "    if epoch % (n_epochs // 10) == 0:\n",
    "        print(f\"[{epoch}/{n_epochs}] loss: {loss.item():.2f} score: {score.item():.4f}\")"
   ]
  },
  {
   "cell_type": "markdown",
   "metadata": {},
   "source": [
    "### [pytorch-3] Modeling and Training\n",
    "\n",
    "- Automatic backward propagation: loss.backward()\n",
    "- Manual update of weights and biases"
   ]
  },
  {
   "cell_type": "code",
   "execution_count": 6,
   "metadata": {},
   "outputs": [
    {
     "name": "stdout",
     "output_type": "stream",
     "text": [
      "[1000/10000] loss: 2183.73 score: 0.6406\n",
      "[2000/10000] loss: 2027.13 score: 0.6664\n",
      "[3000/10000] loss: 1956.86 score: 0.6780\n",
      "[4000/10000] loss: 1888.61 score: 0.6892\n",
      "[5000/10000] loss: 1842.92 score: 0.6967\n",
      "[6000/10000] loss: 1820.54 score: 0.7004\n",
      "[7000/10000] loss: 1781.25 score: 0.7069\n",
      "[8000/10000] loss: 1695.08 score: 0.7210\n",
      "[9000/10000] loss: 1653.57 score: 0.7279\n",
      "[10000/10000] loss: 1635.12 score: 0.7309\n"
     ]
    }
   ],
   "source": [
    "## Model: 2-layer MLP\n",
    "torch.manual_seed(42)\n",
    "input_size, hidden_size, output_size = 10, 100, 1\n",
    "\n",
    "w1 = torch.randn(input_size, hidden_size).requires_grad_()\n",
    "b1 = torch.zeros(hidden_size).requires_grad_()\n",
    "w2 = torch.randn(hidden_size, output_size).requires_grad_()\n",
    "b2 = torch.zeros(output_size).requires_grad_()\n",
    "\n",
    "## Train\n",
    "n_epochs = 10000\n",
    "learning_rate = 0.1\n",
    "\n",
    "for epoch in range(1, n_epochs + 1):\n",
    "    # Forward propagation\n",
    "    z1 = torch.mm(x, w1) + b1\n",
    "    a1 = torch.sigmoid(z1)\n",
    "    z2 = torch.mm(a1, w2) + b2\n",
    "    out = z2\n",
    "\n",
    "    loss = torch.mean((out - y)**2)\n",
    "    score = r2_score(out, y)\n",
    "\n",
    "    # # Backward progapation\n",
    "    loss.backward()\n",
    "\n",
    "    # Update weights and biases\n",
    "    with torch.no_grad():\n",
    "        w1 -= learning_rate * w1.grad\n",
    "        b1 -= learning_rate * b1.grad\n",
    "        w2 -= learning_rate * w2.grad\n",
    "        b2 -= learning_rate * b2.grad\n",
    "\n",
    "        w1.grad.zero_()\n",
    "        b1.grad.zero_()\n",
    "        w2.grad.zero_()\n",
    "        b2.grad.zero_()\n",
    "\n",
    "    if epoch % (n_epochs // 10) == 0:\n",
    "        print(f\"[{epoch}/{n_epochs}] loss: {loss.item():.2f} score: {score.item():.4f}\")"
   ]
  },
  {
   "cell_type": "markdown",
   "metadata": {},
   "source": [
    "### [pytorch-4] Modeling and Training\n",
    "\n",
    "- Automatic backward propagation: loss.backward()\n",
    "- Automatic update of weights and biases: optimizer"
   ]
  },
  {
   "cell_type": "code",
   "execution_count": 7,
   "metadata": {},
   "outputs": [
    {
     "name": "stdout",
     "output_type": "stream",
     "text": [
      "[1000/10000] loss: 2101.86 score: 0.6541\n",
      "[2000/10000] loss: 2048.99 score: 0.6628\n",
      "[3000/10000] loss: 1964.38 score: 0.6767\n",
      "[4000/10000] loss: 1871.65 score: 0.6920\n",
      "[5000/10000] loss: 1803.78 score: 0.7032\n",
      "[6000/10000] loss: 1743.77 score: 0.7130\n",
      "[7000/10000] loss: 1703.55 score: 0.7196\n",
      "[8000/10000] loss: 1692.61 score: 0.7214\n",
      "[9000/10000] loss: 1682.86 score: 0.7231\n",
      "[10000/10000] loss: 1682.41 score: 0.7231\n"
     ]
    }
   ],
   "source": [
    "## Model: 2-layer MLP\n",
    "torch.manual_seed(42)\n",
    "input_size, hidden_size, output_size = 10, 100, 1\n",
    "\n",
    "w1 = torch.randn(input_size, hidden_size).requires_grad_()\n",
    "b1 = torch.zeros(hidden_size).requires_grad_()\n",
    "w2 = torch.randn(hidden_size, output_size).requires_grad_()\n",
    "b2 = torch.zeros(output_size).requires_grad_()\n",
    "\n",
    "## Train\n",
    "n_epochs = 10000\n",
    "learning_rate = 0.1\n",
    "\n",
    "optimizer = optim.SGD([w1, b1, w2, b2], lr=learning_rate)\n",
    "\n",
    "for epoch in range(1, n_epochs + 1):\n",
    "    # Forward propagation\n",
    "    z1 = torch.mm(x, w1) + b1\n",
    "    a1 = torch.sigmoid(z1)\n",
    "    z2 = torch.mm(a1, w2) + b2\n",
    "    out = z2\n",
    "\n",
    "    loss = torch.mean((out - y)**2)\n",
    "    score = r2_score(out, y)\n",
    "\n",
    "    # # Backward progapation\n",
    "    loss.backward()\n",
    "\n",
    "    # Update weights and biases\n",
    "    optimizer.step()\n",
    "    optimizer.zero_grad()\n",
    "\n",
    "    if epoch % (n_epochs // 10) == 0:\n",
    "        print(f\"[{epoch}/{n_epochs}] loss: {loss.item():.2f} score: {score.item():.4f}\")"
   ]
  },
  {
   "cell_type": "markdown",
   "metadata": {},
   "source": [
    "### [pytorch-5] Modeling and Training\n",
    "\n",
    "- MLP model: torch.nn.Linear()\n",
    "- Automatic backward propagation: loss.backward()\n",
    "- Automatic update of weights and biases: optimizer"
   ]
  },
  {
   "cell_type": "code",
   "execution_count": 8,
   "metadata": {},
   "outputs": [
    {
     "name": "stdout",
     "output_type": "stream",
     "text": [
      "[1000/10000] loss: 3659.79 score: 0.3977\n",
      "[2000/10000] loss: 3607.84 score: 0.4063\n",
      "[3000/10000] loss: 3545.18 score: 0.4166\n",
      "[4000/10000] loss: 3506.80 score: 0.4229\n",
      "[5000/10000] loss: 3446.41 score: 0.4328\n",
      "[6000/10000] loss: 3441.26 score: 0.4337\n",
      "[7000/10000] loss: 3326.53 score: 0.4525\n",
      "[8000/10000] loss: 3294.39 score: 0.4578\n",
      "[9000/10000] loss: 3269.97 score: 0.4619\n",
      "[10000/10000] loss: 3284.90 score: 0.4594\n"
     ]
    }
   ],
   "source": [
    "## Model: 2-layer MLP\n",
    "torch.manual_seed(42)\n",
    "input_size, hidden_size, output_size = 10, 100, 1\n",
    "\n",
    "model = nn.Sequential(\n",
    "    nn.Linear(input_size, hidden_size),\n",
    "    nn.Sigmoid(),\n",
    "    nn.Linear(hidden_size, output_size),\n",
    ")\n",
    "\n",
    "## Train\n",
    "n_epochs = 10000\n",
    "learning_rate = 0.1\n",
    "\n",
    "loss_fn = nn.MSELoss()\n",
    "optimizer = optim.SGD(model.parameters(), lr=learning_rate)\n",
    "\n",
    "for epoch in range(1, n_epochs + 1):\n",
    "    # Forward propagation\n",
    "    out = model(x)\n",
    "\n",
    "    loss = loss_fn(out, y)\n",
    "    score = r2_score(out, y)\n",
    "\n",
    "    # # Backward progapation\n",
    "    loss.backward()\n",
    "\n",
    "    # Update weights and biases\n",
    "    optimizer.step()\n",
    "    optimizer.zero_grad()\n",
    "\n",
    "    if epoch % (n_epochs // 10) == 0:\n",
    "        print(f\"[{epoch}/{n_epochs}] loss: {loss.item():.2f} score: {score.item():.4f}\")"
   ]
  },
  {
   "cell_type": "markdown",
   "metadata": {},
   "source": [
    "### [pytorch-6] Modeling and Training\n",
    "\n",
    "- MLP model: torch.nn.Linear() with initialization\n",
    "- Automatic backward propagation: loss.backward()\n",
    "- Automatic update of weights and biases: optimizer"
   ]
  },
  {
   "cell_type": "code",
   "execution_count": 9,
   "metadata": {},
   "outputs": [
    {
     "name": "stdout",
     "output_type": "stream",
     "text": [
      "[1000/10000] loss: 2059.90 score: 0.6610\n",
      "[2000/10000] loss: 1907.40 score: 0.6861\n",
      "[3000/10000] loss: 1826.25 score: 0.6995\n",
      "[4000/10000] loss: 1757.20 score: 0.7108\n",
      "[5000/10000] loss: 1741.95 score: 0.7133\n",
      "[6000/10000] loss: 1707.32 score: 0.7190\n",
      "[7000/10000] loss: 1662.56 score: 0.7264\n",
      "[8000/10000] loss: 1656.79 score: 0.7273\n",
      "[9000/10000] loss: 1651.06 score: 0.7283\n",
      "[10000/10000] loss: 1604.59 score: 0.7359\n"
     ]
    }
   ],
   "source": [
    "## Model: 2-layer MLP\n",
    "torch.manual_seed(42)\n",
    "input_size, hidden_size, output_size = 10, 100, 1\n",
    "\n",
    "class MLP(nn.Module):\n",
    "    def __init__(self, input_dim, hidden_dim, output_dim):\n",
    "        super().__init__()\n",
    "        self.linear1 = nn.Linear(input_dim, hidden_dim)\n",
    "        self.linear2 = nn.Linear(hidden_dim, output_dim)\n",
    "        \n",
    "        ## initialization\n",
    "        torch.nn.init.normal_(self.linear1.weight)\n",
    "        torch.nn.init.normal_(self.linear2.weight)\n",
    "\n",
    "    def forward(self, x):\n",
    "        x = self.linear1(x)\n",
    "        x = torch.sigmoid(x)\n",
    "        x = self.linear2(x)  \n",
    "        return x\n",
    "\n",
    "model = MLP(input_size, hidden_size, output_size)\n",
    "\n",
    "## Train\n",
    "n_epochs = 10000\n",
    "learning_rate = 0.1\n",
    "\n",
    "loss_fn = nn.MSELoss()\n",
    "optimizer = optim.SGD(model.parameters(), lr=learning_rate)\n",
    "\n",
    "for epoch in range(1, n_epochs + 1):\n",
    "    # Forward propagation\n",
    "    out = model(x)\n",
    "\n",
    "    loss = loss_fn(out, y)\n",
    "    score = r2_score(out, y)\n",
    "\n",
    "    # # Backward progapation\n",
    "    loss.backward()\n",
    "\n",
    "    # Update weights and biases\n",
    "    optimizer.step()\n",
    "    optimizer.zero_grad()\n",
    "\n",
    "    if epoch % (n_epochs // 10) == 0:\n",
    "        print(f\"[{epoch}/{n_epochs}] loss: {loss.item():.2f} score: {score.item():.4f}\")"
   ]
  }
 ],
 "metadata": {
  "kernelspec": {
   "display_name": "pytorch",
   "language": "python",
   "name": "python3"
  },
  "language_info": {
   "codemirror_mode": {
    "name": "ipython",
    "version": 3
   },
   "file_extension": ".py",
   "mimetype": "text/x-python",
   "name": "python",
   "nbconvert_exporter": "python",
   "pygments_lexer": "ipython3",
   "version": "3.10.15"
  }
 },
 "nbformat": 4,
 "nbformat_minor": 2
}
