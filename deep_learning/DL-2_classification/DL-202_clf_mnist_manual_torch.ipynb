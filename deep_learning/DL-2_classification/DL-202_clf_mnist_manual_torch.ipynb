{
 "cells": [
  {
   "cell_type": "markdown",
   "metadata": {},
   "source": [
    "## Classificaiton of MNIST [numpy]"
   ]
  },
  {
   "cell_type": "code",
   "execution_count": 1,
   "metadata": {},
   "outputs": [],
   "source": [
    "import numpy as np"
   ]
  },
  {
   "cell_type": "markdown",
   "metadata": {},
   "source": [
    "### Data\n",
    "\n",
    "- Train images: t10k-images-idx3-ubyte.gz\n",
    "- Train labels: t10k-labels-idx1-ubyte.gz\n",
    "- Test images: train-images-idx3-ubyte.gz\n",
    "- Test labels: train-labels-idx1-ubyte.gz"
   ]
  },
  {
   "cell_type": "code",
   "execution_count": 2,
   "metadata": {},
   "outputs": [
    {
     "name": "stdout",
     "output_type": "stream",
     "text": [
      ">> Train images: (60000, 28, 28), uint8\n",
      ">> Train labels: (60000,), uint8\n",
      ">> Test images:  (10000, 28, 28), uint8\n",
      ">> Test labels:  (10000,), uint8\n"
     ]
    }
   ],
   "source": [
    "import os\n",
    "import gzip\n",
    "\n",
    "def load_mnist_images(data_dir, filename):\n",
    "    data_path = os.path.join(data_dir, filename)\n",
    "    with gzip.open(data_path, 'rb') as f:\n",
    "        data = np.frombuffer(f.read(), np.uint8, offset=16)\n",
    "    return data.reshape(-1, 28, 28)\n",
    "\n",
    "def load_mnist_labels(data_dir, filename):\n",
    "    data_path = os.path.join(data_dir, filename)\n",
    "    with gzip.open(data_path, 'rb') as f:\n",
    "        data = np.frombuffer(f.read(), np.uint8, offset=8)\n",
    "    return data\n",
    "\n",
    "data_dir = \"/mnt/d/datasets/fashion_mnist_29M/\"\n",
    "x_train = load_mnist_images(data_dir, \"train-images-idx3-ubyte.gz\")\n",
    "y_train = load_mnist_labels(data_dir, \"train-labels-idx1-ubyte.gz\")\n",
    "x_test = load_mnist_images(data_dir, \"t10k-images-idx3-ubyte.gz\")\n",
    "y_test = load_mnist_labels(data_dir, \"t10k-labels-idx1-ubyte.gz\")\n",
    "\n",
    "print(f\">> Train images: {x_train.shape}, {x_train.dtype}\")\n",
    "print(f\">> Train labels: {y_train.shape}, {y_train.dtype}\")\n",
    "print(f\">> Test images:  {x_test.shape}, {x_test.dtype}\")\n",
    "print(f\">> Test labels:  {y_test.shape}, {y_test.dtype}\")"
   ]
  },
  {
   "cell_type": "markdown",
   "metadata": {},
   "source": [
    "### Preprocessing"
   ]
  },
  {
   "cell_type": "code",
   "execution_count": 3,
   "metadata": {},
   "outputs": [
    {
     "name": "stdout",
     "output_type": "stream",
     "text": [
      ">> Train images: (60000, 784), float32\n",
      ">> Train labels: (60000, 10), int64\n",
      ">> Test images:  (10000, 784), float32\n",
      ">> Test labels:  (10000, 10), int64\n"
     ]
    }
   ],
   "source": [
    "def one_hot(y, n_classes):\n",
    "    return np.eye(n_classes)[y]\n",
    "\n",
    "x_train_scaled = x_train.astype(np.float32).reshape(-1, 28*28) / 255\n",
    "x_test_scaled = x_test.astype(np.float32).reshape(-1, 28*28) / 255\n",
    "\n",
    "y_train_onehot = one_hot(y_train, n_classes=10).astype(np.int64)\n",
    "y_test_onehot = one_hot(y_test, n_classes=10).astype(np.int64)\n",
    "\n",
    "print(f\">> Train images: {x_train_scaled.shape}, {x_train_scaled.dtype}\")\n",
    "print(f\">> Train labels: {y_train_onehot.shape}, {y_train_onehot.dtype}\")\n",
    "print(f\">> Test images:  {x_test_scaled.shape}, {x_test_scaled.dtype}\")\n",
    "print(f\">> Test labels:  {y_test_onehot.shape}, {y_test_onehot.dtype}\")"
   ]
  },
  {
   "cell_type": "markdown",
   "metadata": {},
   "source": [
    "### Modeling"
   ]
  },
  {
   "cell_type": "code",
   "execution_count": 7,
   "metadata": {},
   "outputs": [],
   "source": [
    "import torch\n",
    "\n",
    "## Model: 2-layer MLP\n",
    "torch.manual_seed(42)\n",
    "device = torch.device(\"cuda\" if torch.cuda.is_available() else \"cpu\")\n",
    "input_size, hidden_size, output_size = 28*28, 256, 10\n",
    "\n",
    "w1 = torch.randn(input_size, hidden_size).to(device)\n",
    "b1 = torch.zeros(hidden_size).to(device)\n",
    "w2 = torch.randn(hidden_size, output_size).to(device)\n",
    "b2 = torch.zeros(output_size).to(device)"
   ]
  },
  {
   "cell_type": "markdown",
   "metadata": {},
   "source": [
    "### Training"
   ]
  },
  {
   "cell_type": "code",
   "execution_count": null,
   "metadata": {},
   "outputs": [],
   "source": [
    "def accuracy(y_pred, y_true):\n",
    "    y_pred = y_pred.argmax(dim=1)\n",
    "    y_true = y_true.argmax(dim=1)\n",
    "    return torch.eq(y_pred, y_true).float().mean()"
   ]
  },
  {
   "cell_type": "code",
   "execution_count": 12,
   "metadata": {},
   "outputs": [
    {
     "name": "stdout",
     "output_type": "stream",
     "text": [
      "[10/100] loss: 2.242 acc: 0.660\n",
      "[20/100] loss: 2.240 acc: 0.695\n",
      "[30/100] loss: 2.238 acc: 0.712\n",
      "[40/100] loss: 2.237 acc: 0.723\n",
      "[50/100] loss: 2.235 acc: 0.732\n",
      "[60/100] loss: 2.234 acc: 0.740\n",
      "[70/100] loss: 2.233 acc: 0.752\n",
      "[80/100] loss: 2.232 acc: 0.759\n",
      "[90/100] loss: 2.231 acc: 0.767\n",
      "[100/100] loss: 2.230 acc: 0.770\n"
     ]
    }
   ],
   "source": [
    "n_epochs = 100\n",
    "learning_rate = 0.01\n",
    "\n",
    "x_train = torch.tensor(x_train_scaled).float().to(device)\n",
    "y_train = torch.tensor(y_train_onehot).float().to(device)\n",
    "\n",
    "batch_size = 32\n",
    "for epoch in range(1, n_epochs + 1):\n",
    "    batch_loss = 0\n",
    "    batch_acc = 0\n",
    "    indices = torch.randperm(len(x_train))\n",
    "    for i in range(len(x_train) // batch_size):\n",
    "        x = x_train[indices[i*batch_size: (i+1)*batch_size]]\n",
    "        y = y_train[indices[i*batch_size: (i+1)*batch_size]]\n",
    "        \n",
    "        # Forward propagation\n",
    "        z1 = torch.mm(x, w1) + b1\n",
    "        a1 = torch.sigmoid(z1)\n",
    "        z2 = torch.mm(a1, w2) + b2\n",
    "        out = torch.softmax(z2, dim=1)\n",
    "\n",
    "        loss = torch.nn.functional.cross_entropy(out, y)\n",
    "        acc = accuracy(out, y)\n",
    "\n",
    "        # Backward propagation\n",
    "        grad_z2 = (z2 - y) / y.shape[0]\n",
    "        grad_w2 = torch.mm(a1.T, grad_z2)\n",
    "        grad_b2 = torch.sum(grad_z2, dim=0)\n",
    "\n",
    "        grad_a1 = torch.mm(grad_z2, w2.T)\n",
    "        grad_z1 = a1 * (1 - a1) * grad_a1\n",
    "        grad_w1 = torch.mm(x.T, grad_z1)\n",
    "        grad_b1 = torch.sum(grad_z1, dim=0)\n",
    "\n",
    "        # Update weights and biases\n",
    "        w1 -= learning_rate * grad_w1\n",
    "        b1 -= learning_rate * grad_b1\n",
    "        w2 -= learning_rate * grad_w2\n",
    "        b2 -= learning_rate * grad_b2\n",
    "        \n",
    "        batch_loss += loss.item()\n",
    "        batch_acc += acc.item()\n",
    "\n",
    "    if epoch % (n_epochs // 10) == 0:\n",
    "        print(f\"[{epoch}/{n_epochs}] loss: {batch_loss/(i+1):.3f} acc: {batch_acc/(i+1):.3f}\")"
   ]
  },
  {
   "cell_type": "code",
   "execution_count": 15,
   "metadata": {},
   "outputs": [
    {
     "name": "stdout",
     "output_type": "stream",
     "text": [
      "loss: 2.231 acc: 0.769\n"
     ]
    }
   ],
   "source": [
    "x_test = torch.tensor(x_test_scaled).float().to(device)\n",
    "y_test = torch.tensor(y_test_onehot).float().to(device)\n",
    "\n",
    "with torch.no_grad():\n",
    "    # Forward propagation\n",
    "    z1 = torch.mm(x_test, w1) + b1\n",
    "    a1 = torch.sigmoid(z1)\n",
    "    z2 = torch.mm(a1, w2) + b2\n",
    "    y_pred = torch.softmax(z2, dim=1)\n",
    "\n",
    "    loss = torch.nn.functional.cross_entropy(y_pred, y_test)\n",
    "    acc = accuracy(y_pred, y_test)\n",
    "\n",
    "print(f\"loss: {loss.item():.3f} acc: {acc.item():.3f}\")"
   ]
  }
 ],
 "metadata": {
  "kernelspec": {
   "display_name": "pytorch",
   "language": "python",
   "name": "python3"
  },
  "language_info": {
   "codemirror_mode": {
    "name": "ipython",
    "version": 3
   },
   "file_extension": ".py",
   "mimetype": "text/x-python",
   "name": "python",
   "nbconvert_exporter": "python",
   "pygments_lexer": "ipython3",
   "version": "3.10.13"
  }
 },
 "nbformat": 4,
 "nbformat_minor": 2
}
