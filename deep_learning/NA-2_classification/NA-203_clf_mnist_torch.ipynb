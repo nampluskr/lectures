{
 "cells": [
  {
   "cell_type": "markdown",
   "metadata": {},
   "source": [
    "## Classificaiton of MNIST [pytorch]"
   ]
  },
  {
   "cell_type": "code",
   "execution_count": 1,
   "metadata": {},
   "outputs": [],
   "source": [
    "import numpy as np"
   ]
  },
  {
   "cell_type": "markdown",
   "metadata": {},
   "source": [
    "### Data\n",
    "\n",
    "- Train images: t10k-images-idx3-ubyte.gz\n",
    "- Train labels: t10k-labels-idx1-ubyte.gz\n",
    "- Test images: train-images-idx3-ubyte.gz\n",
    "- Test labels: train-labels-idx1-ubyte.gz"
   ]
  },
  {
   "cell_type": "code",
   "execution_count": 48,
   "metadata": {},
   "outputs": [
    {
     "name": "stdout",
     "output_type": "stream",
     "text": [
      ">> Train images: (60000, 28, 28), uint8\n",
      ">> Train labels: (60000,), uint8\n",
      ">> Test images:  (10000, 28, 28), uint8\n",
      ">> Test labels:  (10000,), uint8\n"
     ]
    }
   ],
   "source": [
    "import os\n",
    "import gzip\n",
    "\n",
    "def load_mnist_images(data_dir, filename):\n",
    "    data_path = os.path.join(data_dir, filename)\n",
    "    with gzip.open(data_path, 'rb') as f:\n",
    "        data = np.frombuffer(f.read(), np.uint8, offset=16)\n",
    "    return data.reshape(-1, 28, 28)\n",
    "\n",
    "def load_mnist_labels(data_dir, filename):\n",
    "    data_path = os.path.join(data_dir, filename)\n",
    "    with gzip.open(data_path, 'rb') as f:\n",
    "        data = np.frombuffer(f.read(), np.uint8, offset=8)\n",
    "    return data\n",
    "\n",
    "data_dir = \"/mnt/d/datasets/fashion_mnist_29M/\"\n",
    "x_train = load_mnist_images(data_dir, \"train-images-idx3-ubyte.gz\")\n",
    "y_train = load_mnist_labels(data_dir, \"train-labels-idx1-ubyte.gz\")\n",
    "x_test = load_mnist_images(data_dir, \"t10k-images-idx3-ubyte.gz\")\n",
    "y_test = load_mnist_labels(data_dir, \"t10k-labels-idx1-ubyte.gz\")\n",
    "\n",
    "print(f\">> Train images: {x_train.shape}, {x_train.dtype}\")\n",
    "print(f\">> Train labels: {y_train.shape}, {y_train.dtype}\")\n",
    "print(f\">> Test images:  {x_test.shape}, {x_test.dtype}\")\n",
    "print(f\">> Test labels:  {y_test.shape}, {y_test.dtype}\")"
   ]
  },
  {
   "cell_type": "markdown",
   "metadata": {},
   "source": [
    "### Preprocessing"
   ]
  },
  {
   "cell_type": "code",
   "execution_count": 49,
   "metadata": {},
   "outputs": [
    {
     "name": "stdout",
     "output_type": "stream",
     "text": [
      ">> Train images: (60000, 784), float32\n",
      ">> Train labels: (60000,), int64\n",
      ">> Test images:  (10000, 784), float32\n",
      ">> Test labels:  (10000,), int64\n"
     ]
    }
   ],
   "source": [
    "x_train_scaled = x_train.astype(np.float32).reshape(-1, 28*28) / 255\n",
    "x_test_scaled = x_test.astype(np.float32).reshape(-1, 28*28) / 255\n",
    "\n",
    "y_train = y_train.astype(np.int64)\n",
    "y_test = y_test.astype(np.int64)\n",
    "\n",
    "print(f\">> Train images: {x_train_scaled.shape}, {x_train_scaled.dtype}\")\n",
    "print(f\">> Train labels: {y_train.shape}, {y_train.dtype}\")\n",
    "print(f\">> Test images:  {x_test_scaled.shape}, {x_test_scaled.dtype}\")\n",
    "print(f\">> Test labels:  {y_test.shape}, {y_test.dtype}\")"
   ]
  },
  {
   "cell_type": "markdown",
   "metadata": {},
   "source": [
    "### Modeling"
   ]
  },
  {
   "cell_type": "code",
   "execution_count": 50,
   "metadata": {},
   "outputs": [],
   "source": [
    "import torch\n",
    "import torch.nn as nn\n",
    "import torch.optim as optim\n",
    "\n",
    "## Model: 2-layer MLP\n",
    "torch.manual_seed(42)\n",
    "device = torch.device(\"cuda\" if torch.cuda.is_available() else \"cpu\")\n",
    "input_size, hidden_size, output_size = 28*28, 256, 10\n",
    "\n",
    "mlp = nn.Sequential(\n",
    "    nn.Linear(input_size, hidden_size),\n",
    "    nn.Sigmoid(),\n",
    "    nn.Linear(hidden_size, output_size),\n",
    ")"
   ]
  },
  {
   "cell_type": "markdown",
   "metadata": {},
   "source": [
    "### Training"
   ]
  },
  {
   "cell_type": "code",
   "execution_count": 51,
   "metadata": {},
   "outputs": [],
   "source": [
    "def accuracy(y_pred, y_true):\n",
    "    y_pred = y_pred.argmax(dim=1)\n",
    "    return torch.eq(y_pred, y_true).float().mean()"
   ]
  },
  {
   "cell_type": "code",
   "execution_count": 52,
   "metadata": {},
   "outputs": [
    {
     "name": "stdout",
     "output_type": "stream",
     "text": [
      "[1/10] loss: 1.557 acc: 0.571\n",
      "[2/10] loss: 0.881 acc: 0.723\n",
      "[3/10] loss: 0.719 acc: 0.749\n",
      "[4/10] loss: 0.649 acc: 0.768\n",
      "[5/10] loss: 0.605 acc: 0.784\n",
      "[6/10] loss: 0.572 acc: 0.797\n",
      "[7/10] loss: 0.547 acc: 0.807\n",
      "[8/10] loss: 0.528 acc: 0.814\n",
      "[9/10] loss: 0.513 acc: 0.820\n",
      "[10/10] loss: 0.500 acc: 0.825\n"
     ]
    }
   ],
   "source": [
    "n_epochs = 10\n",
    "learning_rate = 0.01\n",
    "\n",
    "model = mlp.to(device)\n",
    "loss_fn = nn.CrossEntropyLoss()\n",
    "optimizer = optim.SGD(model.parameters(), lr=learning_rate)\n",
    "\n",
    "x_train = torch.tensor(x_train_scaled).float().to(device)\n",
    "y_train = torch.tensor(y_train).long().to(device)\n",
    "\n",
    "batch_size = 32\n",
    "for epoch in range(1, n_epochs + 1):\n",
    "    batch_loss = 0\n",
    "    batch_acc = 0\n",
    "    indices = torch.randperm(len(x_train))\n",
    "    for i in range(len(x_train) // batch_size):\n",
    "        x = x_train[indices[i*batch_size: (i+1)*batch_size]]\n",
    "        y = y_train[indices[i*batch_size: (i+1)*batch_size]]\n",
    "        \n",
    "        # Forward propagation\n",
    "        out = model(x)\n",
    "\n",
    "        loss = loss_fn(out, y)\n",
    "        acc = accuracy(out, y)\n",
    "\n",
    "        # Backward propagation\n",
    "        loss.backward()\n",
    "        \n",
    "        # Update weights and biases\n",
    "        optimizer.step()\n",
    "        optimizer.zero_grad()\n",
    "        \n",
    "        batch_loss += loss.item()\n",
    "        batch_acc += acc.item()\n",
    "\n",
    "    if epoch % (n_epochs // 10) == 0:\n",
    "        print(f\"[{epoch}/{n_epochs}] loss: {batch_loss/(i+1):.3f} acc: {batch_acc/(i+1):.3f}\")"
   ]
  },
  {
   "cell_type": "code",
   "execution_count": 53,
   "metadata": {},
   "outputs": [
    {
     "name": "stdout",
     "output_type": "stream",
     "text": [
      "loss: 0.519 acc: 0.814\n"
     ]
    }
   ],
   "source": [
    "x_test = torch.tensor(x_test_scaled).float().to(device)\n",
    "y_test = torch.tensor(y_test).long().to(device)\n",
    "\n",
    "with torch.no_grad():\n",
    "    out = model(x_test)\n",
    "\n",
    "    loss = loss_fn(out, y_test)\n",
    "    acc = accuracy(out, y_test)\n",
    "\n",
    "print(f\"loss: {loss.item():.3f} acc: {acc.item():.3f}\")"
   ]
  }
 ],
 "metadata": {
  "kernelspec": {
   "display_name": "pytorch",
   "language": "python",
   "name": "python3"
  },
  "language_info": {
   "codemirror_mode": {
    "name": "ipython",
    "version": 3
   },
   "file_extension": ".py",
   "mimetype": "text/x-python",
   "name": "python",
   "nbconvert_exporter": "python",
   "pygments_lexer": "ipython3",
   "version": "3.10.13"
  }
 },
 "nbformat": 4,
 "nbformat_minor": 2
}
