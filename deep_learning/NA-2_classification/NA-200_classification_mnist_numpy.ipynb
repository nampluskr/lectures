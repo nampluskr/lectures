{
 "cells": [
  {
   "cell_type": "markdown",
   "metadata": {},
   "source": [
    "## Classificaiton of MNIST [numpy]"
   ]
  },
  {
   "cell_type": "code",
   "execution_count": 1,
   "metadata": {},
   "outputs": [],
   "source": [
    "import numpy as np"
   ]
  },
  {
   "cell_type": "markdown",
   "metadata": {},
   "source": [
    "### Data\n",
    "\n",
    "- Train images: t10k-images-idx3-ubyte.gz\n",
    "- Train labels: t10k-labels-idx1-ubyte.gz\n",
    "- Test images: train-images-idx3-ubyte.gz\n",
    "- Test labels: train-labels-idx1-ubyte.gz"
   ]
  },
  {
   "cell_type": "code",
   "execution_count": 2,
   "metadata": {},
   "outputs": [
    {
     "name": "stdout",
     "output_type": "stream",
     "text": [
      ">> Train images: (60000, 28, 28), uint8\n",
      ">> Train labels: (60000,), uint8\n",
      ">> Test images:  (10000, 28, 28), uint8\n",
      ">> Test labels:  (10000,), uint8\n"
     ]
    }
   ],
   "source": [
    "import os\n",
    "import gzip\n",
    "\n",
    "def load_mnist_images(data_dir, filename):\n",
    "    data_path = os.path.join(data_dir, filename)\n",
    "    with gzip.open(data_path, 'rb') as f:\n",
    "        data = np.frombuffer(f.read(), np.uint8, offset=16)\n",
    "    return data.reshape(-1, 28, 28)\n",
    "\n",
    "def load_mnist_labels(data_dir, filename):\n",
    "    data_path = os.path.join(data_dir, filename)\n",
    "    with gzip.open(data_path, 'rb') as f:\n",
    "        data = np.frombuffer(f.read(), np.uint8, offset=8)\n",
    "    return data\n",
    "\n",
    "data_dir = \"/mnt/d/datasets/fashion_mnist_29M/\"\n",
    "x_train = load_mnist_images(data_dir, \"train-images-idx3-ubyte.gz\")\n",
    "y_train = load_mnist_labels(data_dir, \"train-labels-idx1-ubyte.gz\")\n",
    "x_test = load_mnist_images(data_dir, \"t10k-images-idx3-ubyte.gz\")\n",
    "y_test = load_mnist_labels(data_dir, \"t10k-labels-idx1-ubyte.gz\")\n",
    "\n",
    "print(f\">> Train images: {x_train.shape}, {x_train.dtype}\")\n",
    "print(f\">> Train labels: {y_train.shape}, {y_train.dtype}\")\n",
    "print(f\">> Test images:  {x_test.shape}, {x_test.dtype}\")\n",
    "print(f\">> Test labels:  {y_test.shape}, {y_test.dtype}\")"
   ]
  },
  {
   "cell_type": "markdown",
   "metadata": {},
   "source": [
    "### Preprocessing"
   ]
  },
  {
   "cell_type": "code",
   "execution_count": 3,
   "metadata": {},
   "outputs": [
    {
     "name": "stdout",
     "output_type": "stream",
     "text": [
      ">> Train images: (60000, 784), float32\n",
      ">> Train labels: (60000, 10), int64\n",
      ">> Test images:  (10000, 784), float32\n",
      ">> Test labels:  (10000, 10), int64\n"
     ]
    }
   ],
   "source": [
    "def one_hot(y, n_classes):\n",
    "    return np.eye(n_classes)[y]\n",
    "\n",
    "x_train_scaled = x_train.astype(np.float32).reshape(-1, 28*28) / 255\n",
    "x_test_scaled = x_test.astype(np.float32).reshape(-1, 28*28) / 255\n",
    "\n",
    "y_train_onehot = one_hot(y_train, n_classes=10).astype(np.int64)\n",
    "y_test_onehot = one_hot(y_test, n_classes=10).astype(np.int64)\n",
    "\n",
    "print(f\">> Train images: {x_train_scaled.shape}, {x_train_scaled.dtype}\")\n",
    "print(f\">> Train labels: {y_train_onehot.shape}, {y_train_onehot.dtype}\")\n",
    "print(f\">> Test images:  {x_test_scaled.shape}, {x_test_scaled.dtype}\")\n",
    "print(f\">> Test labels:  {y_test_onehot.shape}, {y_test_onehot.dtype}\")"
   ]
  },
  {
   "cell_type": "markdown",
   "metadata": {},
   "source": [
    "### Modeling"
   ]
  },
  {
   "cell_type": "code",
   "execution_count": 4,
   "metadata": {},
   "outputs": [],
   "source": [
    "## Model: 2-layer MLP\n",
    "np.random.seed(42)\n",
    "input_size, hidden_size, output_size = 28*28, 256, 10\n",
    "\n",
    "w1 = np.random.randn(input_size, hidden_size)   # weight of 1st layer\n",
    "b1 = np.zeros(hidden_size)                      # bias of 1st layer\n",
    "w2 = np.random.randn(hidden_size, output_size)  # weight of 2nd layer\n",
    "b2 = np.zeros(output_size)                      # bias of 2nd layer"
   ]
  },
  {
   "cell_type": "markdown",
   "metadata": {},
   "source": [
    "### Training"
   ]
  },
  {
   "cell_type": "code",
   "execution_count": 5,
   "metadata": {},
   "outputs": [],
   "source": [
    "from scipy.special import expit as sigmoid\n",
    "\n",
    "def softmax(x):\n",
    "    e_x = np.exp(x - np.max(x, axis=1, keepdims=True))\n",
    "    return e_x / np.sum(e_x, axis=1, keepdims=True)\n",
    "\n",
    "def cross_entropy(y_pred, y_true):\n",
    "    batch_size = y_pred.shape[0] if y_pred.ndim == 2 else 1\n",
    "    return -np.sum(y_true*np.log(y_pred + 1.0E-8))/batch_size\n",
    "\n",
    "def accuracy(y_pred, y_true):\n",
    "    return (y_pred.argmax(axis=1) == y_true.argmax(axis=1)).mean()"
   ]
  },
  {
   "cell_type": "code",
   "execution_count": 6,
   "metadata": {},
   "outputs": [
    {
     "name": "stdout",
     "output_type": "stream",
     "text": [
      "[50/500] loss: 1.822 acc: 0.738\n",
      "[100/500] loss: 1.790 acc: 0.774\n",
      "[150/500] loss: 1.772 acc: 0.788\n",
      "[200/500] loss: 1.758 acc: 0.797\n",
      "[250/500] loss: 1.748 acc: 0.803\n",
      "[300/500] loss: 1.740 acc: 0.808\n",
      "[350/500] loss: 1.733 acc: 0.813\n"
     ]
    },
    {
     "ename": "KeyboardInterrupt",
     "evalue": "",
     "output_type": "error",
     "traceback": [
      "\u001b[0;31m---------------------------------------------------------------------------\u001b[0m",
      "\u001b[0;31mKeyboardInterrupt\u001b[0m                         Traceback (most recent call last)",
      "Cell \u001b[0;32mIn[6], line 32\u001b[0m\n\u001b[1;32m     30\u001b[0m grad_a1 \u001b[38;5;241m=\u001b[39m np\u001b[38;5;241m.\u001b[39mdot(grad_z2, w2\u001b[38;5;241m.\u001b[39mT)\n\u001b[1;32m     31\u001b[0m grad_z1 \u001b[38;5;241m=\u001b[39m a1 \u001b[38;5;241m*\u001b[39m (\u001b[38;5;241m1\u001b[39m \u001b[38;5;241m-\u001b[39m a1) \u001b[38;5;241m*\u001b[39m grad_a1\n\u001b[0;32m---> 32\u001b[0m grad_w1 \u001b[38;5;241m=\u001b[39m \u001b[43mnp\u001b[49m\u001b[38;5;241;43m.\u001b[39;49m\u001b[43mdot\u001b[49m\u001b[43m(\u001b[49m\u001b[43mx\u001b[49m\u001b[38;5;241;43m.\u001b[39;49m\u001b[43mT\u001b[49m\u001b[43m,\u001b[49m\u001b[43m \u001b[49m\u001b[43mgrad_z1\u001b[49m\u001b[43m)\u001b[49m\n\u001b[1;32m     33\u001b[0m grad_b1 \u001b[38;5;241m=\u001b[39m np\u001b[38;5;241m.\u001b[39msum(grad_z1, axis\u001b[38;5;241m=\u001b[39m\u001b[38;5;241m0\u001b[39m)\n\u001b[1;32m     35\u001b[0m \u001b[38;5;66;03m# Update weights and biases\u001b[39;00m\n",
      "\u001b[0;31mKeyboardInterrupt\u001b[0m: "
     ]
    }
   ],
   "source": [
    "n_epochs = 500\n",
    "learning_rate = 0.01\n",
    "\n",
    "x_train = x_train_scaled\n",
    "y_train = y_train_onehot\n",
    "\n",
    "batch_size = 32\n",
    "for epoch in range(1, n_epochs + 1):\n",
    "    batch_loss = 0\n",
    "    batch_acc = 0\n",
    "    indices = np.random.permutation(len(x_train))\n",
    "    for i in range(len(x_train) // batch_size):\n",
    "        x = x_train[indices[i*batch_size: (i+1)*batch_size]]\n",
    "        y = y_train[indices[i*batch_size: (i+1)*batch_size]]\n",
    "        \n",
    "        # Forward propagation\n",
    "        z1 = np.dot(x, w1) + b1\n",
    "        a1 = sigmoid(z1)\n",
    "        z2 = np.dot(a1, w2) + b2\n",
    "        out = softmax(z2)\n",
    "\n",
    "        loss = cross_entropy(out, y)\n",
    "        acc = accuracy(out, y)\n",
    "\n",
    "        # Backward propagation\n",
    "        grad_z2 = (z2 - y) / y.shape[0]\n",
    "        grad_w2 = np.dot(a1.T, grad_z2)\n",
    "        grad_b2 = np.sum(grad_z2, axis=0)\n",
    "\n",
    "        grad_a1 = np.dot(grad_z2, w2.T)\n",
    "        grad_z1 = a1 * (1 - a1) * grad_a1\n",
    "        grad_w1 = np.dot(x.T, grad_z1)\n",
    "        grad_b1 = np.sum(grad_z1, axis=0)\n",
    "\n",
    "        # Update weights and biases\n",
    "        w1 -= learning_rate * grad_w1\n",
    "        b1 -= learning_rate * grad_b1\n",
    "        w2 -= learning_rate * grad_w2\n",
    "        b2 -= learning_rate * grad_b2\n",
    "        \n",
    "        batch_loss += loss\n",
    "        batch_acc += acc\n",
    "\n",
    "    if epoch % (n_epochs // 10) == 0:\n",
    "        print(f\"[{epoch}/{n_epochs}] loss: {batch_loss/(i+1):.3f} acc: {batch_acc/(i+1):.3f}\")"
   ]
  },
  {
   "cell_type": "code",
   "execution_count": 7,
   "metadata": {},
   "outputs": [
    {
     "name": "stdout",
     "output_type": "stream",
     "text": [
      "loss: 1.739 acc: 0.800\n"
     ]
    }
   ],
   "source": [
    "x_test = x_test_scaled\n",
    "y_test = y_test_onehot\n",
    "\n",
    "# Forward propagation\n",
    "z1 = np.dot(x_test, w1) + b1\n",
    "a1 = sigmoid(z1)\n",
    "z2 = np.dot(a1, w2) + b2\n",
    "y_pred = softmax(z2)\n",
    "\n",
    "loss = cross_entropy(y_pred, y_test)\n",
    "acc = accuracy(y_pred, y_test)\n",
    "\n",
    "print(f\"loss: {loss:.3f} acc: {acc:.3f}\")"
   ]
  }
 ],
 "metadata": {
  "kernelspec": {
   "display_name": "pytorch",
   "language": "python",
   "name": "python3"
  },
  "language_info": {
   "codemirror_mode": {
    "name": "ipython",
    "version": 3
   },
   "file_extension": ".py",
   "mimetype": "text/x-python",
   "name": "python",
   "nbconvert_exporter": "python",
   "pygments_lexer": "ipython3",
   "version": "3.10.15"
  }
 },
 "nbformat": 4,
 "nbformat_minor": 2
}
