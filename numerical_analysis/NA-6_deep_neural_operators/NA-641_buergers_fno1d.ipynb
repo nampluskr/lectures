{
 "cells": [
  {
   "cell_type": "code",
   "execution_count": 1,
   "metadata": {},
   "outputs": [],
   "source": [
    "import numpy as np\n",
    "import matplotlib.pyplot as plt\n",
    "import torch\n",
    "import torch.nn as nn\n",
    "import torch.nn.functional as F\n",
    "import torch.optim as optim\n",
    "\n",
    "import scipy\n",
    "\n",
    "seed = 0\n",
    "np.random.seed(seed)\n",
    "torch.manual_seed(seed)\n",
    "\n",
    "device = torch.device(\"cuda\" if torch.cuda.is_available() else \"cpu\")"
   ]
  },
  {
   "cell_type": "code",
   "execution_count": 2,
   "metadata": {},
   "outputs": [],
   "source": [
    "class ConvBlock(nn.Module):\n",
    "    def __init__(self, in_channels, out_channels, mid_channels, activation=nn.ReLU()):\n",
    "        super().__init__()\n",
    "        self.conv = nn.Sequential(\n",
    "            nn.Conv1d(in_channels, mid_channels, kernel_size=1),\n",
    "            activation,\n",
    "            nn.Conv1d(mid_channels, out_channels, kernel_size=1),\n",
    "        )\n",
    "\n",
    "    def forward(self, x):\n",
    "        return self.conv(x)\n",
    "\n",
    "class FFTBlock(nn.Module):\n",
    "    def __init__(self, in_channels, out_channels, modes, activation=None):\n",
    "        super().__init__()\n",
    "        self.in_channels = in_channels\n",
    "        self.out_channels = out_channels\n",
    "        self.modes = modes\n",
    "        weights = torch.rand(in_channels, out_channels, modes).cfloat() \n",
    "        scale = 1 / in_channels / out_channels\n",
    "        self.weights = nn.Parameter(weights * scale)\n",
    "        self.conv = ConvBlock(out_channels, out_channels, out_channels, activation=nn.GELU())\n",
    "        self.skip = nn.Conv1d(out_channels, out_channels, kernel_size=1)\n",
    "        self.activation = activation\n",
    "\n",
    "    def forward(self, x):\n",
    "        x_ft = torch.fft.rfft(x)\n",
    "        out_ft = torch.zeros(x.shape[0], self.out_channels, x.shape[-1]//2 + 1).cfloat().to(x.device)\n",
    "        out_ft[:, :, :self.modes] = torch.einsum(\"bix,iox->box\", x_ft[:, :, :self.modes], self.weights)\n",
    "        x1 = torch.fft.irfft(out_ft, n=x.shape[-1])\n",
    "        x1 = self.conv(x1)\n",
    "        x2 = self.skip(x)\n",
    "        return (x1 + x2) if self.activation is None else self.activation(x1 + x2)\n",
    "\n",
    "class FNO1d(nn.Module):\n",
    "    def __init__(self, modes, width, activation=nn.ReLU()):\n",
    "        super().__init__()\n",
    "        self.padding = 8 # pad the domain if input is non-periodic\n",
    "\n",
    "        self.p_layer = nn.Linear(2, width)\n",
    "        self.fft_block0 = FFTBlock(width, width, modes, activation=activation)\n",
    "        self.fft_block1 = FFTBlock(width, width, modes, activation=activation)\n",
    "        self.fft_block2 = FFTBlock(width, width, modes, activation=activation)\n",
    "        self.fft_block3 = FFTBlock(width, width, modes, activation=None)\n",
    "        self.q_layer = ConvBlock(width, 1, width*2, activation=nn.ReLU())\n",
    "\n",
    "    def forward(self, x):\n",
    "        grid = torch.linspace(0, 1, x.shape[1]).repeat([x.shape[0], 1]).unsqueeze(-1).to(x.device)\n",
    "        x = torch.cat((x, grid), dim=-1)        # (batch_size, n_points, 2)\n",
    "        x = self.p_layer(x).permute(0, 2, 1)    # (batch_sdize, width, n_points)\n",
    "        # x = F.pad(x, [0, self.padding])       # pad the domain if input is non-periodic\n",
    "\n",
    "        x = self.fft_block0(x)\n",
    "        x = self.fft_block1(x)\n",
    "        x = self.fft_block2(x)\n",
    "        x = self.fft_block3(x)\n",
    "\n",
    "        # x = x[..., :-self.padding]            # pad the domain if input is non-periodic\n",
    "        x = self.q_layer(x).permute(0, 2, 1)\n",
    "        return x"
   ]
  },
  {
   "cell_type": "code",
   "execution_count": 3,
   "metadata": {},
   "outputs": [
    {
     "name": "stdout",
     "output_type": "stream",
     "text": [
      "torch.Size([1000, 1024, 1]) torch.Size([100, 1024, 1])\n"
     ]
    }
   ],
   "source": [
    "from torch.utils.data import DataLoader, TensorDataset\n",
    "\n",
    "## Data\n",
    "n_train = 1000\n",
    "n_test = 100\n",
    "\n",
    "sub_sampling = 2**3          # subsampling rate\n",
    "batch_size = 64\n",
    "\n",
    "data = scipy.io.loadmat(\"data/burgers_data_R10.mat\")\n",
    "x_data_np = data[\"a\"]   # a(x): initial condition\n",
    "y_data_np = data[\"u\"]   # u(x): PDE solution\n",
    "\n",
    "x_data = torch.tensor(x_data_np).float()[:, ::sub_sampling]\n",
    "y_data = torch.tensor(y_data_np).float()[:, ::sub_sampling]\n",
    "\n",
    "x_train = x_data[:n_train].unsqueeze(-1)\n",
    "y_train = y_data[:n_train].unsqueeze(-1)\n",
    "x_test = x_data[-n_test:].unsqueeze(-1)\n",
    "y_test = y_data[-n_test:].unsqueeze(-1)\n",
    "print(x_train.shape, x_test.shape)\n",
    "\n",
    "train_loader = DataLoader(TensorDataset(x_train, y_train), batch_size=batch_size, shuffle=True)\n",
    "test_loader = DataLoader(TensorDataset(x_test, y_test), batch_size=batch_size, shuffle=False)"
   ]
  },
  {
   "cell_type": "code",
   "execution_count": null,
   "metadata": {},
   "outputs": [],
   "source": []
  }
 ],
 "metadata": {
  "kernelspec": {
   "display_name": "pytorch",
   "language": "python",
   "name": "python3"
  },
  "language_info": {
   "codemirror_mode": {
    "name": "ipython",
    "version": 3
   },
   "file_extension": ".py",
   "mimetype": "text/x-python",
   "name": "python",
   "nbconvert_exporter": "python",
   "pygments_lexer": "ipython3",
   "version": "3.10.13"
  }
 },
 "nbformat": 4,
 "nbformat_minor": 2
}
