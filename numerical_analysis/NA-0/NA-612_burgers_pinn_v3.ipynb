{
 "cells": [
  {
   "cell_type": "markdown",
   "metadata": {},
   "source": [
    "- https://github.com/HridayM25/Physics-Informed-NN/blob/main/main/Burgers'%20Equation.ipynb"
   ]
  },
  {
   "cell_type": "code",
   "execution_count": 2,
   "metadata": {},
   "outputs": [
    {
     "data": {
      "text/plain": [
       "<torch._C.Generator at 0x7fc252328630>"
      ]
     },
     "execution_count": 2,
     "metadata": {},
     "output_type": "execute_result"
    }
   ],
   "source": [
    "import numpy as np \n",
    "import torch\n",
    "import torch.nn as nn \n",
    "# from dataCollection import getData\n",
    "import matplotlib.pyplot as plt \n",
    "import warnings\n",
    "warnings.filterwarnings(\"ignore\")\n",
    "\n",
    "torch.manual_seed(42)"
   ]
  },
  {
   "cell_type": "code",
   "execution_count": 3,
   "metadata": {},
   "outputs": [],
   "source": [
    "import scipy.io\n",
    "from scipy.interpolate import griddata\n",
    "import numpy as np\n",
    "import torch\n",
    "\n",
    "data = scipy.io.loadmat('burgers_shock.mat')\n",
    "x = data['x'].flatten()[:, None]\n",
    "t = data['t'].flatten()[:, None]\n",
    "usol = np.real(data['usol']).T\n",
    "X, T = np.meshgrid(x, t)\n",
    "train = torch.concat([torch.Tensor(X.flatten()[:, None]), torch.Tensor(T.flatten()[:, None])], 1)\n",
    "X_min = train.min(0)\n",
    "X_max = train.max(0)\n",
    "\n",
    "def getData():\n",
    "    return train, usol, X_min, X_max\n",
    "\n",
    "X_star, u_star, lb, ub = getData()"
   ]
  },
  {
   "cell_type": "code",
   "execution_count": 15,
   "metadata": {},
   "outputs": [],
   "source": [
    "class Network(nn.Module):\n",
    "    def __init__(self):\n",
    "        super(Network, self).__init__()\n",
    "        self.fc1 = nn.Linear(2, 16)\n",
    "        self.fc2 = nn.Linear(16,32)\n",
    "        self.fc3 = nn.Linear(32,1)\n",
    "    \n",
    "    def forward(self,x):\n",
    "        x = torch.tanh(self.fc1(x))\n",
    "        x = torch.tanh(self.fc2(x))\n",
    "        x = self.fc3(x)\n",
    "        return x"
   ]
  },
  {
   "cell_type": "code",
   "execution_count": 52,
   "metadata": {},
   "outputs": [],
   "source": [
    "class PINN():\n",
    "    def __init__(self, X, u, lb, ub, physics):\n",
    "        \n",
    "        self.lb = torch.tensor(lb).float()\n",
    "        self.ub = torch.tensor(ub).float()\n",
    "        self.physics = physics\n",
    "        \n",
    "        self.x = torch.tensor(X[:, 0:1], requires_grad=True).float()\n",
    "        self.t = torch.tensor(X[:, 1:2], requires_grad=True).float()\n",
    "        self.u = torch.tensor(u).float()\n",
    "        \n",
    "        self.network = Network()\n",
    "        self.optimizer = torch.optim.Adam(self.network.parameters(), lr=0.001)\n",
    "        \n",
    "    def makeNetwork(self, x, t):\n",
    "        X = torch.cat([x,t], dim=1)\n",
    "        return self.network(X)\n",
    "    \n",
    "    def residual(self, x, t):\n",
    "        u = self.makeNetwork(x, t)\n",
    "        u_t = torch.autograd.grad(u, t, grad_outputs=torch.ones_like(u),  create_graph=True)[0]\n",
    "        u_x = torch.autograd.grad(u, x, grad_outputs=torch.ones_like(u) , create_graph=True)[0]\n",
    "        u_xx = torch.autograd.grad(u_x, x, grad_outputs = torch.ones_like(u_x) ,create_graph=True)[0]\n",
    "        \n",
    "        return u_t + u*u_x - (0.01/np.pi)*u_xx\n",
    "    \n",
    "    def lossResidual(self):\n",
    "        u_pred = self.makeNetwork(self.x, self.t)\n",
    "        residual_pred = self.residual(self.x, self.t)\n",
    "        loss = torch.mean((self.u - u_pred)**2)\n",
    "        if self.physics == True:  \n",
    "            loss += torch.mean(residual_pred**2)\n",
    "        self.optimizer.zero_grad()\n",
    "        loss.backward()\n",
    "        return loss\n",
    "    \n",
    "    def train(self, n_epochs):\n",
    "        lossTracker = []\n",
    "        self.network.train()\n",
    "        for epoch in range(1, n_epochs + 1):\n",
    "            u_pred = self.makeNetwork(self.x, self.t)\n",
    "            residual_pred = self.residual(self.x, self.t)\n",
    "            loss = torch.mean((self.u - u_pred)**2)\n",
    "\n",
    "            if self.physics == True:\n",
    "                loss += torch.mean(residual_pred**2)\n",
    "            lossTracker.append(loss.item())\n",
    "\n",
    "            loss.backward()\n",
    "            # self.optimizer.step()\n",
    "            self.optimizer.step(self.lossResidual)\n",
    "            self.optimizer.zero_grad()\n",
    "            \n",
    "            if epoch % (n_epochs // 10) == 0:\n",
    "                print(f\"[{epoch:4d}/{n_epochs}] loss: {loss.item():.2e}\")\n",
    "            \n",
    "        return lossTracker\n",
    "            \n",
    "    def predict(self): \n",
    "        self.network.eval()\n",
    "        u = self.makeNetwork(self.x, self.t)\n",
    "        res = self.residual(self.x, self.t)\n",
    "        return u.detach().numpy(), res.detach().numpy()"
   ]
  },
  {
   "cell_type": "code",
   "execution_count": 53,
   "metadata": {},
   "outputs": [],
   "source": [
    "idx = np.random.choice(X_star.shape[0], 2000, replace=False)\n",
    "X_u_train = X_star[idx, :]\n",
    "u_train = u_star.flatten()[:, None][idx,:]"
   ]
  },
  {
   "cell_type": "code",
   "execution_count": 43,
   "metadata": {},
   "outputs": [
    {
     "name": "stdout",
     "output_type": "stream",
     "text": [
      "[ 200/2000] loss: 2.53e-01\n",
      "[ 400/2000] loss: 1.52e-01\n",
      "[ 600/2000] loss: 1.34e-01\n",
      "[ 800/2000] loss: 1.23e-01\n",
      "[1000/2000] loss: 1.14e-01\n",
      "[1200/2000] loss: 1.09e-01\n",
      "[1400/2000] loss: 1.05e-01\n",
      "[1600/2000] loss: 1.01e-01\n",
      "[1800/2000] loss: 9.60e-02\n",
      "[2000/2000] loss: 9.18e-02\n"
     ]
    }
   ],
   "source": [
    "model = PINN(X_u_train, u_train, lb[0], ub[0], True)\n",
    "pinn = model.train(2000)"
   ]
  },
  {
   "cell_type": "code",
   "execution_count": 44,
   "metadata": {},
   "outputs": [
    {
     "name": "stdout",
     "output_type": "stream",
     "text": [
      "[ 100/1000] loss: 2.50e-01\n",
      "[ 200/1000] loss: 2.41e-01\n",
      "[ 300/1000] loss: 1.96e-01\n",
      "[ 400/1000] loss: 6.66e-02\n",
      "[ 500/1000] loss: 3.39e-02\n",
      "[ 600/1000] loss: 3.05e-02\n",
      "[ 700/1000] loss: 2.84e-02\n",
      "[ 800/1000] loss: 2.67e-02\n",
      "[ 900/1000] loss: 2.52e-02\n",
      "[1000/1000] loss: 2.37e-02\n"
     ]
    }
   ],
   "source": [
    "model = PINN(X_u_train, u_train, lb[0], ub[0], False)\n",
    "no_pinn = model.train(1000)"
   ]
  },
  {
   "cell_type": "code",
   "execution_count": 51,
   "metadata": {},
   "outputs": [
    {
     "data": {
      "text/plain": [
       "((2000, 1), -0.01629104)"
      ]
     },
     "execution_count": 51,
     "metadata": {},
     "output_type": "execute_result"
    }
   ],
   "source": [
    "u_pred, res = model.predict()\n",
    "\n",
    "u_pred.shape, res.mean()"
   ]
  }
 ],
 "metadata": {
  "kernelspec": {
   "display_name": "pytorch",
   "language": "python",
   "name": "python3"
  },
  "language_info": {
   "codemirror_mode": {
    "name": "ipython",
    "version": 3
   },
   "file_extension": ".py",
   "mimetype": "text/x-python",
   "name": "python",
   "nbconvert_exporter": "python",
   "pygments_lexer": "ipython3",
   "version": "3.10.13"
  }
 },
 "nbformat": 4,
 "nbformat_minor": 2
}
