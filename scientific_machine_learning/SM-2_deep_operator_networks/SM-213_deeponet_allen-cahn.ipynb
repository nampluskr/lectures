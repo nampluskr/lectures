{
 "cells": [
  {
   "cell_type": "markdown",
   "metadata": {},
   "source": [
    "## Allen-Cahn Equation"
   ]
  },
  {
   "cell_type": "code",
   "execution_count": null,
   "metadata": {},
   "outputs": [],
   "source": [
    "import numpy as np\n",
    "import matplotlib.pyplot as plt\n",
    "\n",
    "import torch\n",
    "import torch.nn as nn\n",
    "import torch.optim as optim\n",
    "\n",
    "device = torch.device(\"cuda\" if torch.cuda.is_available() else \"cpu\")"
   ]
  },
  {
   "cell_type": "code",
   "execution_count": null,
   "metadata": {},
   "outputs": [],
   "source": [
    "def set_seed(seed):\n",
    "    np.random.seed(seed)\n",
    "    torch.manual_seed(seed)\n",
    "    if torch.cuda.is_available():\n",
    "        torch.cuda.manual_seed(seed)"
   ]
  },
  {
   "cell_type": "markdown",
   "metadata": {},
   "source": [
    "### Data"
   ]
  },
  {
   "cell_type": "code",
   "execution_count": null,
   "metadata": {},
   "outputs": [],
   "source": [
    "## Data\n",
    "input_data = np.load(\"data/AC_data_input.npy\")  # (1000, 1001, 2)\n",
    "y_data = np.load(\"data/AC_data_output.npy\")  # (1000, 1001)\n",
    "\n",
    "x_data = input_data[:, :, 1]                 # (1000, 1001)\n",
    "c_data = input_data[:, :, 0]                 # (1000, 1001)"
   ]
  },
  {
   "cell_type": "code",
   "execution_count": null,
   "metadata": {},
   "outputs": [],
   "source": [
    "grid_size = 1001\n",
    "n_train = 800\n",
    "n_test = 200\n",
    "mesh = np.linspace(-1, 1, grid_size)\n",
    "\n",
    "x_train_np = x_data[:n_train]       # (800, 1001)\n",
    "c_train_np = c_data[:n_train]       # (800, 1001)\n",
    "y_train_np = y_data[:n_train]       # (800, 1001)\n",
    "\n",
    "x_test_np = x_data[-n_test:]        # (200, 1001)\n",
    "c_test_np = c_data[-n_test:]        # (200, 1001)\n",
    "y_test_np = y_data[-n_test:]        # (200, 1001)"
   ]
  },
  {
   "cell_type": "code",
   "execution_count": null,
   "metadata": {},
   "outputs": [],
   "source": [
    "from torch.utils.data import DataLoader, TensorDataset\n",
    "\n",
    "batch_size = 32\n",
    "\n",
    "x_train = torch.tensor(x_train_np).float()  # (800, 101)\n",
    "c_train = torch.tensor(c_train_np).float()  # (800, 101)\n",
    "y_train = torch.tensor(y_train_np).float()  # (800, 101)\n",
    "\n",
    "x_test = torch.tensor(x_test_np).float()    # (200, 101)\n",
    "c_test = torch.tensor(c_test_np).float()    # (200, 101)\n",
    "y_test = torch.tensor(y_test_np).float()    # (200, 101)\n",
    "\n",
    "train_loader = DataLoader(TensorDataset(x_train, c_train, y_train), batch_size=batch_size, shuffle=True)\n",
    "test_loader = DataLoader(TensorDataset(x_test, c_test, y_test), batch_size=batch_size, shuffle=False)\n",
    "\n",
    "x, c, y = next(iter(train_loader))\n",
    "print(\">> Batch:\", x.shape, c.shape, y.shape)"
   ]
  },
  {
   "cell_type": "markdown",
   "metadata": {},
   "source": [
    "### Model"
   ]
  },
  {
   "cell_type": "code",
   "execution_count": null,
   "metadata": {},
   "outputs": [],
   "source": [
    "class MLP(nn.Module):\n",
    "    def __init__(self, layer_sizes, activation, final_activation=None):\n",
    "        super().__init__()\n",
    "        self.input_size = layer_sizes[0]\n",
    "        self.output_size = layer_sizes[-1]\n",
    "\n",
    "        layers = []\n",
    "        for i in range(len(layer_sizes) - 2):\n",
    "            layers.append(nn.Linear(layer_sizes[i], layer_sizes[i + 1]))\n",
    "            layers.append(activation)\n",
    "        layers.append(nn.Linear(layer_sizes[-2], layer_sizes[-1]))\n",
    "\n",
    "        if final_activation is not None:\n",
    "            layers.append(final_activation)\n",
    "\n",
    "        self.model = nn.Sequential(*layers)\n",
    "\n",
    "    def forward(self, x):\n",
    "        return self.model(x)\n",
    "    \n",
    "class DeepOnet(nn.Module):\n",
    "    def __init__(self, grid_size, width):\n",
    "        super().__init__()\n",
    "        self.branch_net = MLP(layer_sizes=[grid_size, 64, 64, 64, 64, 64, width], \n",
    "                              activation=nn.ReLU())\n",
    "        self.trunk_net = MLP(layer_sizes=[1, 64, 64, 64, 64, 64, width], \n",
    "                             activation=nn.Tanh(), final_activation=nn.Tanh())\n",
    "\n",
    "    def forward(self, x, c):\n",
    "        out_branch = self.branch_net(x)\n",
    "        out_trunk = self.trunk_net(c)\n",
    "        out = torch.sum(out_branch * out_trunk, axis=-1)\n",
    "        return out"
   ]
  },
  {
   "cell_type": "markdown",
   "metadata": {},
   "source": [
    "### Training"
   ]
  },
  {
   "cell_type": "code",
   "execution_count": null,
   "metadata": {},
   "outputs": [],
   "source": [
    "# Training\n",
    "def preprocess(x, c, y=None, device=device):\n",
    "    grid_size = x.shape[1]\n",
    "    x = x[:, None, :].repeat(1, grid_size, 1)   # (N, grid_size) -> (N, grid_size, grid_size)\n",
    "    c = c[:, :, None]                           # (N, grid_size) -> (N, grid_size, 1)\n",
    "    x, c = x.to(device), c.to(device)\n",
    "    return (x, c) if y is None else (x, c, y.to(device))\n",
    "\n",
    "n_epochs = 200\n",
    "learning_rate = 1e-3\n",
    "\n",
    "set_seed(42)\n",
    "model = DeepOnet(grid_size, width=64).to(device)\n",
    "loss_fn = nn.MSELoss()\n",
    "optimizer = optim.Adam(model.parameters(), lr=learning_rate)\n",
    "scheduler = optim.lr_scheduler.StepLR(optimizer, step_size=50, gamma=0.95)\n",
    "\n",
    "for epoch in range(1, n_epochs + 1):\n",
    "    model.train()\n",
    "    loss_mse = 0\n",
    "    train_loss = 0\n",
    "    for x, c, y in train_loader:\n",
    "        x, c, y = preprocess(x, c, y)\n",
    "        y_pred = model(x, c)\n",
    "        loss = loss_fn(y_pred, y)\n",
    "\n",
    "        loss.backward()\n",
    "        optimizer.step()\n",
    "        optimizer.zero_grad()\n",
    "\n",
    "        train_loss += loss.item()\n",
    "\n",
    "    model.eval()\n",
    "    test_loss = 0\n",
    "    with torch.no_grad():\n",
    "        for x, c, y in test_loader:\n",
    "            x, c, y = preprocess(x, c, y)\n",
    "            y_pred = model(x, c)\n",
    "            test_loss += loss_fn(y_pred, y).item()\n",
    "\n",
    "    train_loss /= len(train_loader)\n",
    "    test_loss /= len(test_loader)\n",
    "    scheduler.step()\n",
    "\n",
    "    if epoch % (n_epochs // 10) == 0:\n",
    "        print(f\"[{epoch:4d}/{n_epochs}] (lr: {scheduler.get_last_lr()[0]:.2e}) \"\n",
    "              f\"train_loss: {train_loss:.2e} | test_loss: {test_loss:.2e}\")"
   ]
  },
  {
   "cell_type": "markdown",
   "metadata": {},
   "source": [
    "### Evaluation"
   ]
  },
  {
   "cell_type": "code",
   "execution_count": null,
   "metadata": {},
   "outputs": [],
   "source": [
    "## Evaluation\n",
    "model.eval()\n",
    "with torch.no_grad():\n",
    "    x, c = preprocess(x_test, c_test)\n",
    "    y_pred = model(x, c)\n",
    "\n",
    "y_pred_np = y_pred.cpu().detach().numpy()\n",
    "\n",
    "idx = 10\n",
    "fig, (ax1, ax2) = plt.subplots(ncols=2, figsize=(8, 3))\n",
    "ax1.plot(c_test_np[idx], x_test_np[idx], 'b', label=\"Input\")\n",
    "ax1.plot(c_test_np[idx], y_test_np[idx], 'k:', label=\"Exact\")\n",
    "ax1.plot(c_test_np[idx], y_pred_np[idx], 'r', lw=1, label=\"Prediction\")\n",
    "ax2.plot(c_test_np[idx], y_test_np[idx] - y_pred_np[idx], 'k', label=\"Error\")\n",
    "\n",
    "for ax in (ax1, ax2):\n",
    "    ax.legend(loc=\"upper right\")\n",
    "    ax.grid(color='k', ls=':', lw=1)\n",
    "fig.tight_layout()\n",
    "plt.show()"
   ]
  }
 ],
 "metadata": {
  "kernelspec": {
   "display_name": "pytorch",
   "language": "python",
   "name": "python3"
  },
  "language_info": {
   "codemirror_mode": {
    "name": "ipython",
    "version": 3
   },
   "file_extension": ".py",
   "mimetype": "text/x-python",
   "name": "python",
   "nbconvert_exporter": "python",
   "pygments_lexer": "ipython3",
   "version": "3.10.13"
  }
 },
 "nbformat": 4,
 "nbformat_minor": 2
}
