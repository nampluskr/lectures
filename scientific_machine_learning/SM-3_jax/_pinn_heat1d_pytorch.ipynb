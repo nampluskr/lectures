{
 "cells": [
  {
   "cell_type": "code",
   "execution_count": 1,
   "metadata": {},
   "outputs": [],
   "source": [
    "import torch\n",
    "import torch.nn as nn\n",
    "import torch.optim as optim\n",
    "import numpy as np"
   ]
  },
  {
   "cell_type": "code",
   "execution_count": 2,
   "metadata": {},
   "outputs": [],
   "source": [
    "# 모델 정의\n",
    "class PINN(nn.Module):\n",
    "    def __init__(self, hidden_size):\n",
    "        super(PINN, self).__init__()\n",
    "        self.net = nn.Sequential(\n",
    "            nn.Linear(2, hidden_size),\n",
    "            nn.Tanh(),\n",
    "            nn.Linear(hidden_size, hidden_size),\n",
    "            nn.Tanh(),\n",
    "            nn.Linear(hidden_size, 1)\n",
    "        )\n",
    "\n",
    "    def forward(self, x, t):\n",
    "        inputs = torch.cat([x, t], dim=-1)\n",
    "        return self.net(inputs)"
   ]
  },
  {
   "cell_type": "code",
   "execution_count": 3,
   "metadata": {},
   "outputs": [],
   "source": [
    "# u_x = torch.autograd.grad(u.sum(), x, create_graph=True)[0]\n",
    "def gradient(y, x):\n",
    "    return torch.autograd.grad(y, x, \n",
    "                               grad_outputs=torch.ones_like(y),\n",
    "                               create_graph=True)[0]\n",
    "\n",
    "# 손실 함수 정의\n",
    "def loss_fn(model, x, t, alpha):\n",
    "    x.requires_grad_(True)\n",
    "    t.requires_grad_(True)\n",
    "\n",
    "    u = model(x, t)\n",
    "    u_t = gradient(u, t)\n",
    "    u_x = gradient(u, x)\n",
    "    u_xx = gradient(u_x, x)\n",
    "    pde_loss = torch.mean((u_t - alpha * u_xx)**2)\n",
    "\n",
    "    # 경계 조건 손실\n",
    "    x_bc = torch.tensor([[0.0], [1.0]], requires_grad=False)\n",
    "    t_bc = torch.tensor([[0.0], [0.0]], requires_grad=False)\n",
    "    u_bc = model(x_bc, t_bc)\n",
    "    bc_loss = torch.mean(u_bc**2)\n",
    "\n",
    "    # 초기 조건 손실\n",
    "    x_ic = torch.linspace(0, 1, 100).reshape(-1, 1)\n",
    "    t_ic = torch.zeros_like(x_ic)\n",
    "    u_ic = model(x_ic, t_ic)\n",
    "    ic_loss = torch.mean((u_ic - torch.sin(np.pi * x_ic))**2)\n",
    "    return pde_loss + bc_loss + ic_loss"
   ]
  },
  {
   "cell_type": "code",
   "execution_count": 4,
   "metadata": {},
   "outputs": [
    {
     "name": "stdout",
     "output_type": "stream",
     "text": [
      "[ 500/5000] Loss: 2.50e-03\n",
      "[1000/5000] Loss: 4.29e-04\n",
      "[1500/5000] Loss: 1.71e-04\n",
      "[2000/5000] Loss: 1.29e-04\n",
      "[2500/5000] Loss: 1.06e-04\n",
      "[3000/5000] Loss: 7.55e-05\n",
      "[3500/5000] Loss: 1.00e-04\n",
      "[4000/5000] Loss: 4.18e-05\n",
      "[4500/5000] Loss: 3.21e-05\n",
      "[5000/5000] Loss: 2.48e-05\n"
     ]
    }
   ],
   "source": [
    "# 랜덤 시드\n",
    "torch.manual_seed(11)\n",
    "\n",
    "# 학습\n",
    "alpha = 1.0\n",
    "hidden_size = 20\n",
    "model = PINN(hidden_size)\n",
    "optimizer = optim.Adam(model.parameters(), lr=0.001)\n",
    "\n",
    "x = torch.linspace(0, 1, 100).reshape(-1, 1)\n",
    "t = torch.linspace(0, 1, 100).reshape(-1, 1)\n",
    "\n",
    "n_epochs = 5000\n",
    "for epoch in range(1, n_epochs + 1):\n",
    "    loss = loss_fn(model, x, t, alpha)\n",
    "\n",
    "    loss.backward()\n",
    "    optimizer.step()\n",
    "    optimizer.zero_grad()\n",
    "\n",
    "    if epoch % (n_epochs // 10) == 0:\n",
    "        print(f\"[{epoch:4d}/{n_epochs}] Loss: {loss.item():.2e}\")"
   ]
  }
 ],
 "metadata": {
  "kernelspec": {
   "display_name": "Python 3",
   "language": "python",
   "name": "python3"
  },
  "language_info": {
   "codemirror_mode": {
    "name": "ipython",
    "version": 3
   },
   "file_extension": ".py",
   "mimetype": "text/x-python",
   "name": "python",
   "nbconvert_exporter": "python",
   "pygments_lexer": "ipython3",
   "version": "3.11.8"
  }
 },
 "nbformat": 4,
 "nbformat_minor": 2
}
