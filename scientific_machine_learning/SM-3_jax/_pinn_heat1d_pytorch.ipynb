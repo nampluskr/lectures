{
 "cells": [
  {
   "cell_type": "code",
   "execution_count": 4,
   "metadata": {},
   "outputs": [],
   "source": [
    "import numpy as np\n",
    "import torch\n",
    "import torch.nn as nn\n",
    "import torch.optim as optim"
   ]
  },
  {
   "cell_type": "code",
   "execution_count": 28,
   "metadata": {},
   "outputs": [],
   "source": [
    "# 모델 정의\n",
    "class PINN(nn.Module):\n",
    "    def __init__(self, hidden_size):\n",
    "        super().__init__()\n",
    "        self.linear1 = nn.Linear(2, hidden_size)\n",
    "        self.linear2 = nn.Linear(hidden_size, hidden_size)\n",
    "        self.linear3 = nn.Linear(hidden_size, 1)\n",
    "\n",
    "    def forward(self, x, t):\n",
    "        inputs = torch.cat([x, t], dim=-1)\n",
    "        outputs = torch.tanh(self.linear1(inputs))\n",
    "        outputs = torch.tanh(self.linear2(outputs))\n",
    "        outputs = self.linear3(outputs)\n",
    "        return outputs"
   ]
  },
  {
   "cell_type": "code",
   "execution_count": 29,
   "metadata": {},
   "outputs": [],
   "source": [
    "# u_x = torch.autograd.grad(u.sum(), x, create_graph=True)[0]\n",
    "def gradient(y, x):\n",
    "    return torch.autograd.grad(y, x, \n",
    "                               grad_outputs=torch.ones_like(y),\n",
    "                               create_graph=True)[0]\n",
    "\n",
    "# 손실 함수 정의\n",
    "def loss_fn(model, x, t, alpha):\n",
    "    x.requires_grad_(True)\n",
    "    t.requires_grad_(True)\n",
    "\n",
    "    u = model(x, t)\n",
    "    u_t = gradient(u, t)\n",
    "    u_x = gradient(u, x)\n",
    "    u_xx = gradient(u_x, x)\n",
    "    pde_loss = torch.mean((u_t - alpha * u_xx)**2)\n",
    "\n",
    "    # 경계 조건 손실\n",
    "    x_bc = torch.tensor([[0.0], [1.0]], requires_grad=False).to(device)\n",
    "    t_bc = torch.tensor([[0.0], [0.0]], requires_grad=False).to(device)\n",
    "    u_bc = model(x_bc, t_bc)\n",
    "    bc_loss = torch.mean(u_bc**2)\n",
    "\n",
    "    # 초기 조건 손실\n",
    "    x_ic = torch.linspace(0, 1, 100).reshape(-1, 1).to(device)\n",
    "    t_ic = torch.zeros_like(x_ic).to(device)\n",
    "    u_ic = model(x_ic, t_ic)\n",
    "    ic_loss = torch.mean((u_ic - torch.sin(np.pi * x_ic))**2)\n",
    "\n",
    "    loss = pde_loss + bc_loss + ic_loss\n",
    "    return loss, (pde_loss, bc_loss, ic_loss)"
   ]
  },
  {
   "cell_type": "code",
   "execution_count": 30,
   "metadata": {},
   "outputs": [
    {
     "name": "stdout",
     "output_type": "stream",
     "text": [
      "[ 1000/10000] Loss: 4.063e-04 pde: 2.204e-05 bc: 4.335e-05 ic: 3.409e-04\n",
      "[ 2000/10000] Loss: 1.417e-04 pde: 1.309e-05 bc: 2.910e-05 ic: 9.950e-05\n",
      "[ 3000/10000] Loss: 7.526e-05 pde: 4.550e-06 bc: 6.855e-06 ic: 6.385e-05\n",
      "[ 4000/10000] Loss: 4.203e-05 pde: 3.298e-06 bc: 3.987e-06 ic: 3.474e-05\n",
      "[ 5000/10000] Loss: 2.482e-05 pde: 3.458e-06 bc: 2.321e-06 ic: 1.904e-05\n",
      "[ 6000/10000] Loss: 1.641e-05 pde: 3.225e-06 bc: 1.488e-06 ic: 1.169e-05\n",
      "[ 7000/10000] Loss: 1.222e-05 pde: 2.838e-06 bc: 9.772e-07 ic: 8.406e-06\n",
      "[ 8000/10000] Loss: 1.666e-04 pde: 1.491e-04 bc: 8.102e-06 ic: 9.456e-06\n",
      "[ 9000/10000] Loss: 8.652e-06 pde: 2.034e-06 bc: 6.219e-07 ic: 5.997e-06\n",
      "[10000/10000] Loss: 8.515e-06 pde: 2.402e-06 bc: 6.415e-07 ic: 5.471e-06\n"
     ]
    }
   ],
   "source": [
    "# 랜덤 시드\n",
    "torch.manual_seed(11)\n",
    "device = torch.device(\"cuda\" if torch.cuda.is_available() else \"cpu\")\n",
    "\n",
    "# 학습\n",
    "alpha = 1.0\n",
    "hidden_size = 20\n",
    "model = PINN(hidden_size).to(device)\n",
    "optimizer = optim.Adam(model.parameters(), lr=0.001)\n",
    "\n",
    "x = torch.linspace(0, 1, 100).reshape(-1, 1).to(device)\n",
    "t = torch.linspace(0, 1, 100).reshape(-1, 1).to(device)\n",
    "\n",
    "def train_step(model, optimizer, x, t, alpha):\n",
    "    loss, aux = loss_fn(model, x, t, alpha)\n",
    "\n",
    "    loss.backward()\n",
    "    optimizer.step()\n",
    "    optimizer.zero_grad()\n",
    "    return loss, aux\n",
    "\n",
    "n_epochs = 10000\n",
    "for epoch in range(1, n_epochs + 1):\n",
    "    loss, aux = train_step(model, optimizer, x, t, alpha)\n",
    "    pde_loss, bc_loss, ic_loss = aux\n",
    "\n",
    "    if epoch % (n_epochs // 10) == 0:\n",
    "        print(f\"[{epoch:5d}/{n_epochs}] Loss: {loss.item():.3e} \"\n",
    "              f\"pde: {pde_loss.item():.3e} bc: {bc_loss.item():.3e} ic: {ic_loss.item():.3e}\")"
   ]
  }
 ],
 "metadata": {
  "kernelspec": {
   "display_name": "base",
   "language": "python",
   "name": "python3"
  },
  "language_info": {
   "codemirror_mode": {
    "name": "ipython",
    "version": 3
   },
   "file_extension": ".py",
   "mimetype": "text/x-python",
   "name": "python",
   "nbconvert_exporter": "python",
   "pygments_lexer": "ipython3",
   "version": "3.10.12"
  },
  "orig_nbformat": 4
 },
 "nbformat": 4,
 "nbformat_minor": 2
}
