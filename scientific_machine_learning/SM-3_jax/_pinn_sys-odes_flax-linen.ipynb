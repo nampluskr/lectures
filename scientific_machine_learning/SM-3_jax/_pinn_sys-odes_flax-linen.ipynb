{
 "cells": [
  {
   "cell_type": "code",
   "execution_count": 135,
   "metadata": {},
   "outputs": [],
   "source": [
    "## https://github.com/ASEM000/Physics-informed-neural-network-in-JAX/blob/main/%5B5%5D_System_of_ODEs_PINN.ipynb\n",
    "import jax\n",
    "import jax.numpy as jnp\n",
    "import flax.linen as nn\n",
    "import optax"
   ]
  },
  {
   "cell_type": "code",
   "execution_count": 136,
   "metadata": {},
   "outputs": [],
   "source": [
    "# Collocation points\n",
    "key = jax.random.PRNGKey(0)\n",
    "t = jax.random.uniform(key, minval=0, maxval=jnp.pi, shape=(10000, 1))"
   ]
  },
  {
   "cell_type": "code",
   "execution_count": 137,
   "metadata": {},
   "outputs": [],
   "source": [
    "def init_params(layers):\n",
    "    keys = jax.random.split(jax.random.PRNGKey(0), len(layers) - 1)\n",
    "    params = list()\n",
    "    for key, n_in, n_out in zip(keys, layers[:-1], layers[1:]):\n",
    "        lb, ub = -(1 / jnp.sqrt(n_in)), (1 / jnp.sqrt(n_in)) # xavier initialization lower and upper bound\n",
    "        W = lb + (ub-lb) * jax.random.uniform(key,shape=(n_in,n_out))\n",
    "        B = jax.random.uniform(key,shape=(n_out,))\n",
    "        params.append({'W':W,'B':B})\n",
    "    return params\n",
    "\n",
    "def model(params, t):\n",
    "    *hidden, last = params\n",
    "    for layer in hidden :\n",
    "        t = jnp.matmul(t, layer['W']) + layer['B']\n",
    "        t = jax.nn.tanh(t)\n",
    "    return jnp.matmul(t, last['W']) + last['B']"
   ]
  },
  {
   "cell_type": "code",
   "execution_count": 138,
   "metadata": {},
   "outputs": [
    {
     "name": "stdout",
     "output_type": "stream",
     "text": [
      "[  200/2000] loss: 3.839e-01, ic1: 1.484e-01, ic2: 2.349e-07\n",
      "[  400/2000] loss: 3.525e-01, ic1: 1.366e-01, ic2: 3.548e-07\n",
      "[  600/2000] loss: 1.815e-01, ic1: 8.646e-02, ic2: 1.200e-04\n",
      "[  800/2000] loss: 8.636e-02, ic1: 2.598e-02, ic2: 2.084e-05\n",
      "[ 1000/2000] loss: 4.519e-02, ic1: 1.875e-02, ic2: 2.918e-06\n",
      "[ 1200/2000] loss: 4.289e-02, ic1: 2.148e-02, ic2: 9.932e-05\n",
      "[ 1400/2000] loss: 1.471e-02, ic1: 5.264e-03, ic2: 4.512e-07\n",
      "[ 1600/2000] loss: 1.201e-02, ic1: 6.632e-03, ic2: 3.439e-05\n",
      "[ 1800/2000] loss: 4.926e-03, ic1: 1.543e-03, ic2: 1.643e-11\n",
      "[ 2000/2000] loss: 3.149e-03, ic1: 9.238e-04, ic2: 3.327e-10\n"
     ]
    }
   ],
   "source": [
    "params = init_params([1] + [20]*2 + [2])\n",
    "optimizer = optax.adam(learning_rate=0.01)\n",
    "opt_state = optimizer.init(params)\n",
    "\n",
    "@jax.jit\n",
    "def loss_fn(params, t):\n",
    "    x = lambda t: model(params, t)[:, [0]]\n",
    "    y = lambda t: model(params, t)[:, [1]]\n",
    "    x_t = lambda t: jax.grad(lambda t: jnp.sum(x(t)))(t)\n",
    "    y_t = lambda t: jax.grad(lambda t: jnp.sum(y(t)))(t)\n",
    "\n",
    "    residual_x = x_t(t) - x(t)\n",
    "    residual_y = y_t(t) - x(t) + y(t)\n",
    "    ode_loss = jnp.mean(residual_x**2) + jnp.mean(residual_y**2)\n",
    "\n",
    "    # x[0] = 1, y[0] = 2\n",
    "    t0, x0, y0 = jnp.array([[0.]]), jnp.array([[1.]]), jnp.array([[2.]])\n",
    "    ic1_loss = jnp.mean((x(t0) - x0)**2)\n",
    "    ic2_loss = jnp.mean((y(t0) - y0)**2)\n",
    "\n",
    "    loss = ode_loss + ic1_loss + ic2_loss\n",
    "    return  loss, (ic1_loss, ic2_loss)\n",
    "\n",
    "@jax.jit\n",
    "def train_step(params, opt_state, t):\n",
    "    # grads = jax.grad(loss_fn)(params, t)\n",
    "    # loss, grads = jax.value_and_grad(loss_fn)(params, t)\n",
    "    (loss, aux), grads = jax.value_and_grad(loss_fn, has_aux=True)(params, t)\n",
    "    updates, opt_state = optimizer.update(grads, opt_state)\n",
    "    params = optax.apply_updates(params, updates)\n",
    "    return params, opt_state, (loss, *aux)\n",
    "\n",
    "n_epochs = 2000\n",
    "for epoch in range(1, n_epochs + 1):\n",
    "    params, opt_state, losses = train_step(params, opt_state, t)\n",
    "    loss, ic1_loss, ic2_loss = losses[0], losses[1], losses[2]\n",
    "\n",
    "    if epoch % (n_epochs // 10) == 0:\n",
    "        print(f'[{epoch:5d}/{n_epochs}] loss: {loss:.3e}, ic1: {ic1_loss:.3e}, ic2: {ic2_loss:.3e}')"
   ]
  }
 ],
 "metadata": {
  "kernelspec": {
   "display_name": "Python 3",
   "language": "python",
   "name": "python3"
  },
  "language_info": {
   "codemirror_mode": {
    "name": "ipython",
    "version": 3
   },
   "file_extension": ".py",
   "mimetype": "text/x-python",
   "name": "python",
   "nbconvert_exporter": "python",
   "pygments_lexer": "ipython3",
   "version": "3.11.8"
  }
 },
 "nbformat": 4,
 "nbformat_minor": 2
}
