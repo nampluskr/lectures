{
 "cells": [
  {
   "cell_type": "code",
   "execution_count": 12,
   "metadata": {},
   "outputs": [],
   "source": [
    "import numpy as np\n",
    "import tensorflow as tf\n",
    "import tensorflow.keras as keras"
   ]
  },
  {
   "cell_type": "code",
   "execution_count": 18,
   "metadata": {},
   "outputs": [],
   "source": [
    "# 모델 정의\n",
    "class PINN(tf.keras.Model):\n",
    "    def __init__(self, hidden_size):\n",
    "        super(PINN, self).__init__()\n",
    "        self.linear1 = tf.keras.layers.Dense(hidden_size)\n",
    "        self.linear2 = tf.keras.layers.Dense(hidden_size)\n",
    "        self.linear3 = tf.keras.layers.Dense(1)\n",
    "\n",
    "    def call(self, x, t):\n",
    "        inputs = tf.concat([x, t], axis=-1)\n",
    "        outputs = tf.tanh(self.linear1(inputs))\n",
    "        outputs = tf.tanh(self.linear2(outputs))\n",
    "        outputs = self.linear3(outputs)\n",
    "        return outputs"
   ]
  },
  {
   "cell_type": "code",
   "execution_count": 19,
   "metadata": {},
   "outputs": [],
   "source": [
    "# 손실 함수\n",
    "@tf.function\n",
    "def loss_fn(model, x, t, alpha):\n",
    "    with tf.GradientTape(persistent=True) as tape:\n",
    "        tape.watch(x)\n",
    "        tape.watch(t)\n",
    "\n",
    "        u = model(x, t)\n",
    "        u_t = tape.gradient(u, t)\n",
    "        u_x = tape.gradient(u, x)\n",
    "        u_xx = tape.gradient(u_x, x)\n",
    "\n",
    "    del tape  # tape 삭제\n",
    "    pde_loss = tf.reduce_mean(tf.square(u_t - alpha * u_xx))\n",
    "\n",
    "    # 경계 조건 손실\n",
    "    x_bc = tf.constant([[0.0], [1.0]], dtype=tf.float32)\n",
    "    t_bc = tf.constant([[0.0], [0.0]], dtype=tf.float32)\n",
    "    u_bc = model(x_bc, t_bc)\n",
    "    bc_loss = tf.reduce_mean(tf.square(u_bc))\n",
    "\n",
    "    # 초기 조건 손실\n",
    "    x_ic = tf.reshape(tf.linspace(0.0, 1.0, 101), shape=(-1, 1))\n",
    "    t_ic = tf.zeros_like(x_ic)\n",
    "    u_ic = model(x_ic, t_ic)\n",
    "    ic_loss = tf.reduce_mean(tf.square(u_ic - tf.sin(np.pi * x_ic)))\n",
    "\n",
    "    loss = pde_loss + bc_loss + ic_loss\n",
    "    return loss, (pde_loss, bc_loss, ic_loss)"
   ]
  },
  {
   "cell_type": "code",
   "execution_count": 20,
   "metadata": {},
   "outputs": [
    {
     "name": "stdout",
     "output_type": "stream",
     "text": [
      "[ 1000/10000] Loss: 2.601e-02 pde: 4.174e-03 bc: 5.788e-03 ic: 1.605e-02\n",
      "[ 2000/10000] Loss: 3.264e-03 pde: 1.371e-04 bc: 5.053e-04 ic: 2.621e-03\n",
      "[ 3000/10000] Loss: 2.301e-04 pde: 9.166e-05 bc: 2.131e-05 ic: 1.172e-04\n",
      "[ 4000/10000] Loss: 4.665e-05 pde: 1.795e-05 bc: 2.422e-06 ic: 2.627e-05\n",
      "[ 5000/10000] Loss: 2.691e-05 pde: 6.074e-06 bc: 1.359e-06 ic: 1.948e-05\n",
      "[ 6000/10000] Loss: 5.699e-04 pde: 5.509e-04 bc: 9.597e-07 ic: 1.807e-05\n",
      "[ 7000/10000] Loss: 1.371e-05 pde: 2.870e-06 bc: 5.479e-07 ic: 1.029e-05\n",
      "[ 8000/10000] Loss: 9.823e-06 pde: 2.144e-06 bc: 3.248e-07 ic: 7.355e-06\n",
      "[ 9000/10000] Loss: 8.832e-06 pde: 3.260e-06 bc: 2.782e-07 ic: 5.295e-06\n",
      "[10000/10000] Loss: 5.607e-06 pde: 1.318e-06 bc: 1.335e-07 ic: 4.156e-06\n"
     ]
    }
   ],
   "source": [
    "# 하이퍼파라미터\n",
    "alpha = 1.0\n",
    "hidden_size = 20\n",
    "\n",
    "# 모델 및 옵티마이저 초기화\n",
    "model = PINN(hidden_size)\n",
    "optimizer = keras.optimizers.Adam(learning_rate=0.001)\n",
    "\n",
    "# 학습 데이터 생성 (TensorFlow 텐서로 변환)\n",
    "x = tf.reshape(tf.linspace(0.0, 1.0, 100), shape=(-1, 1))\n",
    "t = tf.reshape(tf.linspace(0.0, 1.0, 100), shape=(-1, 1))\n",
    "\n",
    "# 학습 루프\n",
    "@tf.function  # 그래프 모드로 컴파일하여 성능 향상\n",
    "def train_step(model, optimizer, x, t):\n",
    "    with tf.GradientTape() as tape:\n",
    "        loss, aux = loss_fn(model, x, t, alpha)\n",
    "    gradients = tape.gradient(loss, model.trainable_variables)\n",
    "    optimizer.apply_gradients(zip(gradients, model.trainable_variables))\n",
    "    return loss, aux\n",
    "\n",
    "n_epochs = 10000\n",
    "for epoch in range(1, n_epochs + 1):\n",
    "    loss, aux = train_step(model, optimizer, x, t)\n",
    "    pde_loss, bc_loss, ic_loss = aux\n",
    "\n",
    "    if epoch % (n_epochs // 10) == 0:\n",
    "        print(f\"[{epoch:5d}/{n_epochs}] Loss: {loss.numpy():.3e} \"\n",
    "              f\"pde: {pde_loss.numpy():.3e} bc: {bc_loss.numpy():.3e} ic: {ic_loss.numpy():.3e}\")"
   ]
  },
  {
   "cell_type": "code",
   "execution_count": null,
   "metadata": {},
   "outputs": [],
   "source": []
  }
 ],
 "metadata": {
  "kernelspec": {
   "display_name": "base",
   "language": "python",
   "name": "python3"
  },
  "language_info": {
   "codemirror_mode": {
    "name": "ipython",
    "version": 3
   },
   "file_extension": ".py",
   "mimetype": "text/x-python",
   "name": "python",
   "nbconvert_exporter": "python",
   "pygments_lexer": "ipython3",
   "version": "3.10.12"
  },
  "orig_nbformat": 4
 },
 "nbformat": 4,
 "nbformat_minor": 2
}
