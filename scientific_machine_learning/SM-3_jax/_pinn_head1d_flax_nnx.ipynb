{
 "cells": [
  {
   "cell_type": "code",
   "execution_count": 57,
   "metadata": {},
   "outputs": [],
   "source": [
    "import jax\n",
    "import jax.numpy as jnp\n",
    "from flax import nnx\n",
    "import optax"
   ]
  },
  {
   "cell_type": "code",
   "execution_count": 58,
   "metadata": {},
   "outputs": [],
   "source": [
    "class PINN(nnx.Module):\n",
    "    def __init__(self, hidden_size, rngs: nnx.Rngs):\n",
    "        # self.net = nnx.Sequential([\n",
    "        #     nnx.Linear(2, hidden_size, rngs=rngs),\n",
    "        #     nnx.tanh,\n",
    "        #     nnx.Linear(hidden_size, hidden_size, rngs=rngs),\n",
    "        #     nnx.tanh,\n",
    "        #     nnx.Linear(hidden_size, 1, rngs=rngs)\n",
    "        # ])\n",
    "        self.linear1 = nnx.Linear(2, hidden_size, rngs=rngs)\n",
    "        self.linear2 = nnx.Linear(hidden_size, hidden_size, rngs=rngs)\n",
    "        self.linear3 = nnx.Linear(hidden_size, 1, rngs=rngs)\n",
    "\n",
    "    def __call__(self, t, x):\n",
    "        inputs = jnp.concatenate([t, x], axis=-1)\n",
    "        outputs = nnx.tanh(self.linear1(inputs))\n",
    "        outputs = nnx.tanh(self.linear2(outputs))\n",
    "        outputs = self.linear3(outputs)\n",
    "        return outputs"
   ]
  },
  {
   "cell_type": "code",
   "execution_count": 59,
   "metadata": {},
   "outputs": [
    {
     "name": "stdout",
     "output_type": "stream",
     "text": [
      "[ 1000/10000] Loss: 2.698e-03 pde: 3.732e-06 bc: 3.380e-04 ic: 2.356e-03\n",
      "[ 2000/10000] Loss: 1.359e-03 pde: 3.435e-07 bc: 1.543e-04 ic: 1.204e-03\n",
      "[ 3000/10000] Loss: 8.570e-04 pde: 1.226e-07 bc: 9.234e-05 ic: 7.645e-04\n",
      "[ 4000/10000] Loss: 6.434e-04 pde: 4.469e-08 bc: 6.637e-05 ic: 5.770e-04\n",
      "[ 5000/10000] Loss: 5.266e-04 pde: 7.585e-07 bc: 5.118e-05 ic: 4.747e-04\n",
      "[ 6000/10000] Loss: 4.456e-04 pde: 1.826e-09 bc: 4.236e-05 ic: 4.032e-04\n",
      "[ 7000/10000] Loss: 1.558e-03 pde: 1.053e-03 bc: 1.209e-04 ic: 3.843e-04\n",
      "[ 8000/10000] Loss: 3.362e-04 pde: 2.344e-09 bc: 3.052e-05 ic: 3.056e-04\n",
      "[ 9000/10000] Loss: 3.182e-04 pde: 2.140e-05 bc: 2.478e-05 ic: 2.720e-04\n",
      "[10000/10000] Loss: 2.658e-04 pde: 3.318e-06 bc: 2.470e-05 ic: 2.378e-04\n"
     ]
    }
   ],
   "source": [
    "# 하이퍼파라미터 설정\n",
    "alpha = 1.0\n",
    "hidden_size = 20\n",
    "\n",
    "# 난수 키 생성\n",
    "key = jax.random.PRNGKey(0)\n",
    "rngs = nnx.Rngs(key)\n",
    "\n",
    "# 모델 및 옵티마이저 초기화\n",
    "model = PINN(hidden_size, rngs=rngs)\n",
    "x = jnp.linspace(0, 1, 100).reshape(-1, 1)\n",
    "t = jnp.linspace(0, 1, 100).reshape(-1, 1)\n",
    "\n",
    "optimizer = nnx.Optimizer(model, optax.adam(learning_rate=0.001))\n",
    "\n",
    "@nnx.jit\n",
    "def loss_fn(model, t, x, alpha):\n",
    "    u = model(t, x)\n",
    "    u_t = jax.grad(lambda *args: model(*args).sum())(t, x)[1]\n",
    "    u_x = jax.grad(lambda *args: model(*args).sum())(t, x)[0]\n",
    "    u_xx = jax.grad(lambda *args: u_x.sum())(t, x)[0]\n",
    "\n",
    "    # PDE 손실\n",
    "    residual = u_t - alpha * u_xx\n",
    "    pde_loss = jnp.mean(residual**2)\n",
    "\n",
    "    # 경계 조건 손실\n",
    "    x_bc = jnp.array([[0.0], [1.0]])\n",
    "    t_bc = jnp.array([[0.0], [0.0]])\n",
    "    u_bc = model(x_bc, t_bc)\n",
    "    bc_loss = jnp.mean(u_bc**2)\n",
    "\n",
    "    # 초기 조건 손실\n",
    "    n_ic = 100 # 초기 조건 점의 개수\n",
    "    x_ic = jnp.linspace(0, 1, n_ic).reshape(-1, 1)\n",
    "    t_ic = jnp.zeros_like(x_ic)\n",
    "    u_ic = model(x_ic, t_ic)\n",
    "    ic_loss = jnp.mean((u_ic - jnp.sin(jnp.pi * x_ic))**2)\n",
    "\n",
    "    loss = pde_loss + bc_loss + ic_loss\n",
    "    return loss, (pde_loss, bc_loss, ic_loss)\n",
    "\n",
    "\n",
    "@nnx.jit\n",
    "def train_step(model, optimizer, t, x, alpha):\n",
    "    (loss, aux), grads = nnx.value_and_grad(loss_fn, has_aux=True)(model, t, x, alpha)\n",
    "    optimizer.update(grads)\n",
    "    return loss, aux\n",
    "\n",
    "n_epochs = 10000\n",
    "for epoch in range(1, n_epochs + 1):\n",
    "    loss, aux = train_step(model, optimizer, t, x, alpha)\n",
    "    pde_loss, bc_loss, ic_loss = aux\n",
    "\n",
    "    if epoch % (n_epochs // 10) == 0:\n",
    "        print(f\"[{epoch:5d}/{n_epochs}] Loss: {loss:.3e} \"\n",
    "              f\"pde: {pde_loss:.3e} bc: {bc_loss:.3e} ic: {ic_loss:.3e}\")"
   ]
  }
 ],
 "metadata": {
  "kernelspec": {
   "display_name": "Python 3",
   "language": "python",
   "name": "python3"
  },
  "language_info": {
   "codemirror_mode": {
    "name": "ipython",
    "version": 3
   },
   "file_extension": ".py",
   "mimetype": "text/x-python",
   "name": "python",
   "nbconvert_exporter": "python",
   "pygments_lexer": "ipython3",
   "version": "3.11.8"
  }
 },
 "nbformat": 4,
 "nbformat_minor": 2
}
