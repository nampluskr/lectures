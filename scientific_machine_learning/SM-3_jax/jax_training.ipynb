{
 "cells": [
  {
   "cell_type": "code",
   "execution_count": 25,
   "metadata": {},
   "outputs": [],
   "source": [
    "import jax\n",
    "import jax.numpy as jnp\n",
    "from flax import linen as nn\n",
    "import optax\n",
    "\n",
    "from typing import Sequence\n",
    "import numpy as np\n",
    "\n",
    "class MLP(nn.Module):\n",
    "    features: Sequence[int]\n",
    "\n",
    "    @nn.compact\n",
    "    def __call__(self, x):\n",
    "        for feat in self.features:\n",
    "            x = nn.relu(nn.Dense(feat)(x))\n",
    "        return x"
   ]
  },
  {
   "cell_type": "code",
   "execution_count": 26,
   "metadata": {},
   "outputs": [],
   "source": [
    "# 가상 데이터 생성\n",
    "key = jax.random.PRNGKey(0)\n",
    "x_train = np.random.randn(100, 2)\n",
    "y_train = np.sin(x_train)\n",
    "\n",
    "# JAX로 변환\n",
    "x_train = jnp.array(x_train)\n",
    "y_train = jnp.array(y_train)"
   ]
  },
  {
   "cell_type": "code",
   "execution_count": 27,
   "metadata": {},
   "outputs": [
    {
     "name": "stdout",
     "output_type": "stream",
     "text": [
      "[ 100/1000] Loss: 0.446\n",
      "[ 200/1000] Loss: 0.446\n",
      "[ 300/1000] Loss: 0.446\n",
      "[ 400/1000] Loss: 0.446\n",
      "[ 500/1000] Loss: 0.446\n",
      "[ 600/1000] Loss: 0.446\n",
      "[ 700/1000] Loss: 0.446\n",
      "[ 800/1000] Loss: 0.446\n",
      "[ 900/1000] Loss: 0.446\n",
      "[1000/1000] Loss: 0.446\n"
     ]
    }
   ],
   "source": [
    "model = MLP(features=[2, 100, 100, 2])\n",
    "params = model.init(key, x_train)['params']\n",
    "\n",
    "def loss(params, x, y):\n",
    "    pred = model.apply({'params': params}, x)\n",
    "    return jnp.mean((pred - y) ** 2)\n",
    "\n",
    "optimizer = optax.adam(learning_rate=0.01)\n",
    "opt_state = optimizer.init(params)\n",
    "\n",
    "@jax.jit\n",
    "def update(params, opt_state, x, y):\n",
    "    loss_value, grads = jax.value_and_grad(loss)(params, x, y)\n",
    "    updates, opt_state = optimizer.update(grads, opt_state)\n",
    "    params = optax.apply_updates(params, updates)\n",
    "    return params, opt_state, loss_value\n",
    "\n",
    "n_epochs = 1000\n",
    "for epoch in range(1, n_epochs + 1):\n",
    "    params, opt_state, loss_value = update(params, opt_state, x_train, y_train)\n",
    "    if epoch % (n_epochs // 10) == 0:\n",
    "        print(f\"[{epoch:4d}/{n_epochs}] Loss: {loss_value:.3f}\")"
   ]
  }
 ],
 "metadata": {
  "kernelspec": {
   "display_name": "jax",
   "language": "python",
   "name": "python3"
  },
  "language_info": {
   "codemirror_mode": {
    "name": "ipython",
    "version": 3
   },
   "file_extension": ".py",
   "mimetype": "text/x-python",
   "name": "python",
   "nbconvert_exporter": "python",
   "pygments_lexer": "ipython3",
   "version": "3.10.15"
  }
 },
 "nbformat": 4,
 "nbformat_minor": 2
}
