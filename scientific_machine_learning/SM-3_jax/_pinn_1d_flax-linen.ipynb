{
 "cells": [
  {
   "cell_type": "code",
   "execution_count": 56,
   "metadata": {},
   "outputs": [],
   "source": [
    "## https://github.com/ASEM000/Physics-informed-neural-network-in-JAX/blob/main/%5B1%5D_ODE_PINN.ipynb\n",
    "import jax\n",
    "import jax.numpy as jnp\n",
    "import optax"
   ]
  },
  {
   "cell_type": "code",
   "execution_count": 57,
   "metadata": {},
   "outputs": [],
   "source": [
    "key = jax.random.PRNGKey(0)\n",
    "t = jax.random.uniform(key, minval=0, maxval=jnp.pi, shape=(100, 1))\n",
    "# t = jnp.linspace(0, jnp.pi, 100).reshape(-1, 1)"
   ]
  },
  {
   "cell_type": "code",
   "execution_count": 58,
   "metadata": {},
   "outputs": [],
   "source": [
    "def init_params(layers):\n",
    "    keys = jax.random.split(jax.random.PRNGKey(0), len(layers)-1)\n",
    "    params = list()\n",
    "    for key, n_in, n_out in zip(keys, layers[:-1], layers[1:]):\n",
    "        lb, ub = -(1 / jnp.sqrt(n_in)), (1 / jnp.sqrt(n_in)) # xavier initialization lower and upper bound\n",
    "        W = lb + (ub-lb) * jax.random.uniform(key,shape=(n_in,n_out))\n",
    "        B = jax.random.uniform(key,shape=(n_out,))\n",
    "        params.append({'W':W,'B':B})\n",
    "    return params\n",
    "\n",
    "def model(params, t):\n",
    "    *hidden, last = params\n",
    "    for layer in hidden :\n",
    "        t = jnp.matmul(t, layer['W']) + layer['B']\n",
    "        t = jax.nn.tanh(t)\n",
    "    return jnp.matmul(t, last['W']) + last['B']"
   ]
  },
  {
   "cell_type": "code",
   "execution_count": 59,
   "metadata": {},
   "outputs": [
    {
     "name": "stdout",
     "output_type": "stream",
     "text": [
      "[ 1000/10000] loss: 1.859e+00\n",
      "[ 2000/10000] loss: 7.550e-01\n",
      "[ 3000/10000] loss: 1.086e-03\n",
      "[ 4000/10000] loss: 1.788e-04\n",
      "[ 5000/10000] loss: 1.205e-04\n",
      "[ 6000/10000] loss: 3.551e-05\n",
      "[ 7000/10000] loss: 7.183e-05\n",
      "[ 8000/10000] loss: 6.923e-06\n",
      "[ 9000/10000] loss: 5.177e-06\n",
      "[10000/10000] loss: 1.402e-05\n"
     ]
    }
   ],
   "source": [
    "params = init_params([1] + [20]*4 + [1])\n",
    "optimizer = optax.adam(learning_rate=0.001)\n",
    "opt_state = optimizer.init(params)\n",
    "\n",
    "@jax.jit\n",
    "def loss_fn(params, t):\n",
    "    u = lambda t: model(params, t)\n",
    "    u_t = lambda t: jax.grad(lambda _t: jnp.sum(u(_t)))(t)\n",
    "    u_tt = lambda t: jax.grad(lambda _t: jnp.sum(u_t(_t)))(t)\n",
    "\n",
    "    residual = -t * jnp.cos(2 * jnp.pi * t) + u_t(t) + u_tt(t)\n",
    "    ode_loss = jnp.mean(residual**2)\n",
    "\n",
    "    t_ic1, u_ic1 = jnp.array([[0.]]), jnp.array([[1.]])   # u(0) = 1\n",
    "    ic1_loss = jnp.mean((u(t_ic1) - u_ic1)**2)\n",
    "\n",
    "    t_ic2, u_ic2 = jnp.array([[0.]]), jnp.array([[10.]])  # u'(0) = 10\n",
    "    ic2_loss = jnp.mean((u_t(t_ic2) - u_ic2)**2)\n",
    "    \n",
    "    loss = ode_loss + ic1_loss + ic2_loss\n",
    "    return  loss\n",
    "\n",
    "@jax.jit\n",
    "def train_step(params, opt_state, t):\n",
    "    # grads = jax.grad(loss_fn)(params, t)\n",
    "    loss, grads = jax.value_and_grad(loss_fn)(params, t)\n",
    "    updates, opt_state = optimizer.update(grads, opt_state)\n",
    "    params = optax.apply_updates(params, updates)\n",
    "    return params, opt_state, loss\n",
    "\n",
    "n_epochs = 10000\n",
    "for epoch in range(1, n_epochs + 1):\n",
    "    params, opt_state, loss = train_step(params, opt_state, t)\n",
    "\n",
    "    if epoch % (n_epochs // 10) == 0:\n",
    "        print(f\"[{epoch:5d}/{n_epochs}] loss: {loss:.3e}\")"
   ]
  },
  {
   "cell_type": "code",
   "execution_count": null,
   "metadata": {},
   "outputs": [],
   "source": []
  }
 ],
 "metadata": {
  "kernelspec": {
   "display_name": "Python 3",
   "language": "python",
   "name": "python3"
  },
  "language_info": {
   "codemirror_mode": {
    "name": "ipython",
    "version": 3
   },
   "file_extension": ".py",
   "mimetype": "text/x-python",
   "name": "python",
   "nbconvert_exporter": "python",
   "pygments_lexer": "ipython3",
   "version": "3.11.8"
  }
 },
 "nbformat": 4,
 "nbformat_minor": 2
}
