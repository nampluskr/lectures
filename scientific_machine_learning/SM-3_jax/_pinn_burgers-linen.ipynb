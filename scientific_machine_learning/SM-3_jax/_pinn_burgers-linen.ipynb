{
 "cells": [
  {
   "cell_type": "code",
   "execution_count": 65,
   "metadata": {},
   "outputs": [],
   "source": [
    "import jax \n",
    "import jax.numpy as jnp\n",
    "import optax\n",
    "import numpy as np"
   ]
  },
  {
   "cell_type": "code",
   "execution_count": 66,
   "metadata": {},
   "outputs": [],
   "source": [
    "np.random.seed(42)\n",
    "\n",
    "N_0 = 100\n",
    "N_b = 100\n",
    "N_r = 10_000\n",
    "\n",
    "tmin, tmax = 0., 1.\n",
    "xmin, xmax = -1. ,1.\n",
    "\n",
    "# boundary conditions\n",
    "# U[0, x] = -sin(pi*x)\n",
    "t_0 = jnp.ones([N_0, 1], dtype='float32')*0.\n",
    "x_0 = np.random.uniform(low=xmin, high=xmax, size=(N_0, 1))\n",
    "ic_0 = -jnp.sin(jnp.pi*x_0) \n",
    "IC_0 = jnp.concatenate([t_0, x_0, ic_0], axis=1)\n",
    "\n",
    "# U[t, -1] = 0\n",
    "t_b1 = np.random.uniform(low=tmin, high=tmax, size=(N_b, 1))\n",
    "x_b1 = jnp.ones_like(t_b1) * -1\n",
    "bc_1 = jnp.zeros_like(t_b1)\n",
    "BC_1 = jnp.concatenate([t_b1, x_b1, bc_1], axis=1)\n",
    "\n",
    "# U[t, 1] = 0\n",
    "t_b2 = np.random.uniform(low=tmin, high=tmax, size=(N_b, 1))\n",
    "x_b2 = jnp.ones_like(t_b2) \n",
    "bc_2 = jnp.zeros_like(t_b2)\n",
    "BC_2 = jnp.concatenate([t_b2, x_b2, bc_2], axis=1)\n",
    "\n",
    "conds = [IC_0, BC_1, BC_2]\n",
    "\n",
    "#collocation points\n",
    "t = np.random.uniform(low=tmin, high=tmax, size=(N_r, 1))\n",
    "x = np.random.uniform(low=xmin, high=xmax, size=(N_r, 1))\n",
    "# colloc = jnp.concatenate([t_c, x_c], axis=1) "
   ]
  },
  {
   "cell_type": "code",
   "execution_count": 67,
   "metadata": {},
   "outputs": [],
   "source": [
    "def init_params(layers):\n",
    "    keys = jax.random.split(jax.random.PRNGKey(0), len(layers) - 1)\n",
    "    params = []\n",
    "    for key, n_in, n_out in zip(keys, layers[:-1], layers[1:]):\n",
    "        lb, ub = -(1 / jnp.sqrt(n_in)), (1 / jnp.sqrt(n_in))    # xavier initialization\n",
    "        W = lb + (ub - lb) * jax.random.uniform(key, shape=(n_in, n_out))\n",
    "        B = jax.random.uniform(key,shape=(n_out,))\n",
    "        params.append({'W':W,'B':B})\n",
    "    return params\n",
    "\n",
    "def model(params, t, x):\n",
    "    X = jnp.concatenate([t, x], axis=1)\n",
    "    *hidden, last = params\n",
    "    for layer in hidden :\n",
    "        X = jnp.matmul(X, layer['W']) + layer['B']\n",
    "        X = jax.nn.tanh(X)\n",
    "    return jnp.matmul(X, last['W']) + last['B']"
   ]
  },
  {
   "cell_type": "code",
   "execution_count": 68,
   "metadata": {},
   "outputs": [
    {
     "name": "stdout",
     "output_type": "stream",
     "text": [
      "[  200/2000] loss: 1.119e-01\n",
      "[  400/2000] loss: 8.660e-02\n",
      "[  600/2000] loss: 7.786e-02\n",
      "[  800/2000] loss: 6.193e-02\n",
      "[ 1000/2000] loss: 3.762e-02\n",
      "[ 1200/2000] loss: 3.208e-02\n",
      "[ 1400/2000] loss: 2.484e-02\n",
      "[ 1600/2000] loss: 1.225e-01\n",
      "[ 1800/2000] loss: 1.135e-02\n",
      "[ 2000/2000] loss: 9.186e-03\n"
     ]
    }
   ],
   "source": [
    "params = init_params([2] + [20]*3 + [1])\n",
    "optimizer = optax.adam(learning_rate=0.01)\n",
    "opt_state = optimizer.init(params)\n",
    "\n",
    "@jax.jit\n",
    "def loss_fn(params, t, x):\n",
    "    u = lambda t, x : model(params, t, x)\n",
    "    u_t = lambda t, x: jax.grad(lambda t, x: jnp.sum(u(t, x)), 0)(t, x)\n",
    "    u_x = lambda t, x: jax.grad(lambda t, x: jnp.sum(u(t, x)), 1)(t, x)\n",
    "    u_xx = lambda t, x: jax.grad(lambda t, x: jnp.sum(u_x(t, x)), 1)(t, x)\n",
    "\n",
    "    residual = u_t(t, x) + u(t, x)*u_x(t, x) - (0.01/jnp.pi)*u_xx(t, x)\n",
    "    loss = jnp.mean(residual**2)\n",
    "    \n",
    "    for cond in conds :\n",
    "        t_b, x_b, u_b = cond[:, [0]], cond[:, [1]], cond[:, [2]]  \n",
    "        loss += jnp.mean((u(t_b, x_b) - u_b)**2)\n",
    "    return loss\n",
    "\n",
    "@jax.jit\n",
    "def train_step(params, opt_state, t, x):\n",
    "    # grads = jax.grad(loss_fn)(params, t, x)\n",
    "    loss, grads = jax.value_and_grad(loss_fn)(params, t, x)\n",
    "    updates, opt_state = optimizer.update(grads, opt_state)\n",
    "    params = optax.apply_updates(params, updates)\n",
    "    return params, opt_state, loss\n",
    "\n",
    "n_epochs = 2000\n",
    "for epoch in range(1, n_epochs + 1):\n",
    "    params, opt_state, loss = train_step(params, opt_state, t, x)\n",
    "\n",
    "    if epoch % (n_epochs // 10) == 0:\n",
    "        print(f'[{epoch:5d}/{n_epochs}] loss: {loss:.3e}')"
   ]
  }
 ],
 "metadata": {
  "kernelspec": {
   "display_name": "Python 3",
   "language": "python",
   "name": "python3"
  },
  "language_info": {
   "codemirror_mode": {
    "name": "ipython",
    "version": 3
   },
   "file_extension": ".py",
   "mimetype": "text/x-python",
   "name": "python",
   "nbconvert_exporter": "python",
   "pygments_lexer": "ipython3",
   "version": "3.11.8"
  }
 },
 "nbformat": 4,
 "nbformat_minor": 2
}
