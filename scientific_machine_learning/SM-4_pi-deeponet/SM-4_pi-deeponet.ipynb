{
 "cells": [
  {
   "cell_type": "code",
   "execution_count": 7,
   "metadata": {},
   "outputs": [],
   "source": [
    "import numpy as np\n",
    "import scipy.io\n",
    "from scipy.integrate import solve_ivp"
   ]
  },
  {
   "cell_type": "code",
   "execution_count": null,
   "metadata": {},
   "outputs": [],
   "source": [
    "# https://github.com/PredictiveIntelligenceLab/Physics-informed-DeepONets/blob/main/Burger/Data/GRF.m\n",
    "\n",
    "# Simplified chebfun-like function for demonstration\n",
    "def chebfun(x, c):\n",
    "    return np.polynomial.chebyshev.chebval(x, c)\n",
    "\n",
    "# Gaussian Random Field (GRF) function\n",
    "def GRF(N, m, gamma, tau, sigma, type):\n",
    "    if type == \"dirichlet\":\n",
    "        m = 0\n",
    "\n",
    "    my_const = 2 * np.pi if type == \"periodic\" else np.pi\n",
    "    my_eigs = np.sqrt(2) * (np.abs(sigma) * ((my_const * np.arange(1, N + 1))**2 + tau**2)**(-gamma / 2))\n",
    "\n",
    "    if type == \"dirichlet\":\n",
    "        alpha = np.zeros(N)\n",
    "    else:\n",
    "        xi_alpha = np.random.randn(N)\n",
    "        alpha = my_eigs * xi_alpha\n",
    "\n",
    "    if type == \"neumann\":\n",
    "        beta = np.zeros(N)\n",
    "    else:\n",
    "        xi_beta = np.random.randn(N)\n",
    "        beta = my_eigs * xi_beta\n",
    "\n",
    "    a = alpha / 2\n",
    "    b = -beta / 2\n",
    "    c = np.concatenate([np.flipud(a) - np.flipud(b) * 1j, [m + 0j], a + b * 1j])\n",
    "\n",
    "    if type == \"periodic\":\n",
    "        uu = chebfun(np.linspace(0, 1, N), c)\n",
    "        u = lambda t: uu(t - 0.5)\n",
    "    else:\n",
    "        uu = chebfun(np.linspace(-np.pi, np.pi, N), c)\n",
    "        u = lambda t: uu(np.pi * t)\n",
    "\n",
    "    return u"
   ]
  },
  {
   "cell_type": "code",
   "execution_count": null,
   "metadata": {},
   "outputs": [],
   "source": [
    "# Burgers' equation solver (simplified version)\n",
    "# https://github.com/PredictiveIntelligenceLab/Physics-informed-DeepONets/blob/main/Burger/Data/Burgers.m\n",
    "def burgers(init, tspan, s, visc):\n",
    "    def lin(t, u):\n",
    "        return visc * np.gradient(np.gradient(u))\n",
    "\n",
    "    def nonlin(t, u):\n",
    "        return -0.5 * np.gradient(u**2)\n",
    "\n",
    "    def rhs(t, u):\n",
    "        return lin(t, u) + nonlin(t, u)\n",
    "\n",
    "    t_eval = np.linspace(tspan[0], tspan[1], s)\n",
    "    sol = solve_ivp(rhs, tspan, init, t_eval=t_eval, method='RK45')\n",
    "    return sol.y"
   ]
  },
  {
   "cell_type": "code",
   "execution_count": null,
   "metadata": {},
   "outputs": [
    {
     "ename": "TypeError",
     "evalue": "'numpy.ndarray' object is not callable",
     "output_type": "error",
     "traceback": [
      "\u001b[0;31m---------------------------------------------------------------------------\u001b[0m",
      "\u001b[0;31mTypeError\u001b[0m                                 Traceback (most recent call last)",
      "Cell \u001b[0;32mIn[11], line 23\u001b[0m\n\u001b[1;32m     21\u001b[0m \u001b[38;5;28;01mfor\u001b[39;00m j \u001b[38;5;129;01min\u001b[39;00m \u001b[38;5;28mrange\u001b[39m(N):\n\u001b[1;32m     22\u001b[0m     u0 \u001b[38;5;241m=\u001b[39m GRF(s \u001b[38;5;241m/\u001b[39m\u001b[38;5;241m/\u001b[39m \u001b[38;5;241m2\u001b[39m, \u001b[38;5;241m0\u001b[39m, gamma, tau, sigma, \u001b[38;5;124m\"\u001b[39m\u001b[38;5;124mperiodic\u001b[39m\u001b[38;5;124m\"\u001b[39m)\n\u001b[0;32m---> 23\u001b[0m     u \u001b[38;5;241m=\u001b[39m burgers(\u001b[43mu0\u001b[49m\u001b[43m(\u001b[49m\u001b[43mX\u001b[49m\u001b[43m)\u001b[49m, tspan, s, visc)\n\u001b[1;32m     25\u001b[0m     u0_eval \u001b[38;5;241m=\u001b[39m u0(X)\n\u001b[1;32m     26\u001b[0m     input_data[j, :] \u001b[38;5;241m=\u001b[39m u0_eval\n",
      "Cell \u001b[0;32mIn[8], line 31\u001b[0m, in \u001b[0;36mGRF.<locals>.<lambda>\u001b[0;34m(t)\u001b[0m\n\u001b[1;32m     29\u001b[0m \u001b[38;5;28;01mif\u001b[39;00m \u001b[38;5;28mtype\u001b[39m \u001b[38;5;241m==\u001b[39m \u001b[38;5;124m\"\u001b[39m\u001b[38;5;124mperiodic\u001b[39m\u001b[38;5;124m\"\u001b[39m:\n\u001b[1;32m     30\u001b[0m     uu \u001b[38;5;241m=\u001b[39m chebfun(np\u001b[38;5;241m.\u001b[39mlinspace(\u001b[38;5;241m0\u001b[39m, \u001b[38;5;241m1\u001b[39m, N), c)\n\u001b[0;32m---> 31\u001b[0m     u \u001b[38;5;241m=\u001b[39m \u001b[38;5;28;01mlambda\u001b[39;00m t: \u001b[43muu\u001b[49m\u001b[43m(\u001b[49m\u001b[43mt\u001b[49m\u001b[43m \u001b[49m\u001b[38;5;241;43m-\u001b[39;49m\u001b[43m \u001b[49m\u001b[38;5;241;43m0.5\u001b[39;49m\u001b[43m)\u001b[49m\n\u001b[1;32m     32\u001b[0m \u001b[38;5;28;01melse\u001b[39;00m:\n\u001b[1;32m     33\u001b[0m     uu \u001b[38;5;241m=\u001b[39m chebfun(np\u001b[38;5;241m.\u001b[39mlinspace(\u001b[38;5;241m-\u001b[39mnp\u001b[38;5;241m.\u001b[39mpi, np\u001b[38;5;241m.\u001b[39mpi, N), c)\n",
      "\u001b[0;31mTypeError\u001b[0m: 'numpy.ndarray' object is not callable"
     ]
    }
   ],
   "source": [
    "# https://github.com/PredictiveIntelligenceLab/Physics-informed-DeepONets/blob/main/Burger/Data/gen_Burgers.m\n",
    "\n",
    "# Parameters\n",
    "N = 10                              # number of realizations to generate\n",
    "gamma, tau, sigma = 4, 5, 25**2     # parameters for the Gaussian random field\n",
    "visc = 0.01                         # % viscosity\n",
    "s, steps, nn = 4096, 100, 101       # % grid size\n",
    "\n",
    "input_data = np.zeros((N, nn))\n",
    "if steps == 1:\n",
    "    output_data = np.zeros((N, s))\n",
    "else:\n",
    "    output_data = np.zeros((N, steps, nn))\n",
    "\n",
    "tspan = np.linspace(0, 1, steps + 1)\n",
    "x = np.linspace(0, 1, s + 1)\n",
    "X = np.linspace(0, 1, nn)\n",
    "\n",
    "for j in range(N):\n",
    "    u0 = GRF(s // 2, 0, gamma, tau, sigma, \"periodic\")\n",
    "    u = burgers(u0(X), tspan, s, visc)\n",
    "\n",
    "    u0_eval = u0(X)\n",
    "    input_data[j, :] = u0_eval\n",
    "\n",
    "    if steps == 1:\n",
    "        output_data[j, :] = u\n",
    "    else:\n",
    "        for k in range(steps + 1):\n",
    "            output_data[j, k, :] = u[k](X)\n",
    "\n",
    "    print(j)\n",
    "\n",
    "# Save results to a .mat file\n",
    "# scipy.io.savemat('Burger.mat', {'input': input_data, 'output': output_data, 'tspan': tspan, 'gamma': gamma, 'tau': tau, 'sigma': sigma})"
   ]
  },
  {
   "cell_type": "code",
   "execution_count": null,
   "metadata": {},
   "outputs": [
    {
     "data": {
      "text/plain": [
       "((101,), (4097,), (101,))"
      ]
     },
     "execution_count": 5,
     "metadata": {},
     "output_type": "execute_result"
    }
   ],
   "source": [
    "import numpy as np\n",
    "\n",
    "# Parameters\n",
    "N = 10                              # number of realizations to generate\n",
    "gamma, tau, sigma = 4, 5, 25**2     # parameters for the Gaussian random field\n",
    "visc = 0.01                         # viscosity\n",
    "s, steps, nn = 4096, 100, 101       # grid size\n",
    "\n",
    "inputs = np.zeros((N, nn))\n",
    "if steps == 1:\n",
    "    outputs = np.zeros((N, s))\n",
    "else:\n",
    "    outputs = np.zeros((N, steps, nn))\n",
    "    \n",
    "tspan = np.linspace(0, 1, steps + 1)    # time\n",
    "x = np.linspace(0, 1, s + 1)            # grid\n",
    "X = np.linspace(0, 1, nn)\n",
    "\n",
    "# Radom function from N(m, C) on [0 1]\n",
    "# C = sigma^2(-Delta + tau^2 I)^(-gamma) with periodic, zero dirichlet, and zero neumann boundary\n",
    "# Dirichlet only supports m = 0\n",
    "# N is the # of Fourier modes, usually, grid size / 2.\n",
    "# def GRF(N, m, gamma, tau, sigma, type):\n"
   ]
  }
 ],
 "metadata": {
  "kernelspec": {
   "display_name": "pytorch",
   "language": "python",
   "name": "python3"
  },
  "language_info": {
   "codemirror_mode": {
    "name": "ipython",
    "version": 3
   },
   "file_extension": ".py",
   "mimetype": "text/x-python",
   "name": "python",
   "nbconvert_exporter": "python",
   "pygments_lexer": "ipython3",
   "version": "3.10.13"
  }
 },
 "nbformat": 4,
 "nbformat_minor": 2
}
