{
 "cells": [
  {
   "cell_type": "code",
   "execution_count": 1,
   "metadata": {},
   "outputs": [],
   "source": [
    "import numpy as np\n",
    "import scipy.io"
   ]
  },
  {
   "cell_type": "code",
   "execution_count": null,
   "metadata": {},
   "outputs": [],
   "source": [
    "# Gaussian Random Field (GRF) function\n",
    "def GRF(N, m, gamma, tau, sigma, type):\n",
    "    if type == \"dirichlet\":\n",
    "        m = 0\n",
    "\n",
    "    my_const = 2 * np.pi if type == \"periodic\" else np.pi\n",
    "    my_eigs = np.sqrt(2) * (np.abs(sigma) * ((my_const * np.arange(1, N + 1))**2 + tau**2)**(-gamma / 2))\n",
    "\n",
    "    if type == \"dirichlet\":\n",
    "        alpha = np.zeros(N)\n",
    "    else:\n",
    "        xi_alpha = np.random.randn(N)\n",
    "        alpha = my_eigs * xi_alpha\n",
    "\n",
    "    if type == \"neumann\":\n",
    "        beta = np.zeros(N)\n",
    "    else:\n",
    "        xi_beta = np.random.randn(N)\n",
    "        beta = my_eigs * xi_beta\n",
    "\n",
    "    a = alpha / 2\n",
    "    b = -beta / 2\n",
    "\n",
    "    c = np.concatenate([np.flipud(a) - np.flipud(b) * 1j, [m + 0j], a + b * 1j])\n",
    "\n",
    "    # Simplified chebfun-like function for demonstration\n",
    "    def chebfun(x, c):\n",
    "        return np.polynomial.chebyshev.chebval(x, c)\n",
    "\n",
    "    if type == \"periodic\":\n",
    "        uu = chebfun(np.linspace(0, 1, N), c)\n",
    "        u = lambda t: uu(t - 0.5)\n",
    "    else:\n",
    "        uu = chebfun(np.linspace(-np.pi, np.pi, N), c)\n",
    "        u = lambda t: uu(np.pi * t)\n",
    "\n",
    "    return u"
   ]
  },
  {
   "cell_type": "code",
   "execution_count": null,
   "metadata": {},
   "outputs": [],
   "source": [
    "# Burgers' equation solver (simplified version)\n",
    "def burgers(init, tspan, s, visc):\n",
    "    def lin(t, u):\n",
    "        return visc * np.gradient(np.gradient(u))\n",
    "\n",
    "    def nonlin(t, u):\n",
    "        return -0.5 * np.gradient(u**2)\n",
    "\n",
    "    def rhs(t, u):\n",
    "        return lin(t, u) + nonlin(t, u)\n",
    "\n",
    "    t_eval = np.linspace(tspan[0], tspan[1], s)\n",
    "    sol = solve_ivp(rhs, tspan, init, t_eval=t_eval, method='RK45')\n",
    "    return sol.y"
   ]
  },
  {
   "cell_type": "code",
   "execution_count": null,
   "metadata": {},
   "outputs": [],
   "source": [
    "# Parameters\n",
    "N = 10\n",
    "gamma = 4\n",
    "tau = 5\n",
    "sigma = 25**2\n",
    "visc = 0.01\n",
    "s = 4096\n",
    "steps = 100\n",
    "nn = 101\n",
    "\n",
    "input_data = np.zeros((N, nn))\n",
    "if steps == 1:\n",
    "    output_data = np.zeros((N, s))\n",
    "else:\n",
    "    output_data = np.zeros((N, steps, nn))\n",
    "\n",
    "tspan = np.linspace(0, 1, steps + 1)\n",
    "x = np.linspace(0, 1, s + 1)\n",
    "X = np.linspace(0, 1, nn)\n",
    "\n",
    "for j in range(N):\n",
    "    u0 = GRF(s // 2, 0, gamma, tau, sigma, \"periodic\")\n",
    "    u = burgers(u0(X), tspan, s, visc)\n",
    "\n",
    "    u0_eval = u0(X)\n",
    "    input_data[j, :] = u0_eval\n",
    "\n",
    "    if steps == 1:\n",
    "        output_data[j, :] = u\n",
    "    else:\n",
    "        for k in range(steps + 1):\n",
    "            output_data[j, k, :] = u[k](X)\n",
    "\n",
    "    print(j)\n",
    "\n",
    "# Save results to a .mat file\n",
    "scipy.io.savemat('Burger.mat', {'input': input_data, 'output': output_data, 'tspan': tspan, 'gamma': gamma, 'tau': tau, 'sigma': sigma})\n"
   ]
  }
 ],
 "metadata": {
  "kernelspec": {
   "display_name": "pytorch",
   "language": "python",
   "name": "python3"
  },
  "language_info": {
   "codemirror_mode": {
    "name": "ipython",
    "version": 3
   },
   "file_extension": ".py",
   "mimetype": "text/x-python",
   "name": "python",
   "nbconvert_exporter": "python",
   "pygments_lexer": "ipython3",
   "version": "3.10.13"
  }
 },
 "nbformat": 4,
 "nbformat_minor": 2
}
