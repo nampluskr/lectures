{
 "cells": [
  {
   "cell_type": "markdown",
   "metadata": {},
   "source": [
    "## GAN: CIFAR10"
   ]
  },
  {
   "cell_type": "code",
   "execution_count": 1,
   "metadata": {},
   "outputs": [],
   "source": [
    "import numpy as np\n",
    "import matplotlib.pyplot as plt\n",
    "\n",
    "import torch\n",
    "import torch.nn as nn\n",
    "import torch.optim as optim"
   ]
  },
  {
   "cell_type": "code",
   "execution_count": 2,
   "metadata": {},
   "outputs": [],
   "source": [
    "def set_seed(seed):\n",
    "    np.random.seed(seed)\n",
    "    torch.manual_seed(seed)\n",
    "    if torch.cuda.is_available():\n",
    "        torch.cuda.manual_seed(seed)\n",
    "        \n",
    "device = torch.device(\"cuda\" if torch.cuda.is_available() else \"cpu\")"
   ]
  },
  {
   "cell_type": "markdown",
   "metadata": {},
   "source": [
    "### Data"
   ]
  },
  {
   "cell_type": "code",
   "execution_count": 3,
   "metadata": {},
   "outputs": [
    {
     "name": "stdout",
     "output_type": "stream",
     "text": [
      ">> Train images: (50000, 32, 32, 3), uint8\n",
      ">> Train labels: (50000,), int64\n",
      ">> Test images:  (10000, 32, 32, 3), uint8\n",
      ">> Test labels:  (10000,), int64\n"
     ]
    }
   ],
   "source": [
    "import os\n",
    "import numpy as np\n",
    "import pickle\n",
    "\n",
    "def unpickle(filename):\n",
    "    # tar -zxvf cifar-10-python.tar.gz\n",
    "    with open(filename, 'rb') as f:\n",
    "        data = pickle.load(f, encoding='bytes')\n",
    "\n",
    "    x = np.array(data[b'data']).reshape(-1, 3, 32, 32).transpose(0, 2, 3, 1)\n",
    "    y = np.array(data[b'labels'])\n",
    "    return x, y\n",
    "\n",
    "\n",
    "def load_cifar10(data_dir):\n",
    "    batch_files = [os.path.join(data_dir, f\"data_batch_{i+1}\") for i in range(5)]\n",
    "    test_file = os.path.join(data_dir, \"test_batch\")\n",
    "\n",
    "    images, labels = [], []\n",
    "    for filename in batch_files:\n",
    "        x, y = unpickle(filename)\n",
    "        images.append(x)\n",
    "        labels.append(y)\n",
    "\n",
    "    x_train = np.concatenate(images, axis=0)\n",
    "    y_train = np.concatenate(labels, axis=0)\n",
    "\n",
    "    x_test, y_test = unpickle(test_file)\n",
    "    return (x_train, y_train), (x_test, y_test)\n",
    "\n",
    "# data_dir = r\"D:\\datasets\\cifar10_178M\\cifar-10-batches-py\"    ## windows\n",
    "data_dir = \"/mnt/d/datasets/cifar10_178M/cifar-10-batches-py\"   ## wsl\n",
    "(x_train, y_train), (x_test, y_test) = load_cifar10(data_dir)\n",
    "\n",
    "print(f\">> Train images: {x_train.shape}, {x_train.dtype}\")\n",
    "print(f\">> Train labels: {y_train.shape}, {y_train.dtype}\")\n",
    "print(f\">> Test images:  {x_test.shape}, {x_test.dtype}\")\n",
    "print(f\">> Test labels:  {y_test.shape}, {y_test.dtype}\")"
   ]
  },
  {
   "cell_type": "code",
   "execution_count": 4,
   "metadata": {},
   "outputs": [
    {
     "name": "stdout",
     "output_type": "stream",
     "text": [
      ">> x: torch.Size([32, 3, 32, 32]), torch.float32, min=-1.0, max=1.0\n",
      ">> y: torch.Size([32]), torch.int64, min=0, max=9\n"
     ]
    }
   ],
   "source": [
    "from torch.utils.data import Dataset, DataLoader\n",
    "import torchvision.transforms as transforms\n",
    "\n",
    "class CIFAR10(Dataset):\n",
    "    def __init__(self, images, labels, transform=None):\n",
    "        self.images = images\n",
    "        self.labels = labels\n",
    "        self.transform = transform\n",
    "\n",
    "    def __len__(self):\n",
    "        return len(self.images)\n",
    "\n",
    "    def __getitem__(self, idx):\n",
    "        image = self.images[idx]\n",
    "        label = self.labels[idx]\n",
    "\n",
    "        if self.transform:\n",
    "            image = self.transform(image)\n",
    "\n",
    "        label = torch.tensor(label).long()\n",
    "        return image, label\n",
    "\n",
    "transform_train = transforms.Compose([\n",
    "    # transforms.ToPILImage(),\n",
    "    # transforms.RandomHorizontalFlip(0.3),\n",
    "    # transforms.RandomVerticalFlip(0.3),\n",
    "    transforms.ToTensor(),\n",
    "    transforms.Normalize([0.5, 0.5, 0.5], [0.5, 0.5, 0.5]),\n",
    "])\n",
    "\n",
    "transform_test = transforms.Compose([\n",
    "    transforms.ToTensor(),\n",
    "    transforms.Normalize([0.5, 0.5, 0.5], [0.5, 0.5, 0.5]),\n",
    "])\n",
    "\n",
    "train_dataset = CIFAR10(x_train, y_train, transform=transform_train)\n",
    "test_dataset = CIFAR10(x_test, y_test, transform=transform_test)\n",
    "\n",
    "batch_size = 32\n",
    "train_loader = DataLoader(train_dataset, batch_size=batch_size, shuffle=True)\n",
    "test_loader = DataLoader(test_dataset, batch_size=batch_size, shuffle=False)\n",
    "\n",
    "x, y = next(iter(train_loader))\n",
    "print(f\">> x: {x.shape}, {x.dtype}, min={x.min()}, max={x.max()}\")\n",
    "print(f\">> y: {y.shape}, {y.dtype}, min={y.min()}, max={y.max()}\")"
   ]
  },
  {
   "cell_type": "markdown",
   "metadata": {},
   "source": [
    "### Modeling"
   ]
  },
  {
   "cell_type": "code",
   "execution_count": 11,
   "metadata": {},
   "outputs": [],
   "source": [
    "class Generator(nn.Module):\n",
    "    def __init__(self, in_channels, out_channels=3, n_classes=10):\n",
    "        super().__init__()\n",
    "        self.n_classes = n_classes\n",
    "        self.embedding_dim = 32\n",
    "        self.embedding = nn.Embedding(self.n_classes, self.embedding_dim)\n",
    "        self.generator = nn.Sequential(\n",
    "            nn.ConvTranspose2d(in_channels + self.embedding_dim, 512, 4, 1, 0, bias=False),\n",
    "            nn.BatchNorm2d(512),\n",
    "            nn.ReLU(True),\n",
    "            nn.ConvTranspose2d(512, 256, 4, 2, 1, bias=False),\n",
    "            nn.BatchNorm2d(256),\n",
    "            nn.ReLU(True),\n",
    "            nn.ConvTranspose2d(256, 128, 4, 2, 1, bias=False),\n",
    "            nn.BatchNorm2d(128),\n",
    "            nn.ReLU(True),\n",
    "            nn.ConvTranspose2d(128, out_channels, 4, 2, 1, bias=False),\n",
    "        )\n",
    "\n",
    "    def forward(self, noises, labels):\n",
    "        labels_embedding = self.embedding(labels).view(-1, self.embedding_dim, 1, 1)\n",
    "        inputs = torch.cat([noises, labels_embedding], dim=1)\n",
    "        images = self.generator(inputs)\n",
    "        return torch.tanh(images)\n",
    "\n",
    "class Discriminator(nn.Module):\n",
    "    def __init__(self, in_channels=3, out_channels=1, n_classes=10):\n",
    "        super().__init__()\n",
    "        self.n_classes = n_classes\n",
    "        self.embedding_dim = 32\n",
    "        self.embedding = nn.Sequential(\n",
    "            nn.Embedding(self.n_classes, self.embedding_dim),\n",
    "            nn.Linear(self.embedding_dim, 1*32*32),\n",
    "        )\n",
    "        self.discriminator = nn.Sequential(\n",
    "            nn.Conv2d(in_channels + 1, 128, 4, 2, 1, bias=False),\n",
    "            nn.BatchNorm2d(128),\n",
    "            nn.LeakyReLU(0.2, inplace=True),\n",
    "            nn.Conv2d(128, 256, 4, 2, 1, bias=False),\n",
    "            nn.BatchNorm2d(256),\n",
    "            nn.LeakyReLU(0.2, inplace=True),\n",
    "            nn.Conv2d(256, 512, 4, 2, 1, bias=False),\n",
    "            nn.BatchNorm2d(512),\n",
    "            nn.LeakyReLU(0.2, inplace=True),\n",
    "            nn.Conv2d(512, out_channels, 4, 1, 0, bias=False),\n",
    "            nn.Flatten(),\n",
    "        )\n",
    "\n",
    "    def forward(self, images, labels):\n",
    "        labels_embedding = self.embedding(labels).view(-1, 1, 32, 32)\n",
    "        inputs = torch.cat([images, labels_embedding], dim=1)\n",
    "        outputs = self.discriminator(inputs)\n",
    "        return torch.sigmoid(outputs)"
   ]
  },
  {
   "cell_type": "markdown",
   "metadata": {},
   "source": [
    "### Training"
   ]
  },
  {
   "cell_type": "code",
   "execution_count": 14,
   "metadata": {},
   "outputs": [],
   "source": [
    "import sys\n",
    "from tqdm import tqdm\n",
    "from torchvision.utils import save_image\n",
    "\n",
    "## Hyperparameters\n",
    "set_seed(42)\n",
    "n_epochs = 5\n",
    "learning_rate = 2e-4\n",
    "noise_size = 100\n",
    "step_size = 1\n",
    "\n",
    "n_classes = 10\n",
    "n_outputs = 100\n",
    "output_name = \"cifar10_cgan\"\n",
    "\n",
    "## Modeling\n",
    "modelG = Generator(in_channels=noise_size, out_channels=3, n_classes=10).to(device)\n",
    "modelD = Discriminator(in_channels=3, out_channels=1, n_classes=10).to(device)\n",
    "\n",
    "loss_fn = nn.BCELoss()\n",
    "optimizerD = optim.Adam(modelD.parameters(), lr=learning_rate, betas=(0.5, 0.999))\n",
    "optimizerG = optim.Adam(modelG.parameters(), lr=learning_rate, betas=(0.5, 0.999))\n",
    "\n",
    "## Training\n",
    "fixed_noises = torch.randn(n_outputs, noise_size, 1, 1).to(device)\n",
    "fixed_labels = torch.arange(n_classes).repeat(n_outputs // n_classes, 1).view(-1).to(device)\n",
    "output_dir = '/mnt/d/github/lectures-1/test/cifar10/output_cgan'\n",
    "output_path = os.path.join(output_dir, f\"{output_name}_0.png\")\n",
    "output_images = modelG(fixed_noises, fixed_labels)\n",
    "save_image(output_images, output_path, nrow=10, normalize=True)"
   ]
  },
  {
   "cell_type": "code",
   "execution_count": 17,
   "metadata": {},
   "outputs": [
    {
     "name": "stdout",
     "output_type": "stream",
     "text": [
      "[  1/5] loss_r: 2.76e-01 loss_f: 1.06e+00 loss_g: 5.32e-01                                                     \n",
      "[  2/5] loss_r: 1.54e-01 loss_f: 9.50e-01 loss_g: 6.31e-01                                                     \n",
      "[  3/5] loss_r: 1.31e-01 loss_f: 9.23e-01 loss_g: 6.48e-01                                                     \n",
      "[  4/5] loss_r: 1.24e-01 loss_f: 9.15e-01 loss_g: 6.55e-01                                                     \n",
      "[  5/5] loss_r: 1.24e-01 loss_f: 9.15e-01 loss_g: 6.57e-01                                                     \n"
     ]
    }
   ],
   "source": [
    "for epoch in range(1, n_epochs + 1):\n",
    "    with tqdm(train_loader, leave=False, file=sys.stdout, dynamic_ncols=True, ascii=True) as pbar:\n",
    "        train_loss_r, train_loss_f, train_loss_g = 0, 0, 0\n",
    "        for i, (real_images, labels) in enumerate(pbar):\n",
    "            batch_size = len(real_images)\n",
    "            real_labels = torch.ones((batch_size, 1)).to(device)\n",
    "            fake_labels = torch.zeros((batch_size, 1)).to(device)\n",
    "            noises = torch.randn(batch_size, noise_size, 1, 1).to(device)\n",
    "            labels = labels.to(device)\n",
    "            real_images = real_images.to(device)\n",
    "            fake_images = modelG(noises, labels)\n",
    "\n",
    "            ## Training Discriminator\n",
    "            pred_r = modelD(real_images, labels)\n",
    "            loss_r = loss_fn(pred_r, real_labels)\n",
    "            loss_r.backward()\n",
    "\n",
    "            pred_f = modelD(fake_images.detach(), labels)\n",
    "            loss_f = loss_fn(pred_f, fake_labels)\n",
    "            loss_f.backward()\n",
    "\n",
    "            optimizerD.step()\n",
    "            optimizerD.zero_grad()\n",
    "\n",
    "            # Training Generator\n",
    "            pred_g = modelD(fake_images, labels)\n",
    "            loss_g = loss_fn(pred_g, real_labels)\n",
    "            loss_g.backward()\n",
    "\n",
    "            optimizerG.step()\n",
    "            optimizerG.zero_grad()\n",
    "            \n",
    "            train_loss_r += loss_r.item()\n",
    "            train_loss_f += loss_f.item()\n",
    "            train_loss_g += loss_g.item()\n",
    "\n",
    "            desc = f\"[{epoch:3d}/{n_epochs}] loss_r: {train_loss_r/(i + 1):.2e} \" \\\n",
    "                   f\"loss_f: {train_loss_f/(i + 1):.2e} loss_g: {train_loss_g/(i + 1):.2e}\"\n",
    "\n",
    "            if i % 10 == 0:\n",
    "                pbar.set_description(desc)\n",
    "\n",
    "        if epoch % step_size == 0:\n",
    "            print(desc)\n",
    "            output_images = modelG(fixed_noises, fixed_labels)\n",
    "            output_path = os.path.join(output_dir, f\"{output_name}_{epoch}.png\")\n",
    "            save_image(output_images, output_path, nrow=10, normalize=True)"
   ]
  },
  {
   "cell_type": "markdown",
   "metadata": {},
   "source": [
    "### Evaluation"
   ]
  },
  {
   "cell_type": "code",
   "execution_count": 35,
   "metadata": {},
   "outputs": [],
   "source": [
    "# def denormalize(img, mean=0.5, std=0.5):\n",
    "#     normalize = transforms.Normalize([-mean/std], [1/std])\n",
    "#     res = normalize(img)\n",
    "#     res = torch.clamp(res, 0, 1)\n",
    "#     return res\n",
    "\n",
    "# # set_seed(111)\n",
    "# fixed_noises = torch.randn(n_outputs, latent_dim, 1, 1).to(device)\n",
    "# with torch.no_grad():\n",
    "#     output_images = modelG(fixed_noises)\n",
    "\n",
    "# images = denormalize(output_images)\n",
    "# images = images.cpu().detach().permute(0, 2, 3, 1).squeeze()\n",
    "# rows = [np.concatenate(images[i*10:(i+1)*10], axis=1) for i in range(10)]\n",
    "# grid = np.concatenate(rows, axis=0)\n",
    "\n",
    "# fig, ax = plt.subplots(figsize=(5, 5))\n",
    "# ax.imshow(grid, cmap=\"gray_r\")\n",
    "# ax.set_axis_off()\n",
    "# fig.tight_layout()\n",
    "# plt.show()\n",
    "\n",
    "# images.shape"
   ]
  }
 ],
 "metadata": {
  "kernelspec": {
   "display_name": "pytorch",
   "language": "python",
   "name": "python3"
  },
  "language_info": {
   "codemirror_mode": {
    "name": "ipython",
    "version": 3
   },
   "file_extension": ".py",
   "mimetype": "text/x-python",
   "name": "python",
   "nbconvert_exporter": "python",
   "pygments_lexer": "ipython3",
   "version": "3.10.13"
  }
 },
 "nbformat": 4,
 "nbformat_minor": 2
}
