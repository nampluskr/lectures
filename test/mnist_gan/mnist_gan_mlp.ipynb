{
 "cells": [
  {
   "cell_type": "markdown",
   "metadata": {},
   "source": [
    "## GAN: MNIST"
   ]
  },
  {
   "cell_type": "code",
   "execution_count": 8,
   "metadata": {},
   "outputs": [],
   "source": [
    "import numpy as np\n",
    "import matplotlib.pyplot as plt\n",
    "\n",
    "import torch\n",
    "import torch.nn as nn\n",
    "import torch.optim as optim"
   ]
  },
  {
   "cell_type": "code",
   "execution_count": 9,
   "metadata": {},
   "outputs": [],
   "source": [
    "def set_seed(seed):\n",
    "    np.random.seed(seed)\n",
    "    torch.manual_seed(seed)\n",
    "    if torch.cuda.is_available():\n",
    "        torch.cuda.manual_seed(seed)\n",
    "        \n",
    "device = torch.device(\"cuda\" if torch.cuda.is_available() else \"cpu\")"
   ]
  },
  {
   "cell_type": "markdown",
   "metadata": {},
   "source": [
    "### Data"
   ]
  },
  {
   "cell_type": "code",
   "execution_count": 10,
   "metadata": {},
   "outputs": [
    {
     "name": "stdout",
     "output_type": "stream",
     "text": [
      ">> Train images: (60000, 28, 28), uint8\n",
      ">> Train labels: (60000,), uint8\n",
      ">> Test images:  (10000, 28, 28), uint8\n",
      ">> Test labels:  (10000,), uint8\n"
     ]
    }
   ],
   "source": [
    "import os\n",
    "import gzip\n",
    "\n",
    "def load_mnist_images(data_dir, filename):\n",
    "    data_path = os.path.join(data_dir, filename)\n",
    "    with gzip.open(data_path, 'rb') as f:\n",
    "        data = np.frombuffer(f.read(), np.uint8, offset=16)\n",
    "    return data.reshape(-1, 28, 28)\n",
    "\n",
    "def load_mnist_labels(data_dir, filename):\n",
    "    data_path = os.path.join(data_dir, filename)\n",
    "    with gzip.open(data_path, 'rb') as f:\n",
    "        data = np.frombuffer(f.read(), np.uint8, offset=8)\n",
    "    return data\n",
    "\n",
    "# data_dir = r\"D:\\datasets\\mnist_11M\"   ## windows\n",
    "data_dir = \"/mnt/d/datasets/mnist_11M\"  ## wsl\n",
    "\n",
    "x_train = load_mnist_images(data_dir, \"train-images-idx3-ubyte.gz\")\n",
    "y_train = load_mnist_labels(data_dir, \"train-labels-idx1-ubyte.gz\")\n",
    "x_test = load_mnist_images(data_dir, \"t10k-images-idx3-ubyte.gz\")\n",
    "y_test = load_mnist_labels(data_dir, \"t10k-labels-idx1-ubyte.gz\")\n",
    "\n",
    "print(f\">> Train images: {x_train.shape}, {x_train.dtype}\")\n",
    "print(f\">> Train labels: {y_train.shape}, {y_train.dtype}\")\n",
    "print(f\">> Test images:  {x_test.shape}, {x_test.dtype}\")\n",
    "print(f\">> Test labels:  {y_test.shape}, {y_test.dtype}\")"
   ]
  },
  {
   "cell_type": "code",
   "execution_count": 11,
   "metadata": {},
   "outputs": [
    {
     "name": "stdout",
     "output_type": "stream",
     "text": [
      ">> x: torch.Size([64, 1, 28, 28]), torch.float32, min=-1.0, max=1.0\n",
      ">> y: torch.Size([64]), torch.int64, min=0, max=9\n"
     ]
    }
   ],
   "source": [
    "from torch.utils.data import Dataset, DataLoader\n",
    "import torchvision.transforms as transforms\n",
    "\n",
    "class MNIST(Dataset):\n",
    "    def __init__(self, images, labels, transform=None):\n",
    "        self.images = images.reshape(-1, 28, 28, 1)\n",
    "        self.labels = labels\n",
    "        self.transform = transform\n",
    "        \n",
    "    def __len__(self):\n",
    "        return len(self.images)\n",
    "    \n",
    "    def __getitem__(self, idx):\n",
    "        image = self.images[idx]\n",
    "        label = self.labels[idx]\n",
    "        \n",
    "        if self.transform:\n",
    "            image = self.transform(image)\n",
    "\n",
    "        label = torch.tensor(label).long()\n",
    "        return image, label\n",
    "\n",
    "transform = transforms.Compose([\n",
    "    transforms.ToTensor(),\n",
    "    transforms.Normalize([0.5], [0.5]),\n",
    "])\n",
    "\n",
    "train_loader = DataLoader(MNIST(x_train, y_train, transform=transform), \n",
    "                          batch_size=64, shuffle=True)\n",
    "test_loader = DataLoader(MNIST(x_test, y_test, transform=transform), \n",
    "                         batch_size=64, shuffle=True)\n",
    "\n",
    "x, y = next(iter(train_loader))\n",
    "print(f\">> x: {x.shape}, {x.dtype}, min={x.min()}, max={x.max()}\")\n",
    "print(f\">> y: {y.shape}, {y.dtype}, min={y.min()}, max={y.max()}\")"
   ]
  },
  {
   "cell_type": "markdown",
   "metadata": {},
   "source": [
    "### Modeling"
   ]
  },
  {
   "cell_type": "code",
   "execution_count": 15,
   "metadata": {},
   "outputs": [],
   "source": [
    "class Generator(nn.Module):\n",
    "    def __init__(self, input_size, output_size, bias=True):\n",
    "        super().__init__()\n",
    "        self.generator = nn.Sequential(\n",
    "            nn.Linear(input_size, 256, bias=bias),\n",
    "            nn.BatchNorm1d(256),\n",
    "            nn.ReLU(inplace=True),\n",
    "            nn.Linear(256, 256, bias=bias),\n",
    "            nn.BatchNorm1d(256),\n",
    "            nn.ReLU(inplace=True),\n",
    "            nn.Linear(256, 256, bias=bias),\n",
    "            nn.BatchNorm1d(256),\n",
    "            nn.ReLU(inplace=True),\n",
    "            nn.Linear(256, output_size, bias=bias),)\n",
    "\n",
    "    def forward(self, noises):\n",
    "        images = self.generator(noises)\n",
    "        images = images.view(-1, 1, 28, 28)\n",
    "        return torch.tanh(images)\n",
    "\n",
    "class Discriminator(nn.Module):\n",
    "    def __init__(self, input_size, output_size, bias=True):\n",
    "        super().__init__()\n",
    "        self.discriminator = nn.Sequential(\n",
    "            nn.Linear(input_size, 256, bias=bias),\n",
    "            nn.LeakyReLU(0.2, inplace=True),\n",
    "            nn.Linear(256, 256, bias=bias),\n",
    "            nn.LeakyReLU(0.2, inplace=True),\n",
    "            nn.Linear(256, 256, bias=bias),\n",
    "            nn.LeakyReLU(0.2, inplace=True),\n",
    "            nn.Linear(256, output_size, bias=bias),)\n",
    "\n",
    "    def forward(self, images):\n",
    "        images = images.view(-1, 28*28)\n",
    "        outputs = self.discriminator(images)\n",
    "        return torch.sigmoid(outputs)"
   ]
  },
  {
   "cell_type": "markdown",
   "metadata": {},
   "source": [
    "### Training"
   ]
  },
  {
   "cell_type": "code",
   "execution_count": 18,
   "metadata": {},
   "outputs": [],
   "source": [
    "import sys\n",
    "from torchvision.utils import save_image\n",
    "from tqdm import tqdm\n",
    "\n",
    "## Hyperparameters\n",
    "set_seed(42)\n",
    "n_epochs = 10\n",
    "learning_rate = 2e-4\n",
    "step_size = 2\n",
    "noise_size = 64\n",
    "\n",
    "n_outputs = 100\n",
    "output_name = \"mnist_gan_mlp\"\n",
    "\n",
    "## Modeling\n",
    "modelG = Generator(input_size=noise_size, output_size=28*28).to(device)\n",
    "modelD = Discriminator(input_size=28*28, output_size=1).to(device)\n",
    "\n",
    "loss_fn = nn.BCELoss()\n",
    "optimizerD = optim.Adam(modelD.parameters(), lr=learning_rate, betas=(0.5, 0.999))\n",
    "optimizerG = optim.Adam(modelG.parameters(), lr=learning_rate, betas=(0.5, 0.999))\n",
    "\n",
    "## Training\n",
    "fixed_noises = torch.randn(n_outputs, noise_size).to(device)\n",
    "output_dir = '/mnt/d/github/lectures-1/test/mnist_gan/output_gan'\n",
    "output_images = modelG(fixed_noises)\n",
    "output_path = os.path.join(output_dir, f\"{output_name}_0.png\")\n",
    "save_image(output_images, output_path, nrow=10, normalize=True)"
   ]
  },
  {
   "cell_type": "code",
   "execution_count": 19,
   "metadata": {},
   "outputs": [
    {
     "name": "stdout",
     "output_type": "stream",
     "text": [
      "[  2/10] loss_r: 2.67e-01 loss_f: 1.01e+00 loss_g: 5.05e-01                                                   \n",
      "[  4/10] loss_r: 2.91e-01 loss_f: 1.03e+00 loss_g: 4.95e-01                                                   \n",
      "[  6/10] loss_r: 3.08e-01 loss_f: 1.04e+00 loss_g: 4.85e-01                                                   \n",
      "[  8/10] loss_r: 3.19e-01 loss_f: 1.05e+00 loss_g: 4.76e-01                                                   \n",
      "[ 10/10] loss_r: 3.27e-01 loss_f: 1.06e+00 loss_g: 4.70e-01                                                   \n"
     ]
    }
   ],
   "source": [
    "for epoch in range(1, n_epochs + 1):\n",
    "    with tqdm(train_loader, leave=False, file=sys.stdout, dynamic_ncols=True, ascii=True) as pbar:\n",
    "        train_loss_r, train_loss_f, train_loss_g = 0, 0, 0\n",
    "        for i, (real_images, _) in enumerate(pbar):\n",
    "            batch_size = len(real_images)\n",
    "            real_labels = torch.ones((batch_size, 1)).to(device)\n",
    "            fake_labels = torch.zeros((batch_size, 1)).to(device)\n",
    "            noises = torch.randn(batch_size, noise_size).to(device)\n",
    "            real_images = real_images.to(device)\n",
    "            fake_images = modelG(noises)\n",
    "\n",
    "            ## Training Discriminator\n",
    "            pred_r = modelD(real_images)\n",
    "            loss_r = loss_fn(pred_r, real_labels)\n",
    "            loss_r.backward()\n",
    "\n",
    "            pred_f = modelD(fake_images.detach())\n",
    "            loss_f = loss_fn(pred_f, fake_labels)\n",
    "            loss_f.backward()\n",
    "\n",
    "            optimizerD.step()\n",
    "            optimizerD.zero_grad()\n",
    "\n",
    "            # Training Generator\n",
    "            pred_g = modelD(fake_images)\n",
    "            loss_g = loss_fn(pred_g, real_labels)\n",
    "            loss_g.backward()\n",
    "\n",
    "            optimizerG.step()\n",
    "            optimizerG.zero_grad()\n",
    "            \n",
    "            train_loss_r += loss_r.item()\n",
    "            train_loss_f += loss_f.item()\n",
    "            train_loss_g += loss_g.item()\n",
    "\n",
    "            desc = f\"[{epoch:3d}/{n_epochs}] loss_r: {train_loss_r/(i + 1):.2e} \" \\\n",
    "                   f\"loss_f: {train_loss_f/(i + 1):.2e} loss_g: {train_loss_g/(i + 1):.2e}\"\n",
    "\n",
    "            if i % 10 == 0:\n",
    "                pbar.set_description(desc)\n",
    "\n",
    "        if epoch % step_size == 0:\n",
    "            print(desc)\n",
    "            output_images = modelG(fixed_noises)\n",
    "            output_path = os.path.join(output_dir, f\"{output_name}_{epoch}.png\")\n",
    "            save_image(output_images, output_path, nrow=10, normalize=True)"
   ]
  }
 ],
 "metadata": {
  "kernelspec": {
   "display_name": "pytorch",
   "language": "python",
   "name": "python3"
  },
  "language_info": {
   "codemirror_mode": {
    "name": "ipython",
    "version": 3
   },
   "file_extension": ".py",
   "mimetype": "text/x-python",
   "name": "python",
   "nbconvert_exporter": "python",
   "pygments_lexer": "ipython3",
   "version": "3.10.13"
  }
 },
 "nbformat": 4,
 "nbformat_minor": 2
}
