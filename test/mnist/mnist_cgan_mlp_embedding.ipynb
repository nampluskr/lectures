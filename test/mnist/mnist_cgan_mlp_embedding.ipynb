{
 "cells": [
  {
   "cell_type": "markdown",
   "metadata": {},
   "source": [
    "## GAN: MNIST"
   ]
  },
  {
   "cell_type": "code",
   "execution_count": 1,
   "metadata": {},
   "outputs": [],
   "source": [
    "import numpy as np\n",
    "import matplotlib.pyplot as plt\n",
    "\n",
    "import torch\n",
    "import torch.nn as nn\n",
    "import torch.optim as optim"
   ]
  },
  {
   "cell_type": "code",
   "execution_count": 2,
   "metadata": {},
   "outputs": [],
   "source": [
    "def set_seed(seed):\n",
    "    np.random.seed(seed)\n",
    "    torch.manual_seed(seed)\n",
    "    if torch.cuda.is_available():\n",
    "        torch.cuda.manual_seed(seed)\n",
    "        \n",
    "device = torch.device(\"cuda\" if torch.cuda.is_available() else \"cpu\")"
   ]
  },
  {
   "cell_type": "markdown",
   "metadata": {},
   "source": [
    "### Data"
   ]
  },
  {
   "cell_type": "code",
   "execution_count": 3,
   "metadata": {},
   "outputs": [
    {
     "name": "stdout",
     "output_type": "stream",
     "text": [
      ">> Train images: (60000, 28, 28), uint8\n",
      ">> Train labels: (60000,), uint8\n",
      ">> Test images:  (10000, 28, 28), uint8\n",
      ">> Test labels:  (10000,), uint8\n"
     ]
    }
   ],
   "source": [
    "import os\n",
    "import gzip\n",
    "\n",
    "def load_mnist_images(data_dir, filename):\n",
    "    data_path = os.path.join(data_dir, filename)\n",
    "    with gzip.open(data_path, 'rb') as f:\n",
    "        data = np.frombuffer(f.read(), np.uint8, offset=16)\n",
    "    return data.reshape(-1, 28, 28)\n",
    "\n",
    "def load_mnist_labels(data_dir, filename):\n",
    "    data_path = os.path.join(data_dir, filename)\n",
    "    with gzip.open(data_path, 'rb') as f:\n",
    "        data = np.frombuffer(f.read(), np.uint8, offset=8)\n",
    "    return data\n",
    "\n",
    "# data_dir = r\"D:\\datasets\\mnist_11M\"   ## windows\n",
    "data_dir = \"/mnt/d/datasets/mnist_11M\"  ## wsl\n",
    "\n",
    "x_train = load_mnist_images(data_dir, \"train-images-idx3-ubyte.gz\")\n",
    "y_train = load_mnist_labels(data_dir, \"train-labels-idx1-ubyte.gz\")\n",
    "x_test = load_mnist_images(data_dir, \"t10k-images-idx3-ubyte.gz\")\n",
    "y_test = load_mnist_labels(data_dir, \"t10k-labels-idx1-ubyte.gz\")\n",
    "\n",
    "print(f\">> Train images: {x_train.shape}, {x_train.dtype}\")\n",
    "print(f\">> Train labels: {y_train.shape}, {y_train.dtype}\")\n",
    "print(f\">> Test images:  {x_test.shape}, {x_test.dtype}\")\n",
    "print(f\">> Test labels:  {y_test.shape}, {y_test.dtype}\")"
   ]
  },
  {
   "cell_type": "code",
   "execution_count": 4,
   "metadata": {},
   "outputs": [
    {
     "name": "stdout",
     "output_type": "stream",
     "text": [
      ">> x: torch.Size([64, 1, 28, 28]), torch.float32, min=-1.0, max=1.0\n",
      ">> y: torch.Size([64]), torch.int64, min=0, max=9\n"
     ]
    },
    {
     "name": "stderr",
     "output_type": "stream",
     "text": [
      "/home/nam/anaconda3/envs/pytorch/lib/python3.10/site-packages/torchvision/transforms/functional.py:154: UserWarning: The given NumPy array is not writable, and PyTorch does not support non-writable tensors. This means writing to this tensor will result in undefined behavior. You may want to copy the array to protect its data or make it writable before converting it to a tensor. This type of warning will be suppressed for the rest of this program. (Triggered internally at ../torch/csrc/utils/tensor_numpy.cpp:206.)\n",
      "  img = torch.from_numpy(pic.transpose((2, 0, 1))).contiguous()\n"
     ]
    }
   ],
   "source": [
    "from torch.utils.data import Dataset, DataLoader\n",
    "import torchvision.transforms as transforms\n",
    "\n",
    "class MNIST(Dataset):\n",
    "    def __init__(self, images, labels, transform=None):\n",
    "        self.images = images.reshape(-1, 28, 28, 1)\n",
    "        self.labels = labels\n",
    "        self.transform = transform\n",
    "        \n",
    "    def __len__(self):\n",
    "        return len(self.images)\n",
    "    \n",
    "    def __getitem__(self, idx):\n",
    "        image = self.images[idx]\n",
    "        label = self.labels[idx]\n",
    "        \n",
    "        if self.transform:\n",
    "            image = self.transform(image)\n",
    "\n",
    "        label = torch.tensor(label).long()\n",
    "        return image, label\n",
    "\n",
    "transform = transforms.Compose([\n",
    "    transforms.ToTensor(),\n",
    "    transforms.Normalize([0.5], [0.5]),\n",
    "])\n",
    "\n",
    "train_loader = DataLoader(MNIST(x_train, y_train, transform=transform), \n",
    "                          batch_size=64, shuffle=True)\n",
    "test_loader = DataLoader(MNIST(x_test, y_test, transform=transform), \n",
    "                         batch_size=64, shuffle=True)\n",
    "\n",
    "x, y = next(iter(train_loader))\n",
    "print(f\">> x: {x.shape}, {x.dtype}, min={x.min()}, max={x.max()}\")\n",
    "print(f\">> y: {y.shape}, {y.dtype}, min={y.min()}, max={y.max()}\")"
   ]
  },
  {
   "cell_type": "markdown",
   "metadata": {},
   "source": [
    "### Modeling"
   ]
  },
  {
   "cell_type": "code",
   "execution_count": 7,
   "metadata": {},
   "outputs": [],
   "source": [
    "class Generator(nn.Module):\n",
    "    def __init__(self, input_size, output_size, n_classes, bias=True):\n",
    "        super().__init__()\n",
    "        self.n_classes = n_classes\n",
    "        self.embedding_dim = 16\n",
    "        self.embedding = nn.Embedding(self.n_classes, self.embedding_dim)\n",
    "        self.generator = nn.Sequential(\n",
    "            nn.Linear(input_size + self.embedding_dim, 256, bias=bias),\n",
    "            nn.BatchNorm1d(256),\n",
    "            nn.ReLU(inplace=True),\n",
    "            nn.Linear(256, 256, bias=bias),\n",
    "            nn.BatchNorm1d(256),\n",
    "            nn.ReLU(inplace=True),\n",
    "            nn.Linear(256, 256, bias=bias),\n",
    "            nn.BatchNorm1d(256),\n",
    "            nn.ReLU(inplace=True),\n",
    "            nn.Linear(256, output_size, bias=bias),)\n",
    "\n",
    "    def forward(self, noises, labels):\n",
    "        labels_embedding = self.embedding(labels)\n",
    "        inputs = torch.cat([noises, labels_embedding], dim=1)\n",
    "        images = self.generator(inputs)\n",
    "        images = images.view(-1, 1, 28, 28)\n",
    "        return torch.tanh(images)\n",
    "\n",
    "class Discriminator(nn.Module):\n",
    "    def __init__(self, input_size, output_size, n_classes, bias=True):\n",
    "        super().__init__()\n",
    "        self.n_classes = n_classes\n",
    "        self.embedding_dim = 16\n",
    "        self.embedding = nn.Embedding(self.n_classes, self.embedding_dim)\n",
    "        self.discriminator = nn.Sequential(\n",
    "            nn.Linear(input_size + self.embedding_dim, 256, bias=bias),\n",
    "            nn.LeakyReLU(0.2, inplace=True),\n",
    "            nn.Linear(256, 256, bias=bias),\n",
    "            nn.LeakyReLU(0.2, inplace=True),\n",
    "            nn.Linear(256, 256, bias=bias),\n",
    "            nn.LeakyReLU(0.2, inplace=True),\n",
    "            nn.Linear(256, output_size, bias=bias),)\n",
    "\n",
    "    def forward(self, images, labels):\n",
    "        images = images.view(-1, 28*28)\n",
    "        labels_embedding = self.embedding(labels)\n",
    "        inputs = torch.cat([images, labels_embedding], dim=1)\n",
    "        outputs = self.discriminator(inputs)\n",
    "        return torch.sigmoid(outputs)"
   ]
  },
  {
   "cell_type": "markdown",
   "metadata": {},
   "source": [
    "### Training"
   ]
  },
  {
   "cell_type": "code",
   "execution_count": 8,
   "metadata": {},
   "outputs": [],
   "source": [
    "import sys\n",
    "from torchvision.utils import save_image\n",
    "from tqdm import tqdm\n",
    "\n",
    "## Hyperparameters\n",
    "set_seed(42)\n",
    "n_epochs = 10\n",
    "learning_rate = 2e-4\n",
    "step_size = 2\n",
    "noise_size = 64\n",
    "\n",
    "n_classes = 10\n",
    "n_outputs = 100\n",
    "output_name = \"mnist_cgan_mlp_embedding\"\n",
    "\n",
    "## Modeling\n",
    "modelG = Generator(input_size=noise_size, output_size=28*28, n_classes=n_classes).to(device)\n",
    "modelD = Discriminator(input_size=28*28, output_size=1, n_classes=n_classes).to(device)\n",
    "\n",
    "loss_fn = nn.BCELoss()\n",
    "optimizerD = optim.Adam(modelD.parameters(), lr=learning_rate, betas=(0.5, 0.999))\n",
    "optimizerG = optim.Adam(modelG.parameters(), lr=learning_rate, betas=(0.5, 0.999))\n",
    "\n",
    "## Training\n",
    "fixed_noises = torch.randn(n_outputs, noise_size).to(device)\n",
    "fixed_labels = torch.arange(n_classes).repeat(n_outputs // n_classes, 1).view(-1).to(device)\n",
    "output_dir = '/mnt/d/github/lectures-1/test/mnist/output_cgan'\n",
    "output_images = modelG(fixed_noises, fixed_labels)\n",
    "output_path = os.path.join(output_dir, f\"{output_name}_0.png\")\n",
    "save_image(output_images, output_path, nrow=10, normalize=True)"
   ]
  },
  {
   "cell_type": "code",
   "execution_count": 9,
   "metadata": {},
   "outputs": [
    {
     "name": "stdout",
     "output_type": "stream",
     "text": [
      "[  2/10] loss_r: 2.51e-01 loss_f: 9.93e-01 loss_g: 5.20e-01                                                   \n",
      "[  4/10] loss_r: 3.05e-01 loss_f: 1.03e+00 loss_g: 4.85e-01                                                   \n",
      "[  6/10] loss_r: 3.44e-01 loss_f: 1.07e+00 loss_g: 4.57e-01                                                   \n",
      "[  8/10] loss_r: 3.61e-01 loss_f: 1.08e+00 loss_g: 4.45e-01                                                   \n",
      "[ 10/10] loss_r: 3.72e-01 loss_f: 1.09e+00 loss_g: 4.36e-01                                                   \n"
     ]
    }
   ],
   "source": [
    "for epoch in range(1, n_epochs + 1):\n",
    "    with tqdm(train_loader, leave=False, file=sys.stdout, dynamic_ncols=True, ascii=True) as pbar:\n",
    "        train_loss_r, train_loss_f, train_loss_g = 0, 0, 0\n",
    "        for i, (real_images, labels) in enumerate(pbar):\n",
    "            batch_size = len(real_images)\n",
    "            real_labels = torch.ones((batch_size, 1)).to(device)\n",
    "            fake_labels = torch.zeros((batch_size, 1)).to(device)\n",
    "            noises = torch.randn(batch_size, noise_size).to(device)\n",
    "            real_images = real_images.to(device)\n",
    "            labels = labels.to(device)\n",
    "            fake_images = modelG(noises, labels)\n",
    "\n",
    "            ## Training Discriminator\n",
    "            pred_r = modelD(real_images, labels)\n",
    "            loss_r = loss_fn(pred_r, real_labels)\n",
    "            loss_r.backward()\n",
    "\n",
    "            pred_f = modelD(fake_images.detach(), labels)\n",
    "            loss_f = loss_fn(pred_f, fake_labels)\n",
    "            loss_f.backward()\n",
    "\n",
    "            optimizerD.step()\n",
    "            optimizerD.zero_grad()\n",
    "\n",
    "            # Training Generator\n",
    "            pred_g = modelD(fake_images, labels)\n",
    "            loss_g = loss_fn(pred_g, real_labels)\n",
    "            loss_g.backward()\n",
    "\n",
    "            optimizerG.step()\n",
    "            optimizerG.zero_grad()\n",
    "            \n",
    "            train_loss_r += loss_r.item()\n",
    "            train_loss_f += loss_f.item()\n",
    "            train_loss_g += loss_g.item()\n",
    "\n",
    "            desc = f\"[{epoch:3d}/{n_epochs}] loss_r: {train_loss_r/(i + 1):.2e} \" \\\n",
    "                   f\"loss_f: {train_loss_f/(i + 1):.2e} loss_g: {train_loss_g/(i + 1):.2e}\"\n",
    "\n",
    "            if i % 10 == 0:\n",
    "                pbar.set_description(desc)\n",
    "\n",
    "        if epoch % step_size == 0:\n",
    "            print(desc)\n",
    "            output_images = modelG(fixed_noises, fixed_labels)\n",
    "            output_path = os.path.join(output_dir, f\"{output_name}_{epoch}.png\")\n",
    "            save_image(output_images, output_path, nrow=10, normalize=True)"
   ]
  },
  {
   "cell_type": "markdown",
   "metadata": {},
   "source": [
    "## Evaluation"
   ]
  },
  {
   "cell_type": "code",
   "execution_count": 1,
   "metadata": {},
   "outputs": [
    {
     "ename": "NameError",
     "evalue": "name 'torch' is not defined",
     "output_type": "error",
     "traceback": [
      "\u001b[0;31m---------------------------------------------------------------------------\u001b[0m",
      "\u001b[0;31mNameError\u001b[0m                                 Traceback (most recent call last)",
      "Cell \u001b[0;32mIn[1], line 2\u001b[0m\n\u001b[1;32m      1\u001b[0m \u001b[38;5;66;03m# set_seed(111)\u001b[39;00m\n\u001b[0;32m----> 2\u001b[0m fixed_noises \u001b[38;5;241m=\u001b[39m \u001b[43mtorch\u001b[49m\u001b[38;5;241m.\u001b[39mrandn(n_outputs, noise_size)\u001b[38;5;241m.\u001b[39mto(device)\n\u001b[1;32m      3\u001b[0m fixed_labels \u001b[38;5;241m=\u001b[39m torch\u001b[38;5;241m.\u001b[39marange(n_classes)\u001b[38;5;241m.\u001b[39mrepeat(n_outputs \u001b[38;5;241m/\u001b[39m\u001b[38;5;241m/\u001b[39m n_classes, \u001b[38;5;241m1\u001b[39m)\u001b[38;5;241m.\u001b[39mview(\u001b[38;5;241m-\u001b[39m\u001b[38;5;241m1\u001b[39m)\u001b[38;5;241m.\u001b[39mto(device)\n\u001b[1;32m      4\u001b[0m \u001b[38;5;28;01mwith\u001b[39;00m torch\u001b[38;5;241m.\u001b[39mno_grad():\n",
      "\u001b[0;31mNameError\u001b[0m: name 'torch' is not defined"
     ]
    }
   ],
   "source": [
    "# set_seed(111)\n",
    "fixed_noises = torch.randn(n_outputs, noise_size).to(device)\n",
    "fixed_labels = torch.arange(n_classes).repeat(n_outputs // n_classes, 1).view(-1).to(device)\n",
    "with torch.no_grad():\n",
    "    output_images = modelG(fixed_noises, fixed_labels)\n",
    "\n",
    "images = output_images.cpu().detach().numpy().transpose(0, 2, 3, 1).squeeze()\n",
    "rows = [np.concatenate(images[i*10:(i+1)*10], axis=1) for i in range(10)]\n",
    "grid = np.concatenate(rows, axis=0)\n",
    "\n",
    "fig, ax = plt.subplots(figsize=(5, 5))\n",
    "ax.imshow(grid, cmap=\"gray_r\")\n",
    "ax.set_axis_off()\n",
    "fig.tight_layout()\n",
    "plt.show()"
   ]
  }
 ],
 "metadata": {
  "kernelspec": {
   "display_name": "pytorch",
   "language": "python",
   "name": "python3"
  },
  "language_info": {
   "codemirror_mode": {
    "name": "ipython",
    "version": 3
   },
   "file_extension": ".py",
   "mimetype": "text/x-python",
   "name": "python",
   "nbconvert_exporter": "python",
   "pygments_lexer": "ipython3",
   "version": "3.10.13"
  }
 },
 "nbformat": 4,
 "nbformat_minor": 2
}
