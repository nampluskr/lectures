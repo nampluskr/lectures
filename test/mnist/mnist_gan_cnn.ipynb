{
 "cells": [
  {
   "cell_type": "markdown",
   "metadata": {},
   "source": [
    "## GAN: MNIST"
   ]
  },
  {
   "cell_type": "code",
   "execution_count": 1,
   "metadata": {},
   "outputs": [],
   "source": [
    "import numpy as np\n",
    "import matplotlib.pyplot as plt\n",
    "\n",
    "import torch\n",
    "import torch.nn as nn\n",
    "import torch.optim as optim"
   ]
  },
  {
   "cell_type": "code",
   "execution_count": 2,
   "metadata": {},
   "outputs": [],
   "source": [
    "def set_seed(seed):\n",
    "    np.random.seed(seed)\n",
    "    torch.manual_seed(seed)\n",
    "    if torch.cuda.is_available():\n",
    "        torch.cuda.manual_seed(seed)\n",
    "        \n",
    "device = torch.device(\"cuda\" if torch.cuda.is_available() else \"cpu\")"
   ]
  },
  {
   "cell_type": "markdown",
   "metadata": {},
   "source": [
    "### Data"
   ]
  },
  {
   "cell_type": "code",
   "execution_count": 3,
   "metadata": {},
   "outputs": [
    {
     "name": "stdout",
     "output_type": "stream",
     "text": [
      ">> Train images: (60000, 28, 28), uint8\n",
      ">> Train labels: (60000,), uint8\n",
      ">> Test images:  (10000, 28, 28), uint8\n",
      ">> Test labels:  (10000,), uint8\n"
     ]
    }
   ],
   "source": [
    "import os\n",
    "import gzip\n",
    "\n",
    "def load_mnist_images(data_dir, filename):\n",
    "    data_path = os.path.join(data_dir, filename)\n",
    "    with gzip.open(data_path, 'rb') as f:\n",
    "        data = np.frombuffer(f.read(), np.uint8, offset=16)\n",
    "    return data.reshape(-1, 28, 28)\n",
    "\n",
    "def load_mnist_labels(data_dir, filename):\n",
    "    data_path = os.path.join(data_dir, filename)\n",
    "    with gzip.open(data_path, 'rb') as f:\n",
    "        data = np.frombuffer(f.read(), np.uint8, offset=8)\n",
    "    return data\n",
    "\n",
    "# data_dir = r\"D:\\datasets\\mnist_11M\"   ## windows\n",
    "data_dir = \"/mnt/d/datasets/mnist_11M\"  ## wsl\n",
    "\n",
    "x_train = load_mnist_images(data_dir, \"train-images-idx3-ubyte.gz\")\n",
    "y_train = load_mnist_labels(data_dir, \"train-labels-idx1-ubyte.gz\")\n",
    "x_test = load_mnist_images(data_dir, \"t10k-images-idx3-ubyte.gz\")\n",
    "y_test = load_mnist_labels(data_dir, \"t10k-labels-idx1-ubyte.gz\")\n",
    "\n",
    "print(f\">> Train images: {x_train.shape}, {x_train.dtype}\")\n",
    "print(f\">> Train labels: {y_train.shape}, {y_train.dtype}\")\n",
    "print(f\">> Test images:  {x_test.shape}, {x_test.dtype}\")\n",
    "print(f\">> Test labels:  {y_test.shape}, {y_test.dtype}\")"
   ]
  },
  {
   "cell_type": "code",
   "execution_count": 4,
   "metadata": {},
   "outputs": [
    {
     "name": "stdout",
     "output_type": "stream",
     "text": [
      ">> x: torch.Size([64, 1, 28, 28]), torch.float32, min=-1.0, max=1.0\n",
      ">> y: torch.Size([64]), torch.int64, min=0, max=9\n"
     ]
    },
    {
     "name": "stderr",
     "output_type": "stream",
     "text": [
      "/home/nam/anaconda3/envs/pytorch/lib/python3.10/site-packages/torchvision/transforms/functional.py:154: UserWarning: The given NumPy array is not writable, and PyTorch does not support non-writable tensors. This means writing to this tensor will result in undefined behavior. You may want to copy the array to protect its data or make it writable before converting it to a tensor. This type of warning will be suppressed for the rest of this program. (Triggered internally at ../torch/csrc/utils/tensor_numpy.cpp:206.)\n",
      "  img = torch.from_numpy(pic.transpose((2, 0, 1))).contiguous()\n"
     ]
    }
   ],
   "source": [
    "from torch.utils.data import DataLoader\n",
    "import torchvision.transforms as transforms\n",
    "\n",
    "class Dataset(torch.utils.data.Dataset):\n",
    "    def __init__(self, images, labels, transform=None):\n",
    "        self.images = images.reshape(-1, 28, 28, 1)\n",
    "        self.labels = labels\n",
    "        self.transform = transform\n",
    "        \n",
    "    def __len__(self):\n",
    "        return len(self.images)\n",
    "    \n",
    "    def __getitem__(self, idx):\n",
    "        image = self.images[idx]\n",
    "        label = self.labels[idx]\n",
    "        \n",
    "        if self.transform:\n",
    "            image = self.transform(image)\n",
    "\n",
    "        label = torch.tensor(label).long()\n",
    "        return image, label\n",
    "\n",
    "transform = transforms.Compose([\n",
    "    transforms.ToTensor(),\n",
    "    transforms.Normalize([0.5], [0.5]),\n",
    "])\n",
    "\n",
    "train_loader = DataLoader(Dataset(x_train, y_train, transform=transform), \n",
    "                          batch_size=64, shuffle=True)\n",
    "test_loader = DataLoader(Dataset(x_test, y_test, transform=transform), \n",
    "                         batch_size=64, shuffle=True)\n",
    "\n",
    "x, y = next(iter(train_loader))\n",
    "print(f\">> x: {x.shape}, {x.dtype}, min={x.min()}, max={x.max()}\")\n",
    "print(f\">> y: {y.shape}, {y.dtype}, min={y.min()}, max={y.max()}\")"
   ]
  },
  {
   "cell_type": "markdown",
   "metadata": {},
   "source": [
    "### Modeling"
   ]
  },
  {
   "cell_type": "code",
   "execution_count": 29,
   "metadata": {},
   "outputs": [],
   "source": [
    "class Generator(nn.Module):\n",
    "    def __init__(self, in_channels, out_channels=1, bias=False):\n",
    "        super().__init__()\n",
    "        self.generator = nn.Sequential(\n",
    "            nn.ConvTranspose2d(in_channels, 512, 4, 1, 0, bias=bias),\n",
    "            nn.BatchNorm2d(512),\n",
    "            nn.ReLU(inplace=True),\n",
    "            nn.ConvTranspose2d(512, 256, 4, 2, 1, bias=bias),\n",
    "            nn.BatchNorm2d(256),\n",
    "            nn.ReLU(inplace=True),\n",
    "            nn.ConvTranspose2d(256, 128, 4, 2, 1, bias=bias),\n",
    "            nn.BatchNorm2d(128),\n",
    "            nn.ReLU(inplace=True),\n",
    "            nn.ConvTranspose2d(128, 64, 4, 2, 1, bias=bias),\n",
    "            nn.BatchNorm2d(64),\n",
    "            nn.ReLU(inplace=True),\n",
    "            nn.ConvTranspose2d(64, out_channels, 1, 1, 2, bias=bias),)\n",
    "\n",
    "    def forward(self, x):\n",
    "        x = self.generator(x)\n",
    "        return torch.tanh(x)\n",
    "\n",
    "class Discriminator(nn.Module):\n",
    "    def __init__(self, in_channels=1, out_channels=1, bias=False):\n",
    "        super().__init__()\n",
    "        self.discriminator = nn.Sequential(\n",
    "            nn.Conv2d(in_channels, 64, 4, 2, 1, bias=bias),\n",
    "            nn.BatchNorm2d(64),\n",
    "            nn.LeakyReLU(0.2, inplace=True),\n",
    "            nn.Conv2d(64, 128, 4, 2, 1, bias=bias),\n",
    "            nn.BatchNorm2d(128),\n",
    "            nn.LeakyReLU(0.2, inplace=True),\n",
    "            nn.Conv2d(128, 256, 4, 2, 1, bias=bias),\n",
    "            nn.BatchNorm2d(256),\n",
    "            nn.LeakyReLU(0.2, inplace=True),\n",
    "            nn.Conv2d(256, out_channels, 4, 2, 1, bias=bias),\n",
    "            nn.Flatten(),)\n",
    "\n",
    "    def forward(self, x):\n",
    "        x = self.discriminator(x)\n",
    "        return torch.sigmoid(x)"
   ]
  },
  {
   "cell_type": "markdown",
   "metadata": {},
   "source": [
    "### Training"
   ]
  },
  {
   "cell_type": "code",
   "execution_count": null,
   "metadata": {},
   "outputs": [],
   "source": [
    "import sys\n",
    "from tqdm import tqdm\n",
    "from torchvision.utils import save_image\n",
    "\n",
    "## Hyperparameters\n",
    "set_seed(42)\n",
    "n_epochs = 50\n",
    "learning_rate = 2e-4\n",
    "step_size = 5\n",
    "noise_size = 64\n",
    "\n",
    "n_outputs = 100\n",
    "output_name = \"gan_cnn_4layer\"\n",
    "\n",
    "## Modeling\n",
    "modelG = Generator(in_channels=noise_size, out_channels=1).to(device)\n",
    "modelD = Discriminator(in_channels=1, out_channels=1).to(device)\n",
    "\n",
    "loss_fn = nn.BCELoss()\n",
    "optimizerD = optim.Adam(modelD.parameters(), lr=learning_rate, betas=(0.5, 0.999))\n",
    "optimizerG = optim.Adam(modelG.parameters(), lr=learning_rate, betas=(0.5, 0.999))\n",
    "\n",
    "## Training\n",
    "fixed_noise = torch.randn(n_outputs, noise_size, 1, 1).to(device)\n",
    "output_dir = '/mnt/d/github/lectures-1/test/mnist/output_gan'\n",
    "output_images = modelG(fixed_noise)\n",
    "save_image(output_images, os.path.join(output_dir, f\"{output_name}_0.png\"), nrow=10)"
   ]
  },
  {
   "cell_type": "code",
   "execution_count": 35,
   "metadata": {},
   "outputs": [
    {
     "name": "stdout",
     "output_type": "stream",
     "text": [
      "[  5/50] loss_r: 3.63e-01 loss_f: 1.09e+00 loss_g: 4.47e-01                                                    \n",
      "[ 10/50] loss_r: 3.77e-01 loss_f: 1.10e+00 loss_g: 4.34e-01                                                     \n",
      "[ 15/50] loss_r: 3.86e-01 loss_f: 1.10e+00 loss_g: 4.26e-01                                                    \n",
      "[ 20/50] loss_r: 3.88e-01 loss_f: 1.10e+00 loss_g: 4.23e-01                                                    \n",
      "[ 25/50] loss_r: 3.86e-01 loss_f: 1.10e+00 loss_g: 4.24e-01                                                    \n",
      "[ 30/50] loss_r: 3.82e-01 loss_f: 1.09e+00 loss_g: 4.28e-01                                                    \n",
      "[ 35/50] loss_r: 3.75e-01 loss_f: 1.09e+00 loss_g: 4.34e-01                                                    \n",
      "[ 40/50] loss_r: 3.66e-01 loss_f: 1.09e+00 loss_g: 4.41e-01                                                    \n",
      "[ 45/50] loss_r: 3.56e-01 loss_f: 1.08e+00 loss_g: 4.50e-01                                                    \n",
      "[ 50/50] loss_r: 3.43e-01 loss_f: 1.08e+00 loss_g: 4.60e-01                                                    \n"
     ]
    }
   ],
   "source": [
    "for epoch in range(1, n_epochs + 1):\n",
    "    with tqdm(train_loader, leave=False, file=sys.stdout, dynamic_ncols=True, ascii=True) as pbar:\n",
    "        train_loss_r, train_loss_f, train_loss_g = 0, 0, 0\n",
    "        for i, (real_images, _) in enumerate(pbar):\n",
    "            batch_size = len(real_images)\n",
    "            real_labels = torch.ones((batch_size, 1)).to(device)\n",
    "            fake_labels = torch.zeros((batch_size, 1)).to(device)\n",
    "            noise = torch.randn(batch_size, noise_size, 1, 1).to(device)\n",
    "            real_images = real_images.to(device)\n",
    "            fake_images = modelG(noise)\n",
    "\n",
    "            ## Training Discriminator\n",
    "            pred_r = modelD(real_images)\n",
    "            loss_r = loss_fn(pred_r, real_labels)\n",
    "            loss_r.backward()\n",
    "\n",
    "            pred_f = modelD(fake_images.detach())\n",
    "            loss_f = loss_fn(pred_f, fake_labels)\n",
    "            loss_f.backward()\n",
    "\n",
    "            optimizerD.step()\n",
    "            optimizerD.zero_grad()\n",
    "\n",
    "            # Training Generator\n",
    "            pred_g = modelD(fake_images)\n",
    "            loss_g = loss_fn(pred_g, real_labels)\n",
    "            loss_g.backward()\n",
    "\n",
    "            optimizerG.step()\n",
    "            optimizerG.zero_grad()\n",
    "            \n",
    "            train_loss_r += loss_r.item()\n",
    "            train_loss_f += loss_f.item()\n",
    "            train_loss_g += loss_g.item()\n",
    "\n",
    "            desc = f\"[{epoch:3d}/{n_epochs}] loss_r: {train_loss_r/(i + 1):.2e} \" \\\n",
    "                   f\"loss_f: {train_loss_f/(i + 1):.2e} loss_g: {train_loss_g/(i + 1):.2e}\"\n",
    "\n",
    "            if i % 10 == 0:\n",
    "                pbar.set_description(desc)\n",
    "\n",
    "        if epoch % step_size == 0:\n",
    "            print(desc)\n",
    "            output_images = modelG(fixed_noise)\n",
    "            save_image(output_images, os.path.join(output_dir, f\"{output_name}_{epoch}.png\"), nrow=10)"
   ]
  }
 ],
 "metadata": {
  "kernelspec": {
   "display_name": "pytorch",
   "language": "python",
   "name": "python3"
  },
  "language_info": {
   "codemirror_mode": {
    "name": "ipython",
    "version": 3
   },
   "file_extension": ".py",
   "mimetype": "text/x-python",
   "name": "python",
   "nbconvert_exporter": "python",
   "pygments_lexer": "ipython3",
   "version": "3.10.13"
  }
 },
 "nbformat": 4,
 "nbformat_minor": 2
}
